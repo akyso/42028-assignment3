{
 "cells": [
  {
   "cell_type": "markdown",
   "metadata": {
    "colab_type": "text",
    "id": "VO1vAxiRz5D3"
   },
   "source": [
    "https://medium.com/@14prakash/transfer-learning-using-keras-d804b2e04ef8\n",
    "https://towardsdatascience.com/keras-transfer-learning-for-beginners-6c9b8b7143e\n",
    "https://www.pyimagesearch.com/2019/05/20/transfer-learning-with-keras-and-deep-learning/"
   ]
  },
  {
   "cell_type": "markdown",
   "metadata": {
    "colab_type": "text",
    "id": "cwmn6evHtgjV"
   },
   "source": [
    "# Import Packages"
   ]
  },
  {
   "cell_type": "code",
   "execution_count": 1,
   "metadata": {
    "colab": {
     "base_uri": "https://localhost:8080/",
     "height": 51
    },
    "colab_type": "code",
    "executionInfo": {
     "elapsed": 923,
     "status": "ok",
     "timestamp": 1559819820139,
     "user": {
      "displayName": "Anthony So",
      "photoUrl": "",
      "userId": "03884734268114843291"
     },
     "user_tz": -600
    },
    "id": "6D6fjBe6tZFq",
    "outputId": "37dc5cc3-c56a-4236-dab5-85f0d72e8c2a"
   },
   "outputs": [
    {
     "name": "stdout",
     "output_type": "stream",
     "text": [
      "1.13.1\n",
      "2.2.4-tf\n"
     ]
    }
   ],
   "source": [
    "import tensorflow as tf\n",
    "import tensorflow.keras as keras\n",
    "\n",
    "print(tf.__version__)\n",
    "print(tf.keras.__version__)"
   ]
  },
  {
   "cell_type": "code",
   "execution_count": 2,
   "metadata": {
    "colab": {},
    "colab_type": "code",
    "id": "7OZ-WJZcz5D_"
   },
   "outputs": [],
   "source": [
    "import json\n",
    "import pandas as pd\n",
    "import numpy as np\n",
    "import glob\n",
    "import os\n",
    "import spacy\n",
    "import h5py\n"
   ]
  },
  {
   "cell_type": "markdown",
   "metadata": {
    "colab_type": "text",
    "id": "TLdqpj8stfxR"
   },
   "source": [
    "# Mount Google Drive"
   ]
  },
  {
   "cell_type": "code",
   "execution_count": 34,
   "metadata": {
    "colab": {
     "base_uri": "https://localhost:8080/",
     "height": 34
    },
    "colab_type": "code",
    "executionInfo": {
     "elapsed": 1096,
     "status": "ok",
     "timestamp": 1559819824287,
     "user": {
      "displayName": "Anthony So",
      "photoUrl": "",
      "userId": "03884734268114843291"
     },
     "user_tz": -600
    },
    "id": "pu2gVWX4tf5I",
    "outputId": "5510c34b-4a5a-4d45-905e-998e87957510"
   },
   "outputs": [
    {
     "name": "stdout",
     "output_type": "stream",
     "text": [
      "Drive already mounted at /content/gdrive; to attempt to forcibly remount, call drive.mount(\"/content/gdrive\", force_remount=True).\n"
     ]
    }
   ],
   "source": [
    "from google.colab import drive\n",
    "drive.mount('/content/gdrive')"
   ]
  },
  {
   "cell_type": "code",
   "execution_count": 0,
   "metadata": {
    "colab": {
     "base_uri": "https://localhost:8080/",
     "height": 34
    },
    "colab_type": "code",
    "executionInfo": {
     "elapsed": 2996,
     "status": "ok",
     "timestamp": 1559774654651,
     "user": {
      "displayName": "Anthony So",
      "photoUrl": "",
      "userId": "03884734268114843291"
     },
     "user_tz": -600
    },
    "id": "6KSDAWrbz5EE",
    "outputId": "778c5ece-e151-4573-def3-98718d18bcc8"
   },
   "outputs": [
    {
     "data": {
      "text/plain": [
       "'/content'"
      ]
     },
     "execution_count": 4,
     "metadata": {
      "tags": []
     },
     "output_type": "execute_result"
    }
   ],
   "source": [
    "%pwd"
   ]
  },
  {
   "cell_type": "code",
   "execution_count": 0,
   "metadata": {
    "colab": {},
    "colab_type": "code",
    "id": "Df9A8Z5HtrI8"
   },
   "outputs": [],
   "source": [
    "%mkdir /content/gdrive/My Drive/42028-DL-CNN/\n",
    "%mkdir /content/gdrive/My Drive/42028-DL-CNN/Assignment3/"
   ]
  },
  {
   "cell_type": "code",
   "execution_count": 3,
   "metadata": {
    "colab": {
     "base_uri": "https://localhost:8080/",
     "height": 255
    },
    "colab_type": "code",
    "executionInfo": {
     "elapsed": 2908,
     "status": "ok",
     "timestamp": 1559819829621,
     "user": {
      "displayName": "Anthony So",
      "photoUrl": "",
      "userId": "03884734268114843291"
     },
     "user_tz": -600
    },
    "id": "fLy70oHEtqLY",
    "outputId": "91e1fcd1-a9ca-468a-b07e-0abf3400730e"
   },
   "outputs": [
    {
     "name": "stdout",
     "output_type": "stream",
     "text": [
      "/home/anthony/Projects/42028-assignment3\n",
      "\u001b[0m\u001b[01;31mAnnotations_Train_mscoco.zip\u001b[0m  Pipfile.lock                \u001b[01;31mtrain2014.zip\u001b[0m\r\n",
      "\u001b[01;31mAnnotations_Val_mscoco.zip\u001b[0m    \u001b[01;34mpredict\u001b[0m/                    train_set_index.csv\r\n",
      "app.py                        \u001b[01;34m__pycache__\u001b[0m/                \u001b[01;34muploads\u001b[0m/\r\n",
      "\u001b[01;34mdata\u001b[0m/                         \u001b[01;31mQuestions_Train_mscoco.zip\u001b[0m  \u001b[01;31mval2014.zip\u001b[0m\r\n",
      "\u001b[01;34mmodels\u001b[0m/                       \u001b[01;31mQuestions_Val_mscoco.zip\u001b[0m    val_set_index.csv\r\n",
      "\u001b[01;34mmodel_training\u001b[0m/               README.md                   \u001b[01;34mVQA\u001b[0m/\r\n",
      "\u001b[01;34mnotebooks\u001b[0m/                    settings.py\r\n",
      "Pipfile                       \u001b[01;34mtemplates\u001b[0m/\r\n"
     ]
    }
   ],
   "source": [
    "%cd /home/anthony/Projects/42028-assignment3/\n",
    "#cd /content/gdrive/My Drive/42028-DL-CNN/Assignment3/\n",
    "%ls"
   ]
  },
  {
   "cell_type": "markdown",
   "metadata": {
    "colab_type": "text",
    "heading_collapsed": true,
    "id": "PKjWEbEzt64R"
   },
   "source": [
    "# Download COCO Images"
   ]
  },
  {
   "cell_type": "code",
   "execution_count": 0,
   "metadata": {
    "colab": {},
    "colab_type": "code",
    "hidden": true,
    "id": "VFbwK06Lt69f"
   },
   "outputs": [],
   "source": [
    "%mkdir \"/content/gdrive/My Drive/42028-DL-CNN/Assignment3/data\"\n",
    "%mkdir \"/content/gdrive/My Drive/42028-DL-CNN/Assignment3/data/coco\"\n",
    "%mkdir \"/content/gdrive/My Drive/42028-DL-CNN/Assignment3/data/coco/images\"\n",
    "%mkdir \"/content/gdrive/My Drive/42028-DL-CNN/Assignment3/data/coco/annotations\""
   ]
  },
  {
   "cell_type": "code",
   "execution_count": 0,
   "metadata": {
    "colab": {},
    "colab_type": "code",
    "hidden": true,
    "id": "8nD3FyD56Ya6"
   },
   "outputs": [],
   "source": [
    "%ls"
   ]
  },
  {
   "cell_type": "code",
   "execution_count": 0,
   "metadata": {
    "colab": {
     "base_uri": "https://localhost:8080/",
     "height": 237910,
     "output_embedded_package_id": "1D3HZQXumQWYXSeL2wfJpyQfYVRzHAedq"
    },
    "colab_type": "code",
    "executionInfo": {
     "elapsed": 5058187,
     "status": "ok",
     "timestamp": 1559479390666,
     "user": {
      "displayName": "Anthony So",
      "photoUrl": "",
      "userId": "03884734268114843291"
     },
     "user_tz": -600
    },
    "hidden": true,
    "id": "dTutKqVeuDpH",
    "outputId": "d17b63e5-4aa5-41a1-d865-89fd6fdbf729"
   },
   "outputs": [
    {
     "data": {
      "text/plain": [
       "Output hidden; open in https://colab.research.google.com to view."
      ]
     },
     "metadata": {},
     "output_type": "display_data"
    }
   ],
   "source": [
    "!wget http://images.cocodataset.org/zips/train2014.zip && unzip train2014.zip -d data/coco/images\n",
    "!wget http://images.cocodataset.org/zips/val2014.zip && unzip val2014.zip -d data/coco/images"
   ]
  },
  {
   "cell_type": "code",
   "execution_count": 0,
   "metadata": {
    "colab": {},
    "colab_type": "code",
    "hidden": true,
    "id": "uvFJ5shduDuL"
   },
   "outputs": [],
   "source": [
    "!wget http://images.cocodataset.org/annotations/annotations_trainval2014.zip && unzip annotations_trainval2014.zip -d data/coco/annotations"
   ]
  },
  {
   "cell_type": "markdown",
   "metadata": {
    "colab_type": "text",
    "id": "kv9HMQNM1qUB"
   },
   "source": [
    "# Prepare Training and Validation Dataframes"
   ]
  },
  {
   "cell_type": "code",
   "execution_count": 0,
   "metadata": {
    "colab": {},
    "colab_type": "code",
    "id": "9Y9WmOAXz5EY"
   },
   "outputs": [],
   "source": [
    "sampling = False"
   ]
  },
  {
   "cell_type": "markdown",
   "metadata": {
    "colab_type": "text",
    "id": "hemRHHArBHAk"
   },
   "source": [
    "## Prepare Val"
   ]
  },
  {
   "cell_type": "markdown",
   "metadata": {
    "colab_type": "text",
    "id": "UTw0Wr9DItLw"
   },
   "source": [
    "### Load Annotations file and extract filename, categories"
   ]
  },
  {
   "cell_type": "code",
   "execution_count": 0,
   "metadata": {
    "colab": {},
    "colab_type": "code",
    "id": "2wgviw-W1qiP"
   },
   "outputs": [],
   "source": [
    "#with open('data/coco/annotations/instances_val2014.json') as json_file:  \n",
    "with open('data/coco/annotations/annotations/instances_val2014.json') as json_file:  \n",
    "    data = json.load(json_file)\n",
    "    \n",
    "images_df = pd.DataFrame(data['images'])\n",
    "annotations_df = pd.DataFrame(data['annotations'])\n",
    "categories_df = pd.DataFrame(data['categories'])\n",
    "images_df = images_df[['file_name','height','id','width']]\n",
    "annotations_df = annotations_df[['category_id','image_id']]\n",
    "categories_df = categories_df[['id', 'name']]\n",
    "\n",
    "val_set = annotations_df.merge(images_df, how='left', left_on='image_id', right_on='id').drop('id', axis=1)\n",
    "val_set = val_set.merge(categories_df, how='left', left_on='category_id', right_on='id').drop('id', axis=1)"
   ]
  },
  {
   "cell_type": "markdown",
   "metadata": {
    "colab_type": "text",
    "id": "EvaEi-q7Iq8f"
   },
   "source": [
    "### Remove missing images from directory"
   ]
  },
  {
   "cell_type": "code",
   "execution_count": 13,
   "metadata": {
    "colab": {},
    "colab_type": "code",
    "id": "sTy4sZ0NeuAf"
   },
   "outputs": [],
   "source": [
    "def list_images_from_dir(path):\n",
    "  img_list = glob.glob(path + '/*.jpg')\n",
    "  img_list = [img.replace(path, '') for img in img_list]\n",
    "  print(len(img_list))\n",
    "  return img_list\n",
    "\n",
    "def remove_missing_images(df, col_name, img_list):\n",
    "  return df[df[col_name].isin(img_list)]"
   ]
  },
  {
   "cell_type": "code",
   "execution_count": 87,
   "metadata": {
    "colab": {
     "base_uri": "https://localhost:8080/",
     "height": 34
    },
    "colab_type": "code",
    "executionInfo": {
     "elapsed": 914,
     "status": "ok",
     "timestamp": 1559820435944,
     "user": {
      "displayName": "Anthony So",
      "photoUrl": "",
      "userId": "03884734268114843291"
     },
     "user_tz": -600
    },
    "id": "xALARoApwhSw",
    "outputId": "3de41d64-d10b-4ca0-e961-d91d8239d538"
   },
   "outputs": [
    {
     "name": "stdout",
     "output_type": "stream",
     "text": [
      "40504\n"
     ]
    }
   ],
   "source": [
    "val_dir = \"data/coco/images/val2014/\"\n",
    "\n",
    "val_images = list_images_from_dir(val_dir)"
   ]
  },
  {
   "cell_type": "code",
   "execution_count": 51,
   "metadata": {
    "colab": {
     "base_uri": "https://localhost:8080/",
     "height": 34
    },
    "colab_type": "code",
    "executionInfo": {
     "elapsed": 1101,
     "status": "ok",
     "timestamp": 1559819972232,
     "user": {
      "displayName": "Anthony So",
      "photoUrl": "",
      "userId": "03884734268114843291"
     },
     "user_tz": -600
    },
    "id": "OGK-YXzX3gre",
    "outputId": "cc74f07d-0028-4554-cb5f-cf70f85bdd0d"
   },
   "outputs": [
    {
     "data": {
      "text/plain": [
       "((291875, 6), 80)"
      ]
     },
     "execution_count": 51,
     "metadata": {
      "tags": []
     },
     "output_type": "execute_result"
    }
   ],
   "source": [
    "val_set = remove_missing_images(val_set, 'file_name', val_images)\n",
    "\n",
    "val_set.shape, val_set['name'].nunique()"
   ]
  },
  {
   "cell_type": "markdown",
   "metadata": {
    "colab_type": "text",
    "id": "8jf-uR32QPE9"
   },
   "source": [
    "### Sampling"
   ]
  },
  {
   "cell_type": "code",
   "execution_count": 0,
   "metadata": {
    "colab": {
     "base_uri": "https://localhost:8080/",
     "height": 34
    },
    "colab_type": "code",
    "executionInfo": {
     "elapsed": 684,
     "status": "ok",
     "timestamp": 1559798790836,
     "user": {
      "displayName": "Anthony So",
      "photoUrl": "",
      "userId": "03884734268114843291"
     },
     "user_tz": -600
    },
    "id": "nZFW2540QPE4",
    "outputId": "ac5c148d-616a-43f6-9785-5f9c9bb3293a"
   },
   "outputs": [
    {
     "data": {
      "text/plain": [
       "(127148, 6)"
      ]
     },
     "execution_count": 46,
     "metadata": {
      "tags": []
     },
     "output_type": "execute_result"
    }
   ],
   "source": [
    "cat_list = ['person', 'car', 'book', 'bottle', 'cup']\n",
    "val_set = val_set[val_set['name'].isin(cat_list)]\n",
    "val_set.shape"
   ]
  },
  {
   "cell_type": "code",
   "execution_count": 0,
   "metadata": {
    "colab": {
     "base_uri": "https://localhost:8080/",
     "height": 34
    },
    "colab_type": "code",
    "executionInfo": {
     "elapsed": 948,
     "status": "ok",
     "timestamp": 1559798805985,
     "user": {
      "displayName": "Anthony So",
      "photoUrl": "",
      "userId": "03884734268114843291"
     },
     "user_tz": -600
    },
    "id": "Yak7evxgQPEw",
    "outputId": "2c2e7630-f011-4e52-e6c0-dc335c34561f"
   },
   "outputs": [
    {
     "data": {
      "text/plain": [
       "((50, 6), 5)"
      ]
     },
     "execution_count": 49,
     "metadata": {
      "tags": []
     },
     "output_type": "execute_result"
    }
   ],
   "source": [
    "if sampling:\n",
    "    all_val_set = val_set.copy()\n",
    "    val_set = val_set.sample(50)\n",
    "    val_set.to_csv(\"val_set_index.csv\")\n",
    "#else:\n",
    "#    val_index = pd.read_csv(\"val_set_index.csv\")\n",
    "#    val_index = val_index.iloc[:, 0]\n",
    "#    val_set = val_set.iloc[val_index.to_list(),]\n",
    "val_set.shape, val_set['name'].nunique()"
   ]
  },
  {
   "cell_type": "code",
   "execution_count": 0,
   "metadata": {
    "colab": {
     "base_uri": "https://localhost:8080/",
     "height": 34
    },
    "colab_type": "code",
    "executionInfo": {
     "elapsed": 686,
     "status": "ok",
     "timestamp": 1559798807487,
     "user": {
      "displayName": "Anthony So",
      "photoUrl": "",
      "userId": "03884734268114843291"
     },
     "user_tz": -600
    },
    "id": "XHTyAFQ5QPEn",
    "outputId": "b2894fac-9b87-4d77-9e08-23ac5e150ca3"
   },
   "outputs": [
    {
     "data": {
      "text/plain": [
       "(5, array(['person', 'cup', 'car', 'bottle', 'book'], dtype=object))"
      ]
     },
     "execution_count": 50,
     "metadata": {
      "tags": []
     },
     "output_type": "execute_result"
    }
   ],
   "source": [
    "val_set['name'].nunique(), val_set['name'].unique()"
   ]
  },
  {
   "cell_type": "markdown",
   "metadata": {
    "colab_type": "text",
    "heading_collapsed": true,
    "id": "QWwukZMxJOQp"
   },
   "source": [
    "## Prepare train"
   ]
  },
  {
   "cell_type": "markdown",
   "metadata": {
    "colab_type": "text",
    "hidden": true,
    "id": "WO29VoWVHhCN"
   },
   "source": [
    "### Load Annotations file and extract filename, categories"
   ]
  },
  {
   "cell_type": "code",
   "execution_count": 0,
   "metadata": {
    "colab": {},
    "colab_type": "code",
    "hidden": true,
    "id": "FfbNWj25-JBW"
   },
   "outputs": [],
   "source": [
    "#with open('data/coco/annotations/instances_train2014.json') as json_file:  \n",
    "with open('data/coco/annotations/annotations/instances_train2014.json') as json_file:  \n",
    "    train_data = json.load(json_file)\n",
    "\n",
    "images_df = pd.DataFrame(train_data['images'])\n",
    "annotations_df = pd.DataFrame(train_data['annotations'])\n",
    "categories_df = pd.DataFrame(train_data['categories'])\n",
    "images_df = images_df[['file_name','height','id','width']]\n",
    "annotations_df = annotations_df[['category_id','image_id']]\n",
    "categories_df = categories_df[['id', 'name']]\n",
    "\n",
    "train_set = annotations_df.merge(images_df, how='left', left_on='image_id', right_on='id').drop('id', axis=1)\n",
    "train_set = train_set.merge(categories_df, how='left', left_on='category_id', right_on='id').drop('id', axis=1)"
   ]
  },
  {
   "cell_type": "markdown",
   "metadata": {
    "colab_type": "text",
    "hidden": true,
    "id": "ar-B6TJyHt6J"
   },
   "source": [
    "### Remove missing images from directory"
   ]
  },
  {
   "cell_type": "code",
   "execution_count": 86,
   "metadata": {
    "colab": {
     "base_uri": "https://localhost:8080/",
     "height": 34
    },
    "colab_type": "code",
    "executionInfo": {
     "elapsed": 15975,
     "status": "ok",
     "timestamp": 1559820400810,
     "user": {
      "displayName": "Anthony So",
      "photoUrl": "",
      "userId": "03884734268114843291"
     },
     "user_tz": -600
    },
    "hidden": true,
    "id": "V_-1dyMLwl19",
    "outputId": "62ef2b28-f4fb-4d87-8820-de0e19aade7f"
   },
   "outputs": [
    {
     "name": "stdout",
     "output_type": "stream",
     "text": [
      "0\n"
     ]
    }
   ],
   "source": [
    "train_dir = \"data/coco/images/train2014/\"\n",
    "\n",
    "train_images = list_images_from_dir(train_dir)"
   ]
  },
  {
   "cell_type": "code",
   "execution_count": 0,
   "metadata": {
    "colab": {
     "base_uri": "https://localhost:8080/",
     "height": 34
    },
    "colab_type": "code",
    "executionInfo": {
     "elapsed": 12885,
     "status": "ok",
     "timestamp": 1559798824601,
     "user": {
      "displayName": "Anthony So",
      "photoUrl": "",
      "userId": "03884734268114843291"
     },
     "user_tz": -600
    },
    "hidden": true,
    "id": "k-BuwFbB-JKK",
    "outputId": "b157a3bd-8057-4422-b2a6-ff67ca750a27"
   },
   "outputs": [
    {
     "data": {
      "text/plain": [
       "((604907, 6), 80)"
      ]
     },
     "execution_count": 53,
     "metadata": {
      "tags": []
     },
     "output_type": "execute_result"
    }
   ],
   "source": [
    "train_set = remove_missing_images(train_set, 'file_name', train_images)\n",
    "\n",
    "train_set.shape, train_set['name'].nunique()"
   ]
  },
  {
   "cell_type": "markdown",
   "metadata": {
    "colab_type": "text",
    "hidden": true,
    "id": "EQeZ0YMKH3Bc"
   },
   "source": [
    "### Sampling"
   ]
  },
  {
   "cell_type": "code",
   "execution_count": 0,
   "metadata": {
    "colab": {
     "base_uri": "https://localhost:8080/",
     "height": 34
    },
    "colab_type": "code",
    "executionInfo": {
     "elapsed": 11262,
     "status": "ok",
     "timestamp": 1559798824602,
     "user": {
      "displayName": "Anthony So",
      "photoUrl": "",
      "userId": "03884734268114843291"
     },
     "user_tz": -600
    },
    "hidden": true,
    "id": "vEealSKW0xCt",
    "outputId": "86149e30-982d-445b-91c0-f6e5505c4878"
   },
   "outputs": [
    {
     "data": {
      "text/plain": [
       "(264912, 6)"
      ]
     },
     "execution_count": 54,
     "metadata": {
      "tags": []
     },
     "output_type": "execute_result"
    }
   ],
   "source": [
    "cat_list = ['person', 'car', 'book', 'bottle', 'cup']\n",
    "train_set = train_set[train_set['name'].isin(cat_list)]\n",
    "train_set.shape"
   ]
  },
  {
   "cell_type": "code",
   "execution_count": 0,
   "metadata": {
    "colab": {
     "base_uri": "https://localhost:8080/",
     "height": 34
    },
    "colab_type": "code",
    "executionInfo": {
     "elapsed": 9998,
     "status": "ok",
     "timestamp": 1559798824843,
     "user": {
      "displayName": "Anthony So",
      "photoUrl": "",
      "userId": "03884734268114843291"
     },
     "user_tz": -600
    },
    "hidden": true,
    "id": "b4w7jeVjJzUd",
    "outputId": "6c03d0fc-74d0-4263-fda2-fcd3e7c3bdc8"
   },
   "outputs": [
    {
     "data": {
      "text/plain": [
       "((100, 6), 5)"
      ]
     },
     "execution_count": 55,
     "metadata": {
      "tags": []
     },
     "output_type": "execute_result"
    }
   ],
   "source": [
    "if sampling:\n",
    "    all_train_set = train_set.copy()\n",
    "    train_set = train_set.sample(100)\n",
    "    train_set.to_csv(\"train_set_index.csv\")\n",
    "#else:\n",
    "#    train_index = pd.read_csv(\"train_set_index.csv\")\n",
    "#    train_index = train_index.iloc[:,0]\n",
    "#    train_set = train_set.iloc[train_index.to_list(),]\n",
    "train_set.shape, train_set['name'].nunique()"
   ]
  },
  {
   "cell_type": "code",
   "execution_count": 0,
   "metadata": {
    "colab": {
     "base_uri": "https://localhost:8080/",
     "height": 34
    },
    "colab_type": "code",
    "executionInfo": {
     "elapsed": 8268,
     "status": "ok",
     "timestamp": 1559798824844,
     "user": {
      "displayName": "Anthony So",
      "photoUrl": "",
      "userId": "03884734268114843291"
     },
     "user_tz": -600
    },
    "hidden": true,
    "id": "9HCQrRwIB2yv",
    "outputId": "0a73f4ba-0b1b-481f-9d63-97aa18e5a6b8"
   },
   "outputs": [
    {
     "data": {
      "text/plain": [
       "(5, array(['person', 'book', 'bottle', 'car', 'cup'], dtype=object))"
      ]
     },
     "execution_count": 56,
     "metadata": {
      "tags": []
     },
     "output_type": "execute_result"
    }
   ],
   "source": [
    "train_set['name'].nunique(), train_set['name'].unique()"
   ]
  },
  {
   "cell_type": "markdown",
   "metadata": {
    "colab_type": "text",
    "heading_collapsed": true,
    "id": "v8su0cGE1NRg"
   },
   "source": [
    "# Train Image Model"
   ]
  },
  {
   "cell_type": "code",
   "execution_count": 0,
   "metadata": {
    "colab": {
     "base_uri": "https://localhost:8080/",
     "height": 71
    },
    "colab_type": "code",
    "executionInfo": {
     "elapsed": 18635,
     "status": "ok",
     "timestamp": 1559798836815,
     "user": {
      "displayName": "Anthony So",
      "photoUrl": "",
      "userId": "03884734268114843291"
     },
     "user_tz": -600
    },
    "hidden": true,
    "id": "1LAVpQji8og-",
    "outputId": "27503b90-130f-46ce-9e7c-169a2fb71011"
   },
   "outputs": [
    {
     "name": "stderr",
     "output_type": "stream",
     "text": [
      "/usr/local/lib/python3.6/dist-packages/keras_applications/resnet50.py:265: UserWarning: The output shape of `ResNet50(include_top=False)` has been changed since Keras 2.2.0.\n",
      "  warnings.warn('The output shape of `ResNet50(include_top=False)` '\n"
     ]
    }
   ],
   "source": [
    "from keras.applications.resnet50 import ResNet50\n",
    "from keras.applications.mobilenet_v2 import MobileNetV2\n",
    "from keras.applications.vgg16 import VGG16\n",
    "from keras.models import Model,Sequential\n",
    "from keras.layers import Input, LSTM, Multiply, Dense, Embedding, Flatten, GlobalAveragePooling2D\n",
    "\n",
    "# Load the ResNet50 model with pretrained weights\n",
    "\n",
    "base_model = ResNet50(weights='imagenet', include_top=False, input_shape=(150, 150, 3))\n",
    "#base_model = VGG16(weights='imagenet', include_top=False, input_shape=(150, 150, 3))\n",
    "\n",
    "\n",
    "# Reconnect the layers\n",
    "x = base_model.output\n",
    "x = GlobalAveragePooling2D()(x)\n",
    "x = Dense(4096, activation='relu', name='aux_output')(x)\n",
    "\n",
    "if sampling:\n",
    "  predictions = Dense(5, activation='softmax')(x)\n",
    "else:\n",
    "  predictions = Dense(80, activation='softmax')(x)\n",
    "\n",
    "# This creates a model that includes\n",
    "# the Input layer and three Dense layers\n",
    "model = Model(inputs=base_model.input, outputs=predictions)\n",
    "\n",
    "for layer in model.layers[:-3]:\n",
    "    layer.trainable = False\n"
   ]
  },
  {
   "cell_type": "code",
   "execution_count": 0,
   "metadata": {
    "colab": {
     "base_uri": "https://localhost:8080/",
     "height": 6460
    },
    "colab_type": "code",
    "executionInfo": {
     "elapsed": 21032,
     "status": "ok",
     "timestamp": 1559781231077,
     "user": {
      "displayName": "Anthony So",
      "photoUrl": "",
      "userId": "03884734268114843291"
     },
     "user_tz": -600
    },
    "hidden": true,
    "id": "EJ7dyqxAUhyl",
    "outputId": "6e0886bc-b743-4518-a780-814234ee15a7"
   },
   "outputs": [
    {
     "name": "stdout",
     "output_type": "stream",
     "text": [
      "__________________________________________________________________________________________________\n",
      "Layer (type)                    Output Shape         Param #     Connected to                     \n",
      "==================================================================================================\n",
      "input_10 (InputLayer)           (None, 150, 150, 3)  0                                            \n",
      "__________________________________________________________________________________________________\n",
      "conv1_pad (ZeroPadding2D)       (None, 156, 156, 3)  0           input_10[0][0]                   \n",
      "__________________________________________________________________________________________________\n",
      "conv1 (Conv2D)                  (None, 75, 75, 64)   9472        conv1_pad[0][0]                  \n",
      "__________________________________________________________________________________________________\n",
      "bn_conv1 (BatchNormalization)   (None, 75, 75, 64)   256         conv1[0][0]                      \n",
      "__________________________________________________________________________________________________\n",
      "activation_442 (Activation)     (None, 75, 75, 64)   0           bn_conv1[0][0]                   \n",
      "__________________________________________________________________________________________________\n",
      "pool1_pad (ZeroPadding2D)       (None, 77, 77, 64)   0           activation_442[0][0]             \n",
      "__________________________________________________________________________________________________\n",
      "max_pooling2d_10 (MaxPooling2D) (None, 38, 38, 64)   0           pool1_pad[0][0]                  \n",
      "__________________________________________________________________________________________________\n",
      "res2a_branch2a (Conv2D)         (None, 38, 38, 64)   4160        max_pooling2d_10[0][0]           \n",
      "__________________________________________________________________________________________________\n",
      "bn2a_branch2a (BatchNormalizati (None, 38, 38, 64)   256         res2a_branch2a[0][0]             \n",
      "__________________________________________________________________________________________________\n",
      "activation_443 (Activation)     (None, 38, 38, 64)   0           bn2a_branch2a[0][0]              \n",
      "__________________________________________________________________________________________________\n",
      "res2a_branch2b (Conv2D)         (None, 38, 38, 64)   36928       activation_443[0][0]             \n",
      "__________________________________________________________________________________________________\n",
      "bn2a_branch2b (BatchNormalizati (None, 38, 38, 64)   256         res2a_branch2b[0][0]             \n",
      "__________________________________________________________________________________________________\n",
      "activation_444 (Activation)     (None, 38, 38, 64)   0           bn2a_branch2b[0][0]              \n",
      "__________________________________________________________________________________________________\n",
      "res2a_branch2c (Conv2D)         (None, 38, 38, 256)  16640       activation_444[0][0]             \n",
      "__________________________________________________________________________________________________\n",
      "res2a_branch1 (Conv2D)          (None, 38, 38, 256)  16640       max_pooling2d_10[0][0]           \n",
      "__________________________________________________________________________________________________\n",
      "bn2a_branch2c (BatchNormalizati (None, 38, 38, 256)  1024        res2a_branch2c[0][0]             \n",
      "__________________________________________________________________________________________________\n",
      "bn2a_branch1 (BatchNormalizatio (None, 38, 38, 256)  1024        res2a_branch1[0][0]              \n",
      "__________________________________________________________________________________________________\n",
      "add_145 (Add)                   (None, 38, 38, 256)  0           bn2a_branch2c[0][0]              \n",
      "                                                                 bn2a_branch1[0][0]               \n",
      "__________________________________________________________________________________________________\n",
      "activation_445 (Activation)     (None, 38, 38, 256)  0           add_145[0][0]                    \n",
      "__________________________________________________________________________________________________\n",
      "res2b_branch2a (Conv2D)         (None, 38, 38, 64)   16448       activation_445[0][0]             \n",
      "__________________________________________________________________________________________________\n",
      "bn2b_branch2a (BatchNormalizati (None, 38, 38, 64)   256         res2b_branch2a[0][0]             \n",
      "__________________________________________________________________________________________________\n",
      "activation_446 (Activation)     (None, 38, 38, 64)   0           bn2b_branch2a[0][0]              \n",
      "__________________________________________________________________________________________________\n",
      "res2b_branch2b (Conv2D)         (None, 38, 38, 64)   36928       activation_446[0][0]             \n",
      "__________________________________________________________________________________________________\n",
      "bn2b_branch2b (BatchNormalizati (None, 38, 38, 64)   256         res2b_branch2b[0][0]             \n",
      "__________________________________________________________________________________________________\n",
      "activation_447 (Activation)     (None, 38, 38, 64)   0           bn2b_branch2b[0][0]              \n",
      "__________________________________________________________________________________________________\n",
      "res2b_branch2c (Conv2D)         (None, 38, 38, 256)  16640       activation_447[0][0]             \n",
      "__________________________________________________________________________________________________\n",
      "bn2b_branch2c (BatchNormalizati (None, 38, 38, 256)  1024        res2b_branch2c[0][0]             \n",
      "__________________________________________________________________________________________________\n",
      "add_146 (Add)                   (None, 38, 38, 256)  0           bn2b_branch2c[0][0]              \n",
      "                                                                 activation_445[0][0]             \n",
      "__________________________________________________________________________________________________\n",
      "activation_448 (Activation)     (None, 38, 38, 256)  0           add_146[0][0]                    \n",
      "__________________________________________________________________________________________________\n",
      "res2c_branch2a (Conv2D)         (None, 38, 38, 64)   16448       activation_448[0][0]             \n",
      "__________________________________________________________________________________________________\n",
      "bn2c_branch2a (BatchNormalizati (None, 38, 38, 64)   256         res2c_branch2a[0][0]             \n",
      "__________________________________________________________________________________________________\n",
      "activation_449 (Activation)     (None, 38, 38, 64)   0           bn2c_branch2a[0][0]              \n",
      "__________________________________________________________________________________________________\n",
      "res2c_branch2b (Conv2D)         (None, 38, 38, 64)   36928       activation_449[0][0]             \n",
      "__________________________________________________________________________________________________\n",
      "bn2c_branch2b (BatchNormalizati (None, 38, 38, 64)   256         res2c_branch2b[0][0]             \n",
      "__________________________________________________________________________________________________\n",
      "activation_450 (Activation)     (None, 38, 38, 64)   0           bn2c_branch2b[0][0]              \n",
      "__________________________________________________________________________________________________\n",
      "res2c_branch2c (Conv2D)         (None, 38, 38, 256)  16640       activation_450[0][0]             \n",
      "__________________________________________________________________________________________________\n",
      "bn2c_branch2c (BatchNormalizati (None, 38, 38, 256)  1024        res2c_branch2c[0][0]             \n",
      "__________________________________________________________________________________________________\n",
      "add_147 (Add)                   (None, 38, 38, 256)  0           bn2c_branch2c[0][0]              \n",
      "                                                                 activation_448[0][0]             \n",
      "__________________________________________________________________________________________________\n",
      "activation_451 (Activation)     (None, 38, 38, 256)  0           add_147[0][0]                    \n",
      "__________________________________________________________________________________________________\n",
      "res3a_branch2a (Conv2D)         (None, 19, 19, 128)  32896       activation_451[0][0]             \n",
      "__________________________________________________________________________________________________\n",
      "bn3a_branch2a (BatchNormalizati (None, 19, 19, 128)  512         res3a_branch2a[0][0]             \n",
      "__________________________________________________________________________________________________\n",
      "activation_452 (Activation)     (None, 19, 19, 128)  0           bn3a_branch2a[0][0]              \n",
      "__________________________________________________________________________________________________\n",
      "res3a_branch2b (Conv2D)         (None, 19, 19, 128)  147584      activation_452[0][0]             \n",
      "__________________________________________________________________________________________________\n",
      "bn3a_branch2b (BatchNormalizati (None, 19, 19, 128)  512         res3a_branch2b[0][0]             \n",
      "__________________________________________________________________________________________________\n",
      "activation_453 (Activation)     (None, 19, 19, 128)  0           bn3a_branch2b[0][0]              \n",
      "__________________________________________________________________________________________________\n",
      "res3a_branch2c (Conv2D)         (None, 19, 19, 512)  66048       activation_453[0][0]             \n",
      "__________________________________________________________________________________________________\n",
      "res3a_branch1 (Conv2D)          (None, 19, 19, 512)  131584      activation_451[0][0]             \n",
      "__________________________________________________________________________________________________\n",
      "bn3a_branch2c (BatchNormalizati (None, 19, 19, 512)  2048        res3a_branch2c[0][0]             \n",
      "__________________________________________________________________________________________________\n",
      "bn3a_branch1 (BatchNormalizatio (None, 19, 19, 512)  2048        res3a_branch1[0][0]              \n",
      "__________________________________________________________________________________________________\n",
      "add_148 (Add)                   (None, 19, 19, 512)  0           bn3a_branch2c[0][0]              \n",
      "                                                                 bn3a_branch1[0][0]               \n",
      "__________________________________________________________________________________________________\n",
      "activation_454 (Activation)     (None, 19, 19, 512)  0           add_148[0][0]                    \n",
      "__________________________________________________________________________________________________\n",
      "res3b_branch2a (Conv2D)         (None, 19, 19, 128)  65664       activation_454[0][0]             \n",
      "__________________________________________________________________________________________________\n",
      "bn3b_branch2a (BatchNormalizati (None, 19, 19, 128)  512         res3b_branch2a[0][0]             \n",
      "__________________________________________________________________________________________________\n",
      "activation_455 (Activation)     (None, 19, 19, 128)  0           bn3b_branch2a[0][0]              \n",
      "__________________________________________________________________________________________________\n",
      "res3b_branch2b (Conv2D)         (None, 19, 19, 128)  147584      activation_455[0][0]             \n",
      "__________________________________________________________________________________________________\n",
      "bn3b_branch2b (BatchNormalizati (None, 19, 19, 128)  512         res3b_branch2b[0][0]             \n",
      "__________________________________________________________________________________________________\n",
      "activation_456 (Activation)     (None, 19, 19, 128)  0           bn3b_branch2b[0][0]              \n",
      "__________________________________________________________________________________________________\n",
      "res3b_branch2c (Conv2D)         (None, 19, 19, 512)  66048       activation_456[0][0]             \n",
      "__________________________________________________________________________________________________\n",
      "bn3b_branch2c (BatchNormalizati (None, 19, 19, 512)  2048        res3b_branch2c[0][0]             \n",
      "__________________________________________________________________________________________________\n",
      "add_149 (Add)                   (None, 19, 19, 512)  0           bn3b_branch2c[0][0]              \n",
      "                                                                 activation_454[0][0]             \n",
      "__________________________________________________________________________________________________\n",
      "activation_457 (Activation)     (None, 19, 19, 512)  0           add_149[0][0]                    \n",
      "__________________________________________________________________________________________________\n",
      "res3c_branch2a (Conv2D)         (None, 19, 19, 128)  65664       activation_457[0][0]             \n",
      "__________________________________________________________________________________________________\n",
      "bn3c_branch2a (BatchNormalizati (None, 19, 19, 128)  512         res3c_branch2a[0][0]             \n",
      "__________________________________________________________________________________________________\n",
      "activation_458 (Activation)     (None, 19, 19, 128)  0           bn3c_branch2a[0][0]              \n",
      "__________________________________________________________________________________________________\n",
      "res3c_branch2b (Conv2D)         (None, 19, 19, 128)  147584      activation_458[0][0]             \n",
      "__________________________________________________________________________________________________\n",
      "bn3c_branch2b (BatchNormalizati (None, 19, 19, 128)  512         res3c_branch2b[0][0]             \n",
      "__________________________________________________________________________________________________\n",
      "activation_459 (Activation)     (None, 19, 19, 128)  0           bn3c_branch2b[0][0]              \n",
      "__________________________________________________________________________________________________\n",
      "res3c_branch2c (Conv2D)         (None, 19, 19, 512)  66048       activation_459[0][0]             \n",
      "__________________________________________________________________________________________________\n",
      "bn3c_branch2c (BatchNormalizati (None, 19, 19, 512)  2048        res3c_branch2c[0][0]             \n",
      "__________________________________________________________________________________________________\n",
      "add_150 (Add)                   (None, 19, 19, 512)  0           bn3c_branch2c[0][0]              \n",
      "                                                                 activation_457[0][0]             \n",
      "__________________________________________________________________________________________________\n",
      "activation_460 (Activation)     (None, 19, 19, 512)  0           add_150[0][0]                    \n",
      "__________________________________________________________________________________________________\n",
      "res3d_branch2a (Conv2D)         (None, 19, 19, 128)  65664       activation_460[0][0]             \n",
      "__________________________________________________________________________________________________\n",
      "bn3d_branch2a (BatchNormalizati (None, 19, 19, 128)  512         res3d_branch2a[0][0]             \n",
      "__________________________________________________________________________________________________\n",
      "activation_461 (Activation)     (None, 19, 19, 128)  0           bn3d_branch2a[0][0]              \n",
      "__________________________________________________________________________________________________\n",
      "res3d_branch2b (Conv2D)         (None, 19, 19, 128)  147584      activation_461[0][0]             \n",
      "__________________________________________________________________________________________________\n",
      "bn3d_branch2b (BatchNormalizati (None, 19, 19, 128)  512         res3d_branch2b[0][0]             \n",
      "__________________________________________________________________________________________________\n",
      "activation_462 (Activation)     (None, 19, 19, 128)  0           bn3d_branch2b[0][0]              \n",
      "__________________________________________________________________________________________________\n",
      "res3d_branch2c (Conv2D)         (None, 19, 19, 512)  66048       activation_462[0][0]             \n",
      "__________________________________________________________________________________________________\n",
      "bn3d_branch2c (BatchNormalizati (None, 19, 19, 512)  2048        res3d_branch2c[0][0]             \n",
      "__________________________________________________________________________________________________\n",
      "add_151 (Add)                   (None, 19, 19, 512)  0           bn3d_branch2c[0][0]              \n",
      "                                                                 activation_460[0][0]             \n",
      "__________________________________________________________________________________________________\n",
      "activation_463 (Activation)     (None, 19, 19, 512)  0           add_151[0][0]                    \n",
      "__________________________________________________________________________________________________\n",
      "res4a_branch2a (Conv2D)         (None, 10, 10, 256)  131328      activation_463[0][0]             \n",
      "__________________________________________________________________________________________________\n",
      "bn4a_branch2a (BatchNormalizati (None, 10, 10, 256)  1024        res4a_branch2a[0][0]             \n",
      "__________________________________________________________________________________________________\n",
      "activation_464 (Activation)     (None, 10, 10, 256)  0           bn4a_branch2a[0][0]              \n",
      "__________________________________________________________________________________________________\n",
      "res4a_branch2b (Conv2D)         (None, 10, 10, 256)  590080      activation_464[0][0]             \n",
      "__________________________________________________________________________________________________\n",
      "bn4a_branch2b (BatchNormalizati (None, 10, 10, 256)  1024        res4a_branch2b[0][0]             \n",
      "__________________________________________________________________________________________________\n",
      "activation_465 (Activation)     (None, 10, 10, 256)  0           bn4a_branch2b[0][0]              \n",
      "__________________________________________________________________________________________________\n",
      "res4a_branch2c (Conv2D)         (None, 10, 10, 1024) 263168      activation_465[0][0]             \n",
      "__________________________________________________________________________________________________\n",
      "res4a_branch1 (Conv2D)          (None, 10, 10, 1024) 525312      activation_463[0][0]             \n",
      "__________________________________________________________________________________________________\n",
      "bn4a_branch2c (BatchNormalizati (None, 10, 10, 1024) 4096        res4a_branch2c[0][0]             \n",
      "__________________________________________________________________________________________________\n",
      "bn4a_branch1 (BatchNormalizatio (None, 10, 10, 1024) 4096        res4a_branch1[0][0]              \n",
      "__________________________________________________________________________________________________\n",
      "add_152 (Add)                   (None, 10, 10, 1024) 0           bn4a_branch2c[0][0]              \n",
      "                                                                 bn4a_branch1[0][0]               \n",
      "__________________________________________________________________________________________________\n",
      "activation_466 (Activation)     (None, 10, 10, 1024) 0           add_152[0][0]                    \n",
      "__________________________________________________________________________________________________\n",
      "res4b_branch2a (Conv2D)         (None, 10, 10, 256)  262400      activation_466[0][0]             \n",
      "__________________________________________________________________________________________________\n",
      "bn4b_branch2a (BatchNormalizati (None, 10, 10, 256)  1024        res4b_branch2a[0][0]             \n",
      "__________________________________________________________________________________________________\n",
      "activation_467 (Activation)     (None, 10, 10, 256)  0           bn4b_branch2a[0][0]              \n",
      "__________________________________________________________________________________________________\n",
      "res4b_branch2b (Conv2D)         (None, 10, 10, 256)  590080      activation_467[0][0]             \n",
      "__________________________________________________________________________________________________\n",
      "bn4b_branch2b (BatchNormalizati (None, 10, 10, 256)  1024        res4b_branch2b[0][0]             \n",
      "__________________________________________________________________________________________________\n",
      "activation_468 (Activation)     (None, 10, 10, 256)  0           bn4b_branch2b[0][0]              \n",
      "__________________________________________________________________________________________________\n",
      "res4b_branch2c (Conv2D)         (None, 10, 10, 1024) 263168      activation_468[0][0]             \n",
      "__________________________________________________________________________________________________\n",
      "bn4b_branch2c (BatchNormalizati (None, 10, 10, 1024) 4096        res4b_branch2c[0][0]             \n",
      "__________________________________________________________________________________________________\n",
      "add_153 (Add)                   (None, 10, 10, 1024) 0           bn4b_branch2c[0][0]              \n",
      "                                                                 activation_466[0][0]             \n",
      "__________________________________________________________________________________________________\n",
      "activation_469 (Activation)     (None, 10, 10, 1024) 0           add_153[0][0]                    \n",
      "__________________________________________________________________________________________________\n",
      "res4c_branch2a (Conv2D)         (None, 10, 10, 256)  262400      activation_469[0][0]             \n",
      "__________________________________________________________________________________________________\n",
      "bn4c_branch2a (BatchNormalizati (None, 10, 10, 256)  1024        res4c_branch2a[0][0]             \n",
      "__________________________________________________________________________________________________\n",
      "activation_470 (Activation)     (None, 10, 10, 256)  0           bn4c_branch2a[0][0]              \n",
      "__________________________________________________________________________________________________\n",
      "res4c_branch2b (Conv2D)         (None, 10, 10, 256)  590080      activation_470[0][0]             \n",
      "__________________________________________________________________________________________________\n",
      "bn4c_branch2b (BatchNormalizati (None, 10, 10, 256)  1024        res4c_branch2b[0][0]             \n",
      "__________________________________________________________________________________________________\n",
      "activation_471 (Activation)     (None, 10, 10, 256)  0           bn4c_branch2b[0][0]              \n",
      "__________________________________________________________________________________________________\n",
      "res4c_branch2c (Conv2D)         (None, 10, 10, 1024) 263168      activation_471[0][0]             \n",
      "__________________________________________________________________________________________________\n",
      "bn4c_branch2c (BatchNormalizati (None, 10, 10, 1024) 4096        res4c_branch2c[0][0]             \n",
      "__________________________________________________________________________________________________\n",
      "add_154 (Add)                   (None, 10, 10, 1024) 0           bn4c_branch2c[0][0]              \n",
      "                                                                 activation_469[0][0]             \n",
      "__________________________________________________________________________________________________\n",
      "activation_472 (Activation)     (None, 10, 10, 1024) 0           add_154[0][0]                    \n",
      "__________________________________________________________________________________________________\n",
      "res4d_branch2a (Conv2D)         (None, 10, 10, 256)  262400      activation_472[0][0]             \n",
      "__________________________________________________________________________________________________\n",
      "bn4d_branch2a (BatchNormalizati (None, 10, 10, 256)  1024        res4d_branch2a[0][0]             \n",
      "__________________________________________________________________________________________________\n",
      "activation_473 (Activation)     (None, 10, 10, 256)  0           bn4d_branch2a[0][0]              \n",
      "__________________________________________________________________________________________________\n",
      "res4d_branch2b (Conv2D)         (None, 10, 10, 256)  590080      activation_473[0][0]             \n",
      "__________________________________________________________________________________________________\n",
      "bn4d_branch2b (BatchNormalizati (None, 10, 10, 256)  1024        res4d_branch2b[0][0]             \n",
      "__________________________________________________________________________________________________\n",
      "activation_474 (Activation)     (None, 10, 10, 256)  0           bn4d_branch2b[0][0]              \n",
      "__________________________________________________________________________________________________\n",
      "res4d_branch2c (Conv2D)         (None, 10, 10, 1024) 263168      activation_474[0][0]             \n",
      "__________________________________________________________________________________________________\n",
      "bn4d_branch2c (BatchNormalizati (None, 10, 10, 1024) 4096        res4d_branch2c[0][0]             \n",
      "__________________________________________________________________________________________________\n",
      "add_155 (Add)                   (None, 10, 10, 1024) 0           bn4d_branch2c[0][0]              \n",
      "                                                                 activation_472[0][0]             \n",
      "__________________________________________________________________________________________________\n",
      "activation_475 (Activation)     (None, 10, 10, 1024) 0           add_155[0][0]                    \n",
      "__________________________________________________________________________________________________\n",
      "res4e_branch2a (Conv2D)         (None, 10, 10, 256)  262400      activation_475[0][0]             \n",
      "__________________________________________________________________________________________________\n",
      "bn4e_branch2a (BatchNormalizati (None, 10, 10, 256)  1024        res4e_branch2a[0][0]             \n",
      "__________________________________________________________________________________________________\n",
      "activation_476 (Activation)     (None, 10, 10, 256)  0           bn4e_branch2a[0][0]              \n",
      "__________________________________________________________________________________________________\n",
      "res4e_branch2b (Conv2D)         (None, 10, 10, 256)  590080      activation_476[0][0]             \n",
      "__________________________________________________________________________________________________\n",
      "bn4e_branch2b (BatchNormalizati (None, 10, 10, 256)  1024        res4e_branch2b[0][0]             \n",
      "__________________________________________________________________________________________________\n",
      "activation_477 (Activation)     (None, 10, 10, 256)  0           bn4e_branch2b[0][0]              \n",
      "__________________________________________________________________________________________________\n",
      "res4e_branch2c (Conv2D)         (None, 10, 10, 1024) 263168      activation_477[0][0]             \n",
      "__________________________________________________________________________________________________\n",
      "bn4e_branch2c (BatchNormalizati (None, 10, 10, 1024) 4096        res4e_branch2c[0][0]             \n",
      "__________________________________________________________________________________________________\n",
      "add_156 (Add)                   (None, 10, 10, 1024) 0           bn4e_branch2c[0][0]              \n",
      "                                                                 activation_475[0][0]             \n",
      "__________________________________________________________________________________________________\n",
      "activation_478 (Activation)     (None, 10, 10, 1024) 0           add_156[0][0]                    \n",
      "__________________________________________________________________________________________________\n",
      "res4f_branch2a (Conv2D)         (None, 10, 10, 256)  262400      activation_478[0][0]             \n",
      "__________________________________________________________________________________________________\n",
      "bn4f_branch2a (BatchNormalizati (None, 10, 10, 256)  1024        res4f_branch2a[0][0]             \n",
      "__________________________________________________________________________________________________\n",
      "activation_479 (Activation)     (None, 10, 10, 256)  0           bn4f_branch2a[0][0]              \n",
      "__________________________________________________________________________________________________\n",
      "res4f_branch2b (Conv2D)         (None, 10, 10, 256)  590080      activation_479[0][0]             \n",
      "__________________________________________________________________________________________________\n",
      "bn4f_branch2b (BatchNormalizati (None, 10, 10, 256)  1024        res4f_branch2b[0][0]             \n",
      "__________________________________________________________________________________________________\n",
      "activation_480 (Activation)     (None, 10, 10, 256)  0           bn4f_branch2b[0][0]              \n",
      "__________________________________________________________________________________________________\n",
      "res4f_branch2c (Conv2D)         (None, 10, 10, 1024) 263168      activation_480[0][0]             \n",
      "__________________________________________________________________________________________________\n",
      "bn4f_branch2c (BatchNormalizati (None, 10, 10, 1024) 4096        res4f_branch2c[0][0]             \n",
      "__________________________________________________________________________________________________\n",
      "add_157 (Add)                   (None, 10, 10, 1024) 0           bn4f_branch2c[0][0]              \n",
      "                                                                 activation_478[0][0]             \n",
      "__________________________________________________________________________________________________\n",
      "activation_481 (Activation)     (None, 10, 10, 1024) 0           add_157[0][0]                    \n",
      "__________________________________________________________________________________________________\n",
      "res5a_branch2a (Conv2D)         (None, 5, 5, 512)    524800      activation_481[0][0]             \n",
      "__________________________________________________________________________________________________\n",
      "bn5a_branch2a (BatchNormalizati (None, 5, 5, 512)    2048        res5a_branch2a[0][0]             \n",
      "__________________________________________________________________________________________________\n",
      "activation_482 (Activation)     (None, 5, 5, 512)    0           bn5a_branch2a[0][0]              \n",
      "__________________________________________________________________________________________________\n",
      "res5a_branch2b (Conv2D)         (None, 5, 5, 512)    2359808     activation_482[0][0]             \n",
      "__________________________________________________________________________________________________\n",
      "bn5a_branch2b (BatchNormalizati (None, 5, 5, 512)    2048        res5a_branch2b[0][0]             \n",
      "__________________________________________________________________________________________________\n",
      "activation_483 (Activation)     (None, 5, 5, 512)    0           bn5a_branch2b[0][0]              \n",
      "__________________________________________________________________________________________________\n",
      "res5a_branch2c (Conv2D)         (None, 5, 5, 2048)   1050624     activation_483[0][0]             \n",
      "__________________________________________________________________________________________________\n",
      "res5a_branch1 (Conv2D)          (None, 5, 5, 2048)   2099200     activation_481[0][0]             \n",
      "__________________________________________________________________________________________________\n",
      "bn5a_branch2c (BatchNormalizati (None, 5, 5, 2048)   8192        res5a_branch2c[0][0]             \n",
      "__________________________________________________________________________________________________\n",
      "bn5a_branch1 (BatchNormalizatio (None, 5, 5, 2048)   8192        res5a_branch1[0][0]              \n",
      "__________________________________________________________________________________________________\n",
      "add_158 (Add)                   (None, 5, 5, 2048)   0           bn5a_branch2c[0][0]              \n",
      "                                                                 bn5a_branch1[0][0]               \n",
      "__________________________________________________________________________________________________\n",
      "activation_484 (Activation)     (None, 5, 5, 2048)   0           add_158[0][0]                    \n",
      "__________________________________________________________________________________________________\n",
      "res5b_branch2a (Conv2D)         (None, 5, 5, 512)    1049088     activation_484[0][0]             \n",
      "__________________________________________________________________________________________________\n",
      "bn5b_branch2a (BatchNormalizati (None, 5, 5, 512)    2048        res5b_branch2a[0][0]             \n",
      "__________________________________________________________________________________________________\n",
      "activation_485 (Activation)     (None, 5, 5, 512)    0           bn5b_branch2a[0][0]              \n",
      "__________________________________________________________________________________________________\n",
      "res5b_branch2b (Conv2D)         (None, 5, 5, 512)    2359808     activation_485[0][0]             \n",
      "__________________________________________________________________________________________________\n",
      "bn5b_branch2b (BatchNormalizati (None, 5, 5, 512)    2048        res5b_branch2b[0][0]             \n",
      "__________________________________________________________________________________________________\n",
      "activation_486 (Activation)     (None, 5, 5, 512)    0           bn5b_branch2b[0][0]              \n",
      "__________________________________________________________________________________________________\n",
      "res5b_branch2c (Conv2D)         (None, 5, 5, 2048)   1050624     activation_486[0][0]             \n",
      "__________________________________________________________________________________________________\n",
      "bn5b_branch2c (BatchNormalizati (None, 5, 5, 2048)   8192        res5b_branch2c[0][0]             \n",
      "__________________________________________________________________________________________________\n",
      "add_159 (Add)                   (None, 5, 5, 2048)   0           bn5b_branch2c[0][0]              \n",
      "                                                                 activation_484[0][0]             \n",
      "__________________________________________________________________________________________________\n",
      "activation_487 (Activation)     (None, 5, 5, 2048)   0           add_159[0][0]                    \n",
      "__________________________________________________________________________________________________\n",
      "res5c_branch2a (Conv2D)         (None, 5, 5, 512)    1049088     activation_487[0][0]             \n",
      "__________________________________________________________________________________________________\n",
      "bn5c_branch2a (BatchNormalizati (None, 5, 5, 512)    2048        res5c_branch2a[0][0]             \n",
      "__________________________________________________________________________________________________\n",
      "activation_488 (Activation)     (None, 5, 5, 512)    0           bn5c_branch2a[0][0]              \n",
      "__________________________________________________________________________________________________\n",
      "res5c_branch2b (Conv2D)         (None, 5, 5, 512)    2359808     activation_488[0][0]             \n",
      "__________________________________________________________________________________________________\n",
      "bn5c_branch2b (BatchNormalizati (None, 5, 5, 512)    2048        res5c_branch2b[0][0]             \n",
      "__________________________________________________________________________________________________\n",
      "activation_489 (Activation)     (None, 5, 5, 512)    0           bn5c_branch2b[0][0]              \n",
      "__________________________________________________________________________________________________\n",
      "res5c_branch2c (Conv2D)         (None, 5, 5, 2048)   1050624     activation_489[0][0]             \n",
      "__________________________________________________________________________________________________\n",
      "bn5c_branch2c (BatchNormalizati (None, 5, 5, 2048)   8192        res5c_branch2c[0][0]             \n",
      "__________________________________________________________________________________________________\n",
      "add_160 (Add)                   (None, 5, 5, 2048)   0           bn5c_branch2c[0][0]              \n",
      "                                                                 activation_487[0][0]             \n",
      "__________________________________________________________________________________________________\n",
      "activation_490 (Activation)     (None, 5, 5, 2048)   0           add_160[0][0]                    \n",
      "__________________________________________________________________________________________________\n",
      "global_average_pooling2d_10 (Gl (None, 2048)         0           activation_490[0][0]             \n",
      "__________________________________________________________________________________________________\n",
      "aux_output (Dense)              (None, 4096)         8392704     global_average_pooling2d_10[0][0]\n",
      "__________________________________________________________________________________________________\n",
      "dense_18 (Dense)                (None, 80)           327760      aux_output[0][0]                 \n",
      "==================================================================================================\n",
      "Total params: 32,308,176\n",
      "Trainable params: 8,720,464\n",
      "Non-trainable params: 23,587,712\n",
      "__________________________________________________________________________________________________\n"
     ]
    }
   ],
   "source": [
    "model.summary()"
   ]
  },
  {
   "cell_type": "code",
   "execution_count": 0,
   "metadata": {
    "colab": {},
    "colab_type": "code",
    "hidden": true,
    "id": "q_aIvlTvDvS8"
   },
   "outputs": [],
   "source": [
    "%mkdir models\n",
    "%mkdir models/resnet50"
   ]
  },
  {
   "cell_type": "code",
   "execution_count": 0,
   "metadata": {
    "colab": {},
    "colab_type": "code",
    "hidden": true,
    "id": "leenvT67DfUt"
   },
   "outputs": [],
   "source": [
    "from keras.callbacks import ModelCheckpoint, EarlyStopping, ReduceLROnPlateau, CSVLogger\n",
    "from keras import backend as K\n",
    "\n",
    "def get_callbacks(file_path, chkpnt=True, estop=True, red_lr=True, csv_log=True, cp_name=\"-{epoch:04d}-{val_loss:.2f}.ckpt\"):\n",
    "  \n",
    "    callbacks = []\n",
    "\n",
    "    if chkpnt:\n",
    "      callbacks.append(ModelCheckpoint(file_path + cp_name, monitor=\"val_loss\", mode=\"min\",\\\n",
    "                        save_weights_only=True, save_best_only=True, verbose=1))\n",
    "    if estop:\n",
    "      callbacks.append(EarlyStopping(monitor='val_loss', mode='min', min_delta=0, patience=5,\\\n",
    "                        restore_best_weights=True, verbose=1))\n",
    "    if red_lr:\n",
    "      callbacks.append(ReduceLROnPlateau(monitor='val_loss', mode='min', factor=0.2, patience=3,\\\n",
    "                        min_delta=0.00001, verbose=True))\n",
    "    if csv_log:\n",
    "      callbacks.append(CSVLogger(file_path + '-training.log'))\n",
    "\n",
    "    return callbacks\n"
   ]
  },
  {
   "cell_type": "code",
   "execution_count": 0,
   "metadata": {
    "colab": {},
    "colab_type": "code",
    "hidden": true,
    "id": "_rJCuLbXSdyQ"
   },
   "outputs": [],
   "source": [
    "callbacks = get_callbacks(\"models/resnet50\")"
   ]
  },
  {
   "cell_type": "code",
   "execution_count": 0,
   "metadata": {
    "colab": {
     "base_uri": "https://localhost:8080/",
     "height": 51
    },
    "colab_type": "code",
    "executionInfo": {
     "elapsed": 9791,
     "status": "ok",
     "timestamp": 1559798837667,
     "user": {
      "displayName": "Anthony So",
      "photoUrl": "",
      "userId": "03884734268114843291"
     },
     "user_tz": -600
    },
    "hidden": true,
    "id": "yfNwtD8l9-rL",
    "outputId": "3098301e-b228-4c91-8d78-bb675f61b9fc"
   },
   "outputs": [
    {
     "name": "stdout",
     "output_type": "stream",
     "text": [
      "Found 100 images belonging to 5 classes.\n",
      "Found 50 images belonging to 5 classes.\n"
     ]
    }
   ],
   "source": [
    "from keras.preprocessing.image import ImageDataGenerator\n",
    "\n",
    "# Updated to do image augmentation\n",
    "train_datagen = ImageDataGenerator(rescale=1./255)\n",
    "\n",
    "test_datagen = ImageDataGenerator(rescale=1./255)\n",
    "\n",
    "train_generator=train_datagen.flow_from_dataframe(\n",
    "    dataframe=train_set, \n",
    "    directory=train_dir, \n",
    "    x_col=\"file_name\", \n",
    "    y_col=\"name\", \n",
    "    class_mode=\"categorical\", \n",
    "    target_size=(150, 150), \n",
    "    batch_size=10)\n",
    "\n",
    "\n",
    "validation_generator=test_datagen.flow_from_dataframe(\n",
    "    dataframe=val_set, \n",
    "    directory=val_dir, \n",
    "    x_col=\"file_name\", \n",
    "    y_col=\"name\", \n",
    "    class_mode=\"categorical\", \n",
    "    target_size=(150, 150), \n",
    "    batch_size=10)"
   ]
  },
  {
   "cell_type": "code",
   "execution_count": 0,
   "metadata": {
    "colab": {},
    "colab_type": "code",
    "hidden": true,
    "id": "8L12CmLs-Ac_"
   },
   "outputs": [],
   "source": [
    "from keras.optimizers import RMSprop, Adam\n",
    "\n",
    "lr_start = 1e-4\n",
    "rmsprop = RMSprop(lr=lr_start)\n",
    "adam = Adam(lr=lr_start)\n",
    "\n",
    "model.compile(loss='binary_crossentropy',\n",
    "              optimizer=adam,\n",
    "              metrics=['acc'])"
   ]
  },
  {
   "cell_type": "code",
   "execution_count": 0,
   "metadata": {
    "colab": {
     "base_uri": "https://localhost:8080/",
     "height": 697
    },
    "colab_type": "code",
    "executionInfo": {
     "elapsed": 210515,
     "status": "ok",
     "timestamp": 1559782390799,
     "user": {
      "displayName": "Anthony So",
      "photoUrl": "",
      "userId": "03884734268114843291"
     },
     "user_tz": -600
    },
    "hidden": true,
    "id": "sNxO_TJH-DY8",
    "outputId": "ad93463b-db3b-433e-a5c3-e71c2f8b65e6"
   },
   "outputs": [
    {
     "name": "stdout",
     "output_type": "stream",
     "text": [
      "Epoch 1/10\n",
      "10/10 [==============================] - 33s 3s/step - loss: 0.4671 - acc: 0.8500 - val_loss: 0.4362 - val_acc: 0.8000\n",
      "\n",
      "Epoch 00001: val_loss improved from inf to 0.43618, saving model to models/resnet50-0001-0.44.ckpt\n",
      "Epoch 2/10\n",
      "10/10 [==============================] - 1s 58ms/step - loss: 0.2013 - acc: 0.9260 - val_loss: 0.3775 - val_acc: 0.8040\n",
      "\n",
      "Epoch 00002: val_loss improved from 0.43618 to 0.37755, saving model to models/resnet50-0002-0.38.ckpt\n",
      "Epoch 3/10\n",
      "10/10 [==============================] - 1s 114ms/step - loss: 0.1183 - acc: 0.9580 - val_loss: 0.3912 - val_acc: 0.8000\n",
      "\n",
      "Epoch 00003: val_loss did not improve from 0.37755\n",
      "Epoch 4/10\n",
      "10/10 [==============================] - 2s 204ms/step - loss: 0.0606 - acc: 0.9860 - val_loss: 0.3562 - val_acc: 0.8040\n",
      "\n",
      "Epoch 00004: val_loss improved from 0.37755 to 0.35615, saving model to models/resnet50-0004-0.36.ckpt\n",
      "Epoch 5/10\n",
      "10/10 [==============================] - 1s 136ms/step - loss: 0.0371 - acc: 0.9920 - val_loss: 0.3761 - val_acc: 0.8040\n",
      "\n",
      "Epoch 00005: val_loss did not improve from 0.35615\n",
      "Epoch 6/10\n",
      "10/10 [==============================] - 2s 203ms/step - loss: 0.0201 - acc: 1.0000 - val_loss: 0.3654 - val_acc: 0.8120\n",
      "\n",
      "Epoch 00006: val_loss did not improve from 0.35615\n",
      "Epoch 7/10\n",
      "10/10 [==============================] - 2s 204ms/step - loss: 0.0148 - acc: 1.0000 - val_loss: 0.3588 - val_acc: 0.8760\n",
      "\n",
      "Epoch 00007: val_loss did not improve from 0.35615\n",
      "\n",
      "Epoch 00007: ReduceLROnPlateau reducing learning rate to 1.9999999494757503e-05.\n",
      "Epoch 8/10\n",
      "10/10 [==============================] - 1s 58ms/step - loss: 0.0166 - acc: 0.9960 - val_loss: 0.3611 - val_acc: 0.8520\n",
      "\n",
      "Epoch 00008: val_loss did not improve from 0.35615\n",
      "Epoch 9/10\n",
      "10/10 [==============================] - 2s 157ms/step - loss: 0.0092 - acc: 1.0000 - val_loss: 0.3646 - val_acc: 0.8120\n",
      "\n",
      "Epoch 00009: val_loss did not improve from 0.35615\n",
      "Restoring model weights from the end of the best epoch\n",
      "Epoch 00009: early stopping\n"
     ]
    }
   ],
   "source": [
    "step_size_train=train_generator.n//train_generator.batch_size\n",
    "step_size_val=validation_generator.n//validation_generator.batch_size\n",
    "\n",
    "# Train the model\n",
    "history = model.fit_generator(\n",
    "      train_generator,\n",
    "      steps_per_epoch=step_size_train,  # 2000 images = batch_size * steps\n",
    "      epochs=10,\n",
    "      callbacks=callbacks,\n",
    "      validation_data=validation_generator,\n",
    "      validation_steps=step_size_val,  # 1000 images = batch_size * steps\n",
    "      verbose=1)"
   ]
  },
  {
   "cell_type": "code",
   "execution_count": 0,
   "metadata": {
    "colab": {},
    "colab_type": "code",
    "hidden": true,
    "id": "skfWzv0g-F2C"
   },
   "outputs": [],
   "source": [
    "model.save(f'models/resnet50/resnet50_final.h5')"
   ]
  },
  {
   "cell_type": "markdown",
   "metadata": {
    "colab_type": "text",
    "hidden": true,
    "id": "R5iGRa5gPgtS"
   },
   "source": [
    "## Extract Feature Maps Layer"
   ]
  },
  {
   "cell_type": "code",
   "execution_count": 0,
   "metadata": {
    "colab": {},
    "colab_type": "code",
    "hidden": true,
    "id": "eidr-bWcLCoG"
   },
   "outputs": [],
   "source": [
    "model_feat_extract = Model(inputs=model.input, outputs=model.get_layer(\"aux_output\").output)\n",
    "\n",
    "model_name = f'models/resnet50/resnet50_feature_extractor.h5'\n",
    "model_feat_extract.save(model_name)"
   ]
  },
  {
   "cell_type": "code",
   "execution_count": 0,
   "metadata": {
    "colab": {
     "base_uri": "https://localhost:8080/",
     "height": 6426
    },
    "colab_type": "code",
    "executionInfo": {
     "elapsed": 728,
     "status": "ok",
     "timestamp": 1559783825139,
     "user": {
      "displayName": "Anthony So",
      "photoUrl": "",
      "userId": "03884734268114843291"
     },
     "user_tz": -600
    },
    "hidden": true,
    "id": "q2i_PtyxXE1b",
    "outputId": "1d9da267-b693-45ba-e36c-287272ed131a"
   },
   "outputs": [
    {
     "name": "stdout",
     "output_type": "stream",
     "text": [
      "__________________________________________________________________________________________________\n",
      "Layer (type)                    Output Shape         Param #     Connected to                     \n",
      "==================================================================================================\n",
      "input_12 (InputLayer)           (None, 150, 150, 3)  0                                            \n",
      "__________________________________________________________________________________________________\n",
      "conv1_pad (ZeroPadding2D)       (None, 156, 156, 3)  0           input_12[0][0]                   \n",
      "__________________________________________________________________________________________________\n",
      "conv1 (Conv2D)                  (None, 75, 75, 64)   9472        conv1_pad[0][0]                  \n",
      "__________________________________________________________________________________________________\n",
      "bn_conv1 (BatchNormalization)   (None, 75, 75, 64)   256         conv1[0][0]                      \n",
      "__________________________________________________________________________________________________\n",
      "activation_540 (Activation)     (None, 75, 75, 64)   0           bn_conv1[0][0]                   \n",
      "__________________________________________________________________________________________________\n",
      "pool1_pad (ZeroPadding2D)       (None, 77, 77, 64)   0           activation_540[0][0]             \n",
      "__________________________________________________________________________________________________\n",
      "max_pooling2d_12 (MaxPooling2D) (None, 38, 38, 64)   0           pool1_pad[0][0]                  \n",
      "__________________________________________________________________________________________________\n",
      "res2a_branch2a (Conv2D)         (None, 38, 38, 64)   4160        max_pooling2d_12[0][0]           \n",
      "__________________________________________________________________________________________________\n",
      "bn2a_branch2a (BatchNormalizati (None, 38, 38, 64)   256         res2a_branch2a[0][0]             \n",
      "__________________________________________________________________________________________________\n",
      "activation_541 (Activation)     (None, 38, 38, 64)   0           bn2a_branch2a[0][0]              \n",
      "__________________________________________________________________________________________________\n",
      "res2a_branch2b (Conv2D)         (None, 38, 38, 64)   36928       activation_541[0][0]             \n",
      "__________________________________________________________________________________________________\n",
      "bn2a_branch2b (BatchNormalizati (None, 38, 38, 64)   256         res2a_branch2b[0][0]             \n",
      "__________________________________________________________________________________________________\n",
      "activation_542 (Activation)     (None, 38, 38, 64)   0           bn2a_branch2b[0][0]              \n",
      "__________________________________________________________________________________________________\n",
      "res2a_branch2c (Conv2D)         (None, 38, 38, 256)  16640       activation_542[0][0]             \n",
      "__________________________________________________________________________________________________\n",
      "res2a_branch1 (Conv2D)          (None, 38, 38, 256)  16640       max_pooling2d_12[0][0]           \n",
      "__________________________________________________________________________________________________\n",
      "bn2a_branch2c (BatchNormalizati (None, 38, 38, 256)  1024        res2a_branch2c[0][0]             \n",
      "__________________________________________________________________________________________________\n",
      "bn2a_branch1 (BatchNormalizatio (None, 38, 38, 256)  1024        res2a_branch1[0][0]              \n",
      "__________________________________________________________________________________________________\n",
      "add_177 (Add)                   (None, 38, 38, 256)  0           bn2a_branch2c[0][0]              \n",
      "                                                                 bn2a_branch1[0][0]               \n",
      "__________________________________________________________________________________________________\n",
      "activation_543 (Activation)     (None, 38, 38, 256)  0           add_177[0][0]                    \n",
      "__________________________________________________________________________________________________\n",
      "res2b_branch2a (Conv2D)         (None, 38, 38, 64)   16448       activation_543[0][0]             \n",
      "__________________________________________________________________________________________________\n",
      "bn2b_branch2a (BatchNormalizati (None, 38, 38, 64)   256         res2b_branch2a[0][0]             \n",
      "__________________________________________________________________________________________________\n",
      "activation_544 (Activation)     (None, 38, 38, 64)   0           bn2b_branch2a[0][0]              \n",
      "__________________________________________________________________________________________________\n",
      "res2b_branch2b (Conv2D)         (None, 38, 38, 64)   36928       activation_544[0][0]             \n",
      "__________________________________________________________________________________________________\n",
      "bn2b_branch2b (BatchNormalizati (None, 38, 38, 64)   256         res2b_branch2b[0][0]             \n",
      "__________________________________________________________________________________________________\n",
      "activation_545 (Activation)     (None, 38, 38, 64)   0           bn2b_branch2b[0][0]              \n",
      "__________________________________________________________________________________________________\n",
      "res2b_branch2c (Conv2D)         (None, 38, 38, 256)  16640       activation_545[0][0]             \n",
      "__________________________________________________________________________________________________\n",
      "bn2b_branch2c (BatchNormalizati (None, 38, 38, 256)  1024        res2b_branch2c[0][0]             \n",
      "__________________________________________________________________________________________________\n",
      "add_178 (Add)                   (None, 38, 38, 256)  0           bn2b_branch2c[0][0]              \n",
      "                                                                 activation_543[0][0]             \n",
      "__________________________________________________________________________________________________\n",
      "activation_546 (Activation)     (None, 38, 38, 256)  0           add_178[0][0]                    \n",
      "__________________________________________________________________________________________________\n",
      "res2c_branch2a (Conv2D)         (None, 38, 38, 64)   16448       activation_546[0][0]             \n",
      "__________________________________________________________________________________________________\n",
      "bn2c_branch2a (BatchNormalizati (None, 38, 38, 64)   256         res2c_branch2a[0][0]             \n",
      "__________________________________________________________________________________________________\n",
      "activation_547 (Activation)     (None, 38, 38, 64)   0           bn2c_branch2a[0][0]              \n",
      "__________________________________________________________________________________________________\n",
      "res2c_branch2b (Conv2D)         (None, 38, 38, 64)   36928       activation_547[0][0]             \n",
      "__________________________________________________________________________________________________\n",
      "bn2c_branch2b (BatchNormalizati (None, 38, 38, 64)   256         res2c_branch2b[0][0]             \n",
      "__________________________________________________________________________________________________\n",
      "activation_548 (Activation)     (None, 38, 38, 64)   0           bn2c_branch2b[0][0]              \n",
      "__________________________________________________________________________________________________\n",
      "res2c_branch2c (Conv2D)         (None, 38, 38, 256)  16640       activation_548[0][0]             \n",
      "__________________________________________________________________________________________________\n",
      "bn2c_branch2c (BatchNormalizati (None, 38, 38, 256)  1024        res2c_branch2c[0][0]             \n",
      "__________________________________________________________________________________________________\n",
      "add_179 (Add)                   (None, 38, 38, 256)  0           bn2c_branch2c[0][0]              \n",
      "                                                                 activation_546[0][0]             \n",
      "__________________________________________________________________________________________________\n",
      "activation_549 (Activation)     (None, 38, 38, 256)  0           add_179[0][0]                    \n",
      "__________________________________________________________________________________________________\n",
      "res3a_branch2a (Conv2D)         (None, 19, 19, 128)  32896       activation_549[0][0]             \n",
      "__________________________________________________________________________________________________\n",
      "bn3a_branch2a (BatchNormalizati (None, 19, 19, 128)  512         res3a_branch2a[0][0]             \n",
      "__________________________________________________________________________________________________\n",
      "activation_550 (Activation)     (None, 19, 19, 128)  0           bn3a_branch2a[0][0]              \n",
      "__________________________________________________________________________________________________\n",
      "res3a_branch2b (Conv2D)         (None, 19, 19, 128)  147584      activation_550[0][0]             \n",
      "__________________________________________________________________________________________________\n",
      "bn3a_branch2b (BatchNormalizati (None, 19, 19, 128)  512         res3a_branch2b[0][0]             \n",
      "__________________________________________________________________________________________________\n",
      "activation_551 (Activation)     (None, 19, 19, 128)  0           bn3a_branch2b[0][0]              \n",
      "__________________________________________________________________________________________________\n",
      "res3a_branch2c (Conv2D)         (None, 19, 19, 512)  66048       activation_551[0][0]             \n",
      "__________________________________________________________________________________________________\n",
      "res3a_branch1 (Conv2D)          (None, 19, 19, 512)  131584      activation_549[0][0]             \n",
      "__________________________________________________________________________________________________\n",
      "bn3a_branch2c (BatchNormalizati (None, 19, 19, 512)  2048        res3a_branch2c[0][0]             \n",
      "__________________________________________________________________________________________________\n",
      "bn3a_branch1 (BatchNormalizatio (None, 19, 19, 512)  2048        res3a_branch1[0][0]              \n",
      "__________________________________________________________________________________________________\n",
      "add_180 (Add)                   (None, 19, 19, 512)  0           bn3a_branch2c[0][0]              \n",
      "                                                                 bn3a_branch1[0][0]               \n",
      "__________________________________________________________________________________________________\n",
      "activation_552 (Activation)     (None, 19, 19, 512)  0           add_180[0][0]                    \n",
      "__________________________________________________________________________________________________\n",
      "res3b_branch2a (Conv2D)         (None, 19, 19, 128)  65664       activation_552[0][0]             \n",
      "__________________________________________________________________________________________________\n",
      "bn3b_branch2a (BatchNormalizati (None, 19, 19, 128)  512         res3b_branch2a[0][0]             \n",
      "__________________________________________________________________________________________________\n",
      "activation_553 (Activation)     (None, 19, 19, 128)  0           bn3b_branch2a[0][0]              \n",
      "__________________________________________________________________________________________________\n",
      "res3b_branch2b (Conv2D)         (None, 19, 19, 128)  147584      activation_553[0][0]             \n",
      "__________________________________________________________________________________________________\n",
      "bn3b_branch2b (BatchNormalizati (None, 19, 19, 128)  512         res3b_branch2b[0][0]             \n",
      "__________________________________________________________________________________________________\n",
      "activation_554 (Activation)     (None, 19, 19, 128)  0           bn3b_branch2b[0][0]              \n",
      "__________________________________________________________________________________________________\n",
      "res3b_branch2c (Conv2D)         (None, 19, 19, 512)  66048       activation_554[0][0]             \n",
      "__________________________________________________________________________________________________\n",
      "bn3b_branch2c (BatchNormalizati (None, 19, 19, 512)  2048        res3b_branch2c[0][0]             \n",
      "__________________________________________________________________________________________________\n",
      "add_181 (Add)                   (None, 19, 19, 512)  0           bn3b_branch2c[0][0]              \n",
      "                                                                 activation_552[0][0]             \n",
      "__________________________________________________________________________________________________\n",
      "activation_555 (Activation)     (None, 19, 19, 512)  0           add_181[0][0]                    \n",
      "__________________________________________________________________________________________________\n",
      "res3c_branch2a (Conv2D)         (None, 19, 19, 128)  65664       activation_555[0][0]             \n",
      "__________________________________________________________________________________________________\n",
      "bn3c_branch2a (BatchNormalizati (None, 19, 19, 128)  512         res3c_branch2a[0][0]             \n",
      "__________________________________________________________________________________________________\n",
      "activation_556 (Activation)     (None, 19, 19, 128)  0           bn3c_branch2a[0][0]              \n",
      "__________________________________________________________________________________________________\n",
      "res3c_branch2b (Conv2D)         (None, 19, 19, 128)  147584      activation_556[0][0]             \n",
      "__________________________________________________________________________________________________\n",
      "bn3c_branch2b (BatchNormalizati (None, 19, 19, 128)  512         res3c_branch2b[0][0]             \n",
      "__________________________________________________________________________________________________\n",
      "activation_557 (Activation)     (None, 19, 19, 128)  0           bn3c_branch2b[0][0]              \n",
      "__________________________________________________________________________________________________\n",
      "res3c_branch2c (Conv2D)         (None, 19, 19, 512)  66048       activation_557[0][0]             \n",
      "__________________________________________________________________________________________________\n",
      "bn3c_branch2c (BatchNormalizati (None, 19, 19, 512)  2048        res3c_branch2c[0][0]             \n",
      "__________________________________________________________________________________________________\n",
      "add_182 (Add)                   (None, 19, 19, 512)  0           bn3c_branch2c[0][0]              \n",
      "                                                                 activation_555[0][0]             \n",
      "__________________________________________________________________________________________________\n",
      "activation_558 (Activation)     (None, 19, 19, 512)  0           add_182[0][0]                    \n",
      "__________________________________________________________________________________________________\n",
      "res3d_branch2a (Conv2D)         (None, 19, 19, 128)  65664       activation_558[0][0]             \n",
      "__________________________________________________________________________________________________\n",
      "bn3d_branch2a (BatchNormalizati (None, 19, 19, 128)  512         res3d_branch2a[0][0]             \n",
      "__________________________________________________________________________________________________\n",
      "activation_559 (Activation)     (None, 19, 19, 128)  0           bn3d_branch2a[0][0]              \n",
      "__________________________________________________________________________________________________\n",
      "res3d_branch2b (Conv2D)         (None, 19, 19, 128)  147584      activation_559[0][0]             \n",
      "__________________________________________________________________________________________________\n",
      "bn3d_branch2b (BatchNormalizati (None, 19, 19, 128)  512         res3d_branch2b[0][0]             \n",
      "__________________________________________________________________________________________________\n",
      "activation_560 (Activation)     (None, 19, 19, 128)  0           bn3d_branch2b[0][0]              \n",
      "__________________________________________________________________________________________________\n",
      "res3d_branch2c (Conv2D)         (None, 19, 19, 512)  66048       activation_560[0][0]             \n",
      "__________________________________________________________________________________________________\n",
      "bn3d_branch2c (BatchNormalizati (None, 19, 19, 512)  2048        res3d_branch2c[0][0]             \n",
      "__________________________________________________________________________________________________\n",
      "add_183 (Add)                   (None, 19, 19, 512)  0           bn3d_branch2c[0][0]              \n",
      "                                                                 activation_558[0][0]             \n",
      "__________________________________________________________________________________________________\n",
      "activation_561 (Activation)     (None, 19, 19, 512)  0           add_183[0][0]                    \n",
      "__________________________________________________________________________________________________\n",
      "res4a_branch2a (Conv2D)         (None, 10, 10, 256)  131328      activation_561[0][0]             \n",
      "__________________________________________________________________________________________________\n",
      "bn4a_branch2a (BatchNormalizati (None, 10, 10, 256)  1024        res4a_branch2a[0][0]             \n",
      "__________________________________________________________________________________________________\n",
      "activation_562 (Activation)     (None, 10, 10, 256)  0           bn4a_branch2a[0][0]              \n",
      "__________________________________________________________________________________________________\n",
      "res4a_branch2b (Conv2D)         (None, 10, 10, 256)  590080      activation_562[0][0]             \n",
      "__________________________________________________________________________________________________\n",
      "bn4a_branch2b (BatchNormalizati (None, 10, 10, 256)  1024        res4a_branch2b[0][0]             \n",
      "__________________________________________________________________________________________________\n",
      "activation_563 (Activation)     (None, 10, 10, 256)  0           bn4a_branch2b[0][0]              \n",
      "__________________________________________________________________________________________________\n",
      "res4a_branch2c (Conv2D)         (None, 10, 10, 1024) 263168      activation_563[0][0]             \n",
      "__________________________________________________________________________________________________\n",
      "res4a_branch1 (Conv2D)          (None, 10, 10, 1024) 525312      activation_561[0][0]             \n",
      "__________________________________________________________________________________________________\n",
      "bn4a_branch2c (BatchNormalizati (None, 10, 10, 1024) 4096        res4a_branch2c[0][0]             \n",
      "__________________________________________________________________________________________________\n",
      "bn4a_branch1 (BatchNormalizatio (None, 10, 10, 1024) 4096        res4a_branch1[0][0]              \n",
      "__________________________________________________________________________________________________\n",
      "add_184 (Add)                   (None, 10, 10, 1024) 0           bn4a_branch2c[0][0]              \n",
      "                                                                 bn4a_branch1[0][0]               \n",
      "__________________________________________________________________________________________________\n",
      "activation_564 (Activation)     (None, 10, 10, 1024) 0           add_184[0][0]                    \n",
      "__________________________________________________________________________________________________\n",
      "res4b_branch2a (Conv2D)         (None, 10, 10, 256)  262400      activation_564[0][0]             \n",
      "__________________________________________________________________________________________________\n",
      "bn4b_branch2a (BatchNormalizati (None, 10, 10, 256)  1024        res4b_branch2a[0][0]             \n",
      "__________________________________________________________________________________________________\n",
      "activation_565 (Activation)     (None, 10, 10, 256)  0           bn4b_branch2a[0][0]              \n",
      "__________________________________________________________________________________________________\n",
      "res4b_branch2b (Conv2D)         (None, 10, 10, 256)  590080      activation_565[0][0]             \n",
      "__________________________________________________________________________________________________\n",
      "bn4b_branch2b (BatchNormalizati (None, 10, 10, 256)  1024        res4b_branch2b[0][0]             \n",
      "__________________________________________________________________________________________________\n",
      "activation_566 (Activation)     (None, 10, 10, 256)  0           bn4b_branch2b[0][0]              \n",
      "__________________________________________________________________________________________________\n",
      "res4b_branch2c (Conv2D)         (None, 10, 10, 1024) 263168      activation_566[0][0]             \n",
      "__________________________________________________________________________________________________\n",
      "bn4b_branch2c (BatchNormalizati (None, 10, 10, 1024) 4096        res4b_branch2c[0][0]             \n",
      "__________________________________________________________________________________________________\n",
      "add_185 (Add)                   (None, 10, 10, 1024) 0           bn4b_branch2c[0][0]              \n",
      "                                                                 activation_564[0][0]             \n",
      "__________________________________________________________________________________________________\n",
      "activation_567 (Activation)     (None, 10, 10, 1024) 0           add_185[0][0]                    \n",
      "__________________________________________________________________________________________________\n",
      "res4c_branch2a (Conv2D)         (None, 10, 10, 256)  262400      activation_567[0][0]             \n",
      "__________________________________________________________________________________________________\n",
      "bn4c_branch2a (BatchNormalizati (None, 10, 10, 256)  1024        res4c_branch2a[0][0]             \n",
      "__________________________________________________________________________________________________\n",
      "activation_568 (Activation)     (None, 10, 10, 256)  0           bn4c_branch2a[0][0]              \n",
      "__________________________________________________________________________________________________\n",
      "res4c_branch2b (Conv2D)         (None, 10, 10, 256)  590080      activation_568[0][0]             \n",
      "__________________________________________________________________________________________________\n",
      "bn4c_branch2b (BatchNormalizati (None, 10, 10, 256)  1024        res4c_branch2b[0][0]             \n",
      "__________________________________________________________________________________________________\n",
      "activation_569 (Activation)     (None, 10, 10, 256)  0           bn4c_branch2b[0][0]              \n",
      "__________________________________________________________________________________________________\n",
      "res4c_branch2c (Conv2D)         (None, 10, 10, 1024) 263168      activation_569[0][0]             \n",
      "__________________________________________________________________________________________________\n",
      "bn4c_branch2c (BatchNormalizati (None, 10, 10, 1024) 4096        res4c_branch2c[0][0]             \n",
      "__________________________________________________________________________________________________\n",
      "add_186 (Add)                   (None, 10, 10, 1024) 0           bn4c_branch2c[0][0]              \n",
      "                                                                 activation_567[0][0]             \n",
      "__________________________________________________________________________________________________\n",
      "activation_570 (Activation)     (None, 10, 10, 1024) 0           add_186[0][0]                    \n",
      "__________________________________________________________________________________________________\n",
      "res4d_branch2a (Conv2D)         (None, 10, 10, 256)  262400      activation_570[0][0]             \n",
      "__________________________________________________________________________________________________\n",
      "bn4d_branch2a (BatchNormalizati (None, 10, 10, 256)  1024        res4d_branch2a[0][0]             \n",
      "__________________________________________________________________________________________________\n",
      "activation_571 (Activation)     (None, 10, 10, 256)  0           bn4d_branch2a[0][0]              \n",
      "__________________________________________________________________________________________________\n",
      "res4d_branch2b (Conv2D)         (None, 10, 10, 256)  590080      activation_571[0][0]             \n",
      "__________________________________________________________________________________________________\n",
      "bn4d_branch2b (BatchNormalizati (None, 10, 10, 256)  1024        res4d_branch2b[0][0]             \n",
      "__________________________________________________________________________________________________\n",
      "activation_572 (Activation)     (None, 10, 10, 256)  0           bn4d_branch2b[0][0]              \n",
      "__________________________________________________________________________________________________\n",
      "res4d_branch2c (Conv2D)         (None, 10, 10, 1024) 263168      activation_572[0][0]             \n",
      "__________________________________________________________________________________________________\n",
      "bn4d_branch2c (BatchNormalizati (None, 10, 10, 1024) 4096        res4d_branch2c[0][0]             \n",
      "__________________________________________________________________________________________________\n",
      "add_187 (Add)                   (None, 10, 10, 1024) 0           bn4d_branch2c[0][0]              \n",
      "                                                                 activation_570[0][0]             \n",
      "__________________________________________________________________________________________________\n",
      "activation_573 (Activation)     (None, 10, 10, 1024) 0           add_187[0][0]                    \n",
      "__________________________________________________________________________________________________\n",
      "res4e_branch2a (Conv2D)         (None, 10, 10, 256)  262400      activation_573[0][0]             \n",
      "__________________________________________________________________________________________________\n",
      "bn4e_branch2a (BatchNormalizati (None, 10, 10, 256)  1024        res4e_branch2a[0][0]             \n",
      "__________________________________________________________________________________________________\n",
      "activation_574 (Activation)     (None, 10, 10, 256)  0           bn4e_branch2a[0][0]              \n",
      "__________________________________________________________________________________________________\n",
      "res4e_branch2b (Conv2D)         (None, 10, 10, 256)  590080      activation_574[0][0]             \n",
      "__________________________________________________________________________________________________\n",
      "bn4e_branch2b (BatchNormalizati (None, 10, 10, 256)  1024        res4e_branch2b[0][0]             \n",
      "__________________________________________________________________________________________________\n",
      "activation_575 (Activation)     (None, 10, 10, 256)  0           bn4e_branch2b[0][0]              \n",
      "__________________________________________________________________________________________________\n",
      "res4e_branch2c (Conv2D)         (None, 10, 10, 1024) 263168      activation_575[0][0]             \n",
      "__________________________________________________________________________________________________\n",
      "bn4e_branch2c (BatchNormalizati (None, 10, 10, 1024) 4096        res4e_branch2c[0][0]             \n",
      "__________________________________________________________________________________________________\n",
      "add_188 (Add)                   (None, 10, 10, 1024) 0           bn4e_branch2c[0][0]              \n",
      "                                                                 activation_573[0][0]             \n",
      "__________________________________________________________________________________________________\n",
      "activation_576 (Activation)     (None, 10, 10, 1024) 0           add_188[0][0]                    \n",
      "__________________________________________________________________________________________________\n",
      "res4f_branch2a (Conv2D)         (None, 10, 10, 256)  262400      activation_576[0][0]             \n",
      "__________________________________________________________________________________________________\n",
      "bn4f_branch2a (BatchNormalizati (None, 10, 10, 256)  1024        res4f_branch2a[0][0]             \n",
      "__________________________________________________________________________________________________\n",
      "activation_577 (Activation)     (None, 10, 10, 256)  0           bn4f_branch2a[0][0]              \n",
      "__________________________________________________________________________________________________\n",
      "res4f_branch2b (Conv2D)         (None, 10, 10, 256)  590080      activation_577[0][0]             \n",
      "__________________________________________________________________________________________________\n",
      "bn4f_branch2b (BatchNormalizati (None, 10, 10, 256)  1024        res4f_branch2b[0][0]             \n",
      "__________________________________________________________________________________________________\n",
      "activation_578 (Activation)     (None, 10, 10, 256)  0           bn4f_branch2b[0][0]              \n",
      "__________________________________________________________________________________________________\n",
      "res4f_branch2c (Conv2D)         (None, 10, 10, 1024) 263168      activation_578[0][0]             \n",
      "__________________________________________________________________________________________________\n",
      "bn4f_branch2c (BatchNormalizati (None, 10, 10, 1024) 4096        res4f_branch2c[0][0]             \n",
      "__________________________________________________________________________________________________\n",
      "add_189 (Add)                   (None, 10, 10, 1024) 0           bn4f_branch2c[0][0]              \n",
      "                                                                 activation_576[0][0]             \n",
      "__________________________________________________________________________________________________\n",
      "activation_579 (Activation)     (None, 10, 10, 1024) 0           add_189[0][0]                    \n",
      "__________________________________________________________________________________________________\n",
      "res5a_branch2a (Conv2D)         (None, 5, 5, 512)    524800      activation_579[0][0]             \n",
      "__________________________________________________________________________________________________\n",
      "bn5a_branch2a (BatchNormalizati (None, 5, 5, 512)    2048        res5a_branch2a[0][0]             \n",
      "__________________________________________________________________________________________________\n",
      "activation_580 (Activation)     (None, 5, 5, 512)    0           bn5a_branch2a[0][0]              \n",
      "__________________________________________________________________________________________________\n",
      "res5a_branch2b (Conv2D)         (None, 5, 5, 512)    2359808     activation_580[0][0]             \n",
      "__________________________________________________________________________________________________\n",
      "bn5a_branch2b (BatchNormalizati (None, 5, 5, 512)    2048        res5a_branch2b[0][0]             \n",
      "__________________________________________________________________________________________________\n",
      "activation_581 (Activation)     (None, 5, 5, 512)    0           bn5a_branch2b[0][0]              \n",
      "__________________________________________________________________________________________________\n",
      "res5a_branch2c (Conv2D)         (None, 5, 5, 2048)   1050624     activation_581[0][0]             \n",
      "__________________________________________________________________________________________________\n",
      "res5a_branch1 (Conv2D)          (None, 5, 5, 2048)   2099200     activation_579[0][0]             \n",
      "__________________________________________________________________________________________________\n",
      "bn5a_branch2c (BatchNormalizati (None, 5, 5, 2048)   8192        res5a_branch2c[0][0]             \n",
      "__________________________________________________________________________________________________\n",
      "bn5a_branch1 (BatchNormalizatio (None, 5, 5, 2048)   8192        res5a_branch1[0][0]              \n",
      "__________________________________________________________________________________________________\n",
      "add_190 (Add)                   (None, 5, 5, 2048)   0           bn5a_branch2c[0][0]              \n",
      "                                                                 bn5a_branch1[0][0]               \n",
      "__________________________________________________________________________________________________\n",
      "activation_582 (Activation)     (None, 5, 5, 2048)   0           add_190[0][0]                    \n",
      "__________________________________________________________________________________________________\n",
      "res5b_branch2a (Conv2D)         (None, 5, 5, 512)    1049088     activation_582[0][0]             \n",
      "__________________________________________________________________________________________________\n",
      "bn5b_branch2a (BatchNormalizati (None, 5, 5, 512)    2048        res5b_branch2a[0][0]             \n",
      "__________________________________________________________________________________________________\n",
      "activation_583 (Activation)     (None, 5, 5, 512)    0           bn5b_branch2a[0][0]              \n",
      "__________________________________________________________________________________________________\n",
      "res5b_branch2b (Conv2D)         (None, 5, 5, 512)    2359808     activation_583[0][0]             \n",
      "__________________________________________________________________________________________________\n",
      "bn5b_branch2b (BatchNormalizati (None, 5, 5, 512)    2048        res5b_branch2b[0][0]             \n",
      "__________________________________________________________________________________________________\n",
      "activation_584 (Activation)     (None, 5, 5, 512)    0           bn5b_branch2b[0][0]              \n",
      "__________________________________________________________________________________________________\n",
      "res5b_branch2c (Conv2D)         (None, 5, 5, 2048)   1050624     activation_584[0][0]             \n",
      "__________________________________________________________________________________________________\n",
      "bn5b_branch2c (BatchNormalizati (None, 5, 5, 2048)   8192        res5b_branch2c[0][0]             \n",
      "__________________________________________________________________________________________________\n",
      "add_191 (Add)                   (None, 5, 5, 2048)   0           bn5b_branch2c[0][0]              \n",
      "                                                                 activation_582[0][0]             \n",
      "__________________________________________________________________________________________________\n",
      "activation_585 (Activation)     (None, 5, 5, 2048)   0           add_191[0][0]                    \n",
      "__________________________________________________________________________________________________\n",
      "res5c_branch2a (Conv2D)         (None, 5, 5, 512)    1049088     activation_585[0][0]             \n",
      "__________________________________________________________________________________________________\n",
      "bn5c_branch2a (BatchNormalizati (None, 5, 5, 512)    2048        res5c_branch2a[0][0]             \n",
      "__________________________________________________________________________________________________\n",
      "activation_586 (Activation)     (None, 5, 5, 512)    0           bn5c_branch2a[0][0]              \n",
      "__________________________________________________________________________________________________\n",
      "res5c_branch2b (Conv2D)         (None, 5, 5, 512)    2359808     activation_586[0][0]             \n",
      "__________________________________________________________________________________________________\n",
      "bn5c_branch2b (BatchNormalizati (None, 5, 5, 512)    2048        res5c_branch2b[0][0]             \n",
      "__________________________________________________________________________________________________\n",
      "activation_587 (Activation)     (None, 5, 5, 512)    0           bn5c_branch2b[0][0]              \n",
      "__________________________________________________________________________________________________\n",
      "res5c_branch2c (Conv2D)         (None, 5, 5, 2048)   1050624     activation_587[0][0]             \n",
      "__________________________________________________________________________________________________\n",
      "bn5c_branch2c (BatchNormalizati (None, 5, 5, 2048)   8192        res5c_branch2c[0][0]             \n",
      "__________________________________________________________________________________________________\n",
      "add_192 (Add)                   (None, 5, 5, 2048)   0           bn5c_branch2c[0][0]              \n",
      "                                                                 activation_585[0][0]             \n",
      "__________________________________________________________________________________________________\n",
      "activation_588 (Activation)     (None, 5, 5, 2048)   0           add_192[0][0]                    \n",
      "__________________________________________________________________________________________________\n",
      "global_average_pooling2d_12 (Gl (None, 2048)         0           activation_588[0][0]             \n",
      "__________________________________________________________________________________________________\n",
      "aux_output (Dense)              (None, 4096)         8392704     global_average_pooling2d_12[0][0]\n",
      "==================================================================================================\n",
      "Total params: 31,980,416\n",
      "Trainable params: 8,392,704\n",
      "Non-trainable params: 23,587,712\n",
      "__________________________________________________________________________________________________\n"
     ]
    }
   ],
   "source": [
    "model_feat_extract.summary()"
   ]
  },
  {
   "cell_type": "code",
   "execution_count": 0,
   "metadata": {
    "colab": {
     "base_uri": "https://localhost:8080/",
     "height": 156
    },
    "colab_type": "code",
    "executionInfo": {
     "elapsed": 20740,
     "status": "ok",
     "timestamp": 1559797251047,
     "user": {
      "displayName": "Anthony So",
      "photoUrl": "",
      "userId": "03884734268114843291"
     },
     "user_tz": -600
    },
    "hidden": true,
    "id": "d7YF_5E7KG4W",
    "outputId": "a8fe8c7e-0335-408d-e1c4-df632226b340"
   },
   "outputs": [
    {
     "name": "stdout",
     "output_type": "stream",
     "text": [
      "WARNING:tensorflow:From /usr/local/lib/python3.6/dist-packages/tensorflow/python/ops/init_ops.py:96: calling VarianceScaling.__init__ (from tensorflow.python.ops.init_ops) with distribution=normal is deprecated and will be removed in a future version.\n",
      "Instructions for updating:\n",
      "`normal` is a deprecated alias for `truncated_normal`\n",
      "WARNING:tensorflow:From /usr/local/lib/python3.6/dist-packages/tensorflow/python/ops/resource_variable_ops.py:435: colocate_with (from tensorflow.python.framework.ops) is deprecated and will be removed in a future version.\n",
      "Instructions for updating:\n",
      "Colocations handled automatically by placer.\n",
      "WARNING:tensorflow:No training configuration found in save file: the model was *not* compiled. Compile it manually.\n"
     ]
    }
   ],
   "source": [
    "model_feat_extract = keras.models.load_model(model_name)"
   ]
  },
  {
   "cell_type": "code",
   "execution_count": 0,
   "metadata": {
    "colab": {},
    "colab_type": "code",
    "hidden": true,
    "id": "q-Dy74EIKmqo"
   },
   "outputs": [],
   "source": [
    "train_preds = model_feat_extract.predict_generator(train_generator, max_queue_size=10, workers=-1, use_multiprocessing=True, verbose=0)"
   ]
  },
  {
   "cell_type": "code",
   "execution_count": 0,
   "metadata": {
    "colab": {},
    "colab_type": "code",
    "hidden": true,
    "id": "mgmoNpldRQHL"
   },
   "outputs": [],
   "source": [
    "val_preds = model_feat_extract.predict_generator(validation_generator, max_queue_size=10, workers=-1, use_multiprocessing=True, verbose=0)"
   ]
  },
  {
   "cell_type": "code",
   "execution_count": 0,
   "metadata": {
    "colab": {
     "base_uri": "https://localhost:8080/",
     "height": 443
    },
    "colab_type": "code",
    "executionInfo": {
     "elapsed": 762,
     "status": "error",
     "timestamp": 1559799403658,
     "user": {
      "displayName": "Anthony So",
      "photoUrl": "",
      "userId": "03884734268114843291"
     },
     "user_tz": -600
    },
    "hidden": true,
    "id": "2grg2m0TJq0F",
    "outputId": "7f7a6685-bd98-40be-d812-495983e06abe"
   },
   "outputs": [
    {
     "ename": "OSError",
     "evalue": "ignored",
     "output_type": "error",
     "traceback": [
      "\u001b[0;31m---------------------------------------------------------------------------\u001b[0m",
      "\u001b[0;31mOSError\u001b[0m                                   Traceback (most recent call last)",
      "\u001b[0;32m<ipython-input-75-1784ab7a8687>\u001b[0m in \u001b[0;36m<module>\u001b[0;34m()\u001b[0m\n\u001b[0;32m----> 1\u001b[0;31m \u001b[0;32mwith\u001b[0m \u001b[0mh5py\u001b[0m\u001b[0;34m.\u001b[0m\u001b[0mFile\u001b[0m\u001b[0;34m(\u001b[0m\u001b[0;34m'vqa_image_features.h5'\u001b[0m\u001b[0;34m,\u001b[0m\u001b[0;34m'w'\u001b[0m\u001b[0;34m)\u001b[0m \u001b[0;32mas\u001b[0m \u001b[0mhf\u001b[0m\u001b[0;34m:\u001b[0m\u001b[0;34m\u001b[0m\u001b[0;34m\u001b[0m\u001b[0m\n\u001b[0m\u001b[1;32m      2\u001b[0m   \u001b[0mhf\u001b[0m\u001b[0;34m.\u001b[0m\u001b[0mcreate_dataset\u001b[0m\u001b[0;34m(\u001b[0m\u001b[0;34m'train'\u001b[0m\u001b[0;34m,\u001b[0m \u001b[0mdata\u001b[0m\u001b[0;34m=\u001b[0m\u001b[0mtrain_preds\u001b[0m\u001b[0;34m)\u001b[0m\u001b[0;34m\u001b[0m\u001b[0;34m\u001b[0m\u001b[0m\n\u001b[1;32m      3\u001b[0m   \u001b[0mhf\u001b[0m\u001b[0;34m.\u001b[0m\u001b[0mcreate_dataset\u001b[0m\u001b[0;34m(\u001b[0m\u001b[0;34m'val'\u001b[0m\u001b[0;34m,\u001b[0m \u001b[0mdata\u001b[0m\u001b[0;34m=\u001b[0m\u001b[0mval_preds\u001b[0m\u001b[0;34m)\u001b[0m\u001b[0;34m\u001b[0m\u001b[0;34m\u001b[0m\u001b[0m\n",
      "\u001b[0;32m/usr/local/lib/python3.6/dist-packages/h5py/_hl/files.py\u001b[0m in \u001b[0;36m__init__\u001b[0;34m(self, name, mode, driver, libver, userblock_size, swmr, **kwds)\u001b[0m\n\u001b[1;32m    310\u001b[0m             \u001b[0;32mwith\u001b[0m \u001b[0mphil\u001b[0m\u001b[0;34m:\u001b[0m\u001b[0;34m\u001b[0m\u001b[0;34m\u001b[0m\u001b[0m\n\u001b[1;32m    311\u001b[0m                 \u001b[0mfapl\u001b[0m \u001b[0;34m=\u001b[0m \u001b[0mmake_fapl\u001b[0m\u001b[0;34m(\u001b[0m\u001b[0mdriver\u001b[0m\u001b[0;34m,\u001b[0m \u001b[0mlibver\u001b[0m\u001b[0;34m,\u001b[0m \u001b[0;34m**\u001b[0m\u001b[0mkwds\u001b[0m\u001b[0;34m)\u001b[0m\u001b[0;34m\u001b[0m\u001b[0;34m\u001b[0m\u001b[0m\n\u001b[0;32m--> 312\u001b[0;31m                 \u001b[0mfid\u001b[0m \u001b[0;34m=\u001b[0m \u001b[0mmake_fid\u001b[0m\u001b[0;34m(\u001b[0m\u001b[0mname\u001b[0m\u001b[0;34m,\u001b[0m \u001b[0mmode\u001b[0m\u001b[0;34m,\u001b[0m \u001b[0muserblock_size\u001b[0m\u001b[0;34m,\u001b[0m \u001b[0mfapl\u001b[0m\u001b[0;34m,\u001b[0m \u001b[0mswmr\u001b[0m\u001b[0;34m=\u001b[0m\u001b[0mswmr\u001b[0m\u001b[0;34m)\u001b[0m\u001b[0;34m\u001b[0m\u001b[0;34m\u001b[0m\u001b[0m\n\u001b[0m\u001b[1;32m    313\u001b[0m \u001b[0;34m\u001b[0m\u001b[0m\n\u001b[1;32m    314\u001b[0m                 \u001b[0;32mif\u001b[0m \u001b[0mswmr_support\u001b[0m\u001b[0;34m:\u001b[0m\u001b[0;34m\u001b[0m\u001b[0;34m\u001b[0m\u001b[0m\n",
      "\u001b[0;32m/usr/local/lib/python3.6/dist-packages/h5py/_hl/files.py\u001b[0m in \u001b[0;36mmake_fid\u001b[0;34m(name, mode, userblock_size, fapl, fcpl, swmr)\u001b[0m\n\u001b[1;32m    146\u001b[0m         \u001b[0mfid\u001b[0m \u001b[0;34m=\u001b[0m \u001b[0mh5f\u001b[0m\u001b[0;34m.\u001b[0m\u001b[0mcreate\u001b[0m\u001b[0;34m(\u001b[0m\u001b[0mname\u001b[0m\u001b[0;34m,\u001b[0m \u001b[0mh5f\u001b[0m\u001b[0;34m.\u001b[0m\u001b[0mACC_EXCL\u001b[0m\u001b[0;34m,\u001b[0m \u001b[0mfapl\u001b[0m\u001b[0;34m=\u001b[0m\u001b[0mfapl\u001b[0m\u001b[0;34m,\u001b[0m \u001b[0mfcpl\u001b[0m\u001b[0;34m=\u001b[0m\u001b[0mfcpl\u001b[0m\u001b[0;34m)\u001b[0m\u001b[0;34m\u001b[0m\u001b[0;34m\u001b[0m\u001b[0m\n\u001b[1;32m    147\u001b[0m     \u001b[0;32melif\u001b[0m \u001b[0mmode\u001b[0m \u001b[0;34m==\u001b[0m \u001b[0;34m'w'\u001b[0m\u001b[0;34m:\u001b[0m\u001b[0;34m\u001b[0m\u001b[0;34m\u001b[0m\u001b[0m\n\u001b[0;32m--> 148\u001b[0;31m         \u001b[0mfid\u001b[0m \u001b[0;34m=\u001b[0m \u001b[0mh5f\u001b[0m\u001b[0;34m.\u001b[0m\u001b[0mcreate\u001b[0m\u001b[0;34m(\u001b[0m\u001b[0mname\u001b[0m\u001b[0;34m,\u001b[0m \u001b[0mh5f\u001b[0m\u001b[0;34m.\u001b[0m\u001b[0mACC_TRUNC\u001b[0m\u001b[0;34m,\u001b[0m \u001b[0mfapl\u001b[0m\u001b[0;34m=\u001b[0m\u001b[0mfapl\u001b[0m\u001b[0;34m,\u001b[0m \u001b[0mfcpl\u001b[0m\u001b[0;34m=\u001b[0m\u001b[0mfcpl\u001b[0m\u001b[0;34m)\u001b[0m\u001b[0;34m\u001b[0m\u001b[0;34m\u001b[0m\u001b[0m\n\u001b[0m\u001b[1;32m    149\u001b[0m     \u001b[0;32melif\u001b[0m \u001b[0mmode\u001b[0m \u001b[0;34m==\u001b[0m \u001b[0;34m'a'\u001b[0m\u001b[0;34m:\u001b[0m\u001b[0;34m\u001b[0m\u001b[0;34m\u001b[0m\u001b[0m\n\u001b[1;32m    150\u001b[0m         \u001b[0;31m# Open in append mode (read/write).\u001b[0m\u001b[0;34m\u001b[0m\u001b[0;34m\u001b[0m\u001b[0;34m\u001b[0m\u001b[0m\n",
      "\u001b[0;32mh5py/_objects.pyx\u001b[0m in \u001b[0;36mh5py._objects.with_phil.wrapper\u001b[0;34m()\u001b[0m\n",
      "\u001b[0;32mh5py/_objects.pyx\u001b[0m in \u001b[0;36mh5py._objects.with_phil.wrapper\u001b[0;34m()\u001b[0m\n",
      "\u001b[0;32mh5py/h5f.pyx\u001b[0m in \u001b[0;36mh5py.h5f.create\u001b[0;34m()\u001b[0m\n",
      "\u001b[0;31mOSError\u001b[0m: Unable to create file (unable to truncate a file which is already open)"
     ]
    }
   ],
   "source": [
    "with h5py.File('vqa_image_features.h5','w') as hf:\n",
    "  hf.create_dataset('train', data=train_preds)\n",
    "  hf.create_dataset('val', data=val_preds)"
   ]
  },
  {
   "cell_type": "code",
   "execution_count": 0,
   "metadata": {
    "colab": {},
    "colab_type": "code",
    "hidden": true,
    "id": "mZOTe3YUJqxO"
   },
   "outputs": [],
   "source": [
    "with h5py.File('vqa_image_features.h5','r') as hf:\n",
    "  train_img_feats =  np.array(hf.get('train'))\n",
    "  val_img_feats =  np.array(hf.get('val'))"
   ]
  },
  {
   "cell_type": "code",
   "execution_count": 0,
   "metadata": {
    "colab": {
     "base_uri": "https://localhost:8080/",
     "height": 34
    },
    "colab_type": "code",
    "executionInfo": {
     "elapsed": 692,
     "status": "ok",
     "timestamp": 1559799319648,
     "user": {
      "displayName": "Anthony So",
      "photoUrl": "",
      "userId": "03884734268114843291"
     },
     "user_tz": -600
    },
    "hidden": true,
    "id": "Ay-4JhUjR9yN",
    "outputId": "1d990be8-3f22-49af-b09a-3b1c42731581"
   },
   "outputs": [
    {
     "data": {
      "text/plain": [
       "array(None, dtype=object)"
      ]
     },
     "execution_count": 71,
     "metadata": {
      "tags": []
     },
     "output_type": "execute_result"
    }
   ],
   "source": [
    "val_img_feats"
   ]
  },
  {
   "cell_type": "markdown",
   "metadata": {
    "colab_type": "text",
    "heading_collapsed": true,
    "id": "XVHnxFE4XrIZ"
   },
   "source": [
    "# Download VQA Dataset"
   ]
  },
  {
   "cell_type": "code",
   "execution_count": 11,
   "metadata": {
    "colab": {
     "base_uri": "https://localhost:8080/",
     "height": 493
    },
    "colab_type": "code",
    "executionInfo": {
     "elapsed": 7806,
     "status": "ok",
     "timestamp": 1559784158140,
     "user": {
      "displayName": "Anthony So",
      "photoUrl": "",
      "userId": "03884734268114843291"
     },
     "user_tz": -600
    },
    "hidden": true,
    "id": "fvt2V9wwXrX0",
    "outputId": "dde83e4f-8359-4eb2-d644-1ebc740f0535"
   },
   "outputs": [
    {
     "name": "stdout",
     "output_type": "stream",
     "text": [
      "--2019-06-07 07:32:43--  https://s3.amazonaws.com/cvmlp/vqa/mscoco/vqa/Questions_Val_mscoco.zip\n",
      "Resolving s3.amazonaws.com (s3.amazonaws.com)... 52.216.232.61\n",
      "Connecting to s3.amazonaws.com (s3.amazonaws.com)|52.216.232.61|:443... connected.\n",
      "HTTP request sent, awaiting response... 200 OK\n",
      "Length: 10594497 (10M) [application/zip]\n",
      "Saving to: 'Questions_Val_mscoco.zip’\n",
      "\n",
      "Questions_Val_mscoc 100%[===================>]  10.10M  1.80MB/s    in 14s     \n",
      "\n",
      "2019-06-07 07:32:57 (755 KB/s) - 'Questions_Val_mscoco.zip’ saved [10594497/10594497]\n",
      "\n",
      "Archive:  Questions_Val_mscoco.zip\n",
      "  inflating: data/vqa_v1/OpenEnded_mscoco_val2014_questions.json  \n",
      "  inflating: data/vqa_v1/MultipleChoice_mscoco_val2014_questions.json  \n",
      "--2019-06-07 07:32:58--  https://s3.amazonaws.com/cvmlp/vqa/mscoco/vqa/Questions_Train_mscoco.zip\n",
      "Resolving s3.amazonaws.com (s3.amazonaws.com)... 52.216.109.117\n",
      "Connecting to s3.amazonaws.com (s3.amazonaws.com)|52.216.109.117|:443... connected.\n",
      "HTTP request sent, awaiting response... 200 OK\n",
      "Length: 21985607 (21M) [application/zip]\n",
      "Saving to: 'Questions_Train_mscoco.zip’\n",
      "\n",
      "Questions_Train_msc 100%[===================>]  20.97M  4.56MB/s    in 5.7s    \n",
      "\n",
      "2019-06-07 07:33:04 (3.65 MB/s) - 'Questions_Train_mscoco.zip’ saved [21985607/21985607]\n",
      "\n",
      "Archive:  Questions_Train_mscoco.zip\n",
      "  inflating: data/vqa_v1/OpenEnded_mscoco_train2014_questions.json  \n",
      "  inflating: data/vqa_v1/MultipleChoice_mscoco_train2014_questions.json  \n"
     ]
    }
   ],
   "source": [
    "!wget https://s3.amazonaws.com/cvmlp/vqa/mscoco/vqa/Questions_Val_mscoco.zip && ! unzip Questions_Val_mscoco.zip -d data/vqa_v1\n",
    "!wget https://s3.amazonaws.com/cvmlp/vqa/mscoco/vqa/Questions_Train_mscoco.zip && ! unzip Questions_Train_mscoco.zip -d data/vqa_v1"
   ]
  },
  {
   "cell_type": "code",
   "execution_count": 12,
   "metadata": {
    "colab": {
     "base_uri": "https://localhost:8080/",
     "height": 459
    },
    "colab_type": "code",
    "executionInfo": {
     "elapsed": 7917,
     "status": "ok",
     "timestamp": 1559784325007,
     "user": {
      "displayName": "Anthony So",
      "photoUrl": "",
      "userId": "03884734268114843291"
     },
     "user_tz": -600
    },
    "hidden": true,
    "id": "MMS22of_Y8YF",
    "outputId": "fdab5ea4-6167-4bdd-8eaf-3a17f61fa50c"
   },
   "outputs": [
    {
     "name": "stdout",
     "output_type": "stream",
     "text": [
      "--2019-06-07 07:33:05--  https://s3.amazonaws.com/cvmlp/vqa/mscoco/vqa/Annotations_Train_mscoco.zip\n",
      "Resolving s3.amazonaws.com (s3.amazonaws.com)... 52.216.229.101\n",
      "Connecting to s3.amazonaws.com (s3.amazonaws.com)|52.216.229.101|:443... connected.\n",
      "HTTP request sent, awaiting response... 200 OK\n",
      "Length: 12167843 (12M) [application/zip]\n",
      "Saving to: 'Annotations_Train_mscoco.zip’\n",
      "\n",
      "Annotations_Train_m 100%[===================>]  11.60M  3.44MB/s    in 3.4s    \n",
      "\n",
      "2019-06-07 07:33:09 (3.44 MB/s) - 'Annotations_Train_mscoco.zip’ saved [12167843/12167843]\n",
      "\n",
      "Archive:  Annotations_Train_mscoco.zip\n",
      "  inflating: data/vqa_v1/mscoco_train2014_annotations.json  \n",
      "--2019-06-07 07:33:10--  https://s3.amazonaws.com/cvmlp/vqa/mscoco/vqa/Annotations_Val_mscoco.zip\n",
      "Resolving s3.amazonaws.com (s3.amazonaws.com)... 52.216.97.117\n",
      "Connecting to s3.amazonaws.com (s3.amazonaws.com)|52.216.97.117|:443... connected.\n",
      "HTTP request sent, awaiting response... 200 OK\n",
      "Length: 6031604 (5.8M) [application/zip]\n",
      "Saving to: 'Annotations_Val_mscoco.zip’\n",
      "\n",
      "Annotations_Val_msc 100%[===================>]   5.75M  2.23MB/s    in 2.6s    \n",
      "\n",
      "2019-06-07 07:33:14 (2.23 MB/s) - 'Annotations_Val_mscoco.zip’ saved [6031604/6031604]\n",
      "\n",
      "Archive:  Annotations_Val_mscoco.zip\n",
      "  inflating: data/vqa_v1/mscoco_val2014_annotations.json  \n"
     ]
    }
   ],
   "source": [
    "!wget https://s3.amazonaws.com/cvmlp/vqa/mscoco/vqa/Annotations_Train_mscoco.zip && ! unzip Annotations_Train_mscoco.zip -d data/vqa_v1\n",
    "!wget https://s3.amazonaws.com/cvmlp/vqa/mscoco/vqa/Annotations_Val_mscoco.zip && ! unzip Annotations_Val_mscoco.zip -d data/vqa_v1"
   ]
  },
  {
   "cell_type": "markdown",
   "metadata": {
    "colab_type": "text",
    "id": "8yoI_RkUZBWv"
   },
   "source": [
    "# Prepare VQA Dataframes"
   ]
  },
  {
   "cell_type": "markdown",
   "metadata": {
    "colab_type": "text",
    "id": "otccObzJaVDB"
   },
   "source": [
    "## Load JSON Files"
   ]
  },
  {
   "cell_type": "code",
   "execution_count": 14,
   "metadata": {
    "colab": {},
    "colab_type": "code",
    "id": "ze37k1q2ZAfy"
   },
   "outputs": [],
   "source": [
    "data_folder = \"data/vqa_v1/\"\n",
    "\n",
    "train_annot_file   = f\"{data_folder}/mscoco_train2014_annotations.json\"\n",
    "val_annot_file     = f\"{data_folder}/mscoco_val2014_annotations.json\"\n",
    "\n",
    "train_open_quest_file   = f\"{data_folder}OpenEnded_mscoco_train2014_questions.json\" \n",
    "train_mult_quest_file   = f\"{data_folder}MultipleChoice_mscoco_train2014_questions.json\" \n",
    "val_open_quest_file     = f\"{data_folder}OpenEnded_mscoco_val2014_questions.json\" \n",
    "val_mult_quest_file     = f\"{data_folder}MultipleChoice_mscoco_val2014_questions.json\"  \n",
    "\n",
    "train_img_folder   = \"train2014\"\n",
    "val_img_folder     = \"val2014\"\n"
   ]
  },
  {
   "cell_type": "code",
   "execution_count": 15,
   "metadata": {
    "colab": {},
    "colab_type": "code",
    "id": "SXYn_VnCZdbs"
   },
   "outputs": [],
   "source": [
    "def load_json_file(file_path):\n",
    "  with open(file_path, \"r\") as read_file:\n",
    "    json_dict = json.load(read_file)\n",
    "  return json_dict\n",
    "\n",
    "def json_2_df(file_path):  \n",
    "  if 'annot' in file_path:\n",
    "    key = 'annotations'\n",
    "  elif 'quest' in file_path:\n",
    "    key = 'questions'\n",
    "  else:\n",
    "    print(\"[ERROR] JSON file should be annotations or questions\")\n",
    "    return None\n",
    "  json_file = load_json_file(file_path)\n",
    "  json_dict = json_file.get(key)\n",
    "  json_df = pd.DataFrame(json_dict)\n",
    "  return json_df\n",
    "\n",
    "def get_ques_annot_json(train_annot_file, val_annot_file, train_open_quest_file, val_open_quest_file):\n",
    "  train_annot_df      = json_2_df(train_annot_file)\n",
    "  val_annot_df        = json_2_df(val_annot_file)\n",
    "  train_open_quest_df = json_2_df(train_open_quest_file)\n",
    "  val_open_quest_df  = json_2_df(val_open_quest_file)\n",
    "  \n",
    "  return train_annot_df, val_annot_df, train_open_quest_df, val_open_quest_df"
   ]
  },
  {
   "cell_type": "code",
   "execution_count": 6,
   "metadata": {
    "colab": {},
    "colab_type": "code",
    "id": "WrFdrdIOZX8e"
   },
   "outputs": [],
   "source": [
    "train_annot_df, val_annot_df, train_open_quest_df, val_open_quest_df = get_ques_annot_json(train_annot_file, val_annot_file, train_open_quest_file, val_open_quest_file)"
   ]
  },
  {
   "cell_type": "code",
   "execution_count": 7,
   "metadata": {
    "colab": {
     "base_uri": "https://localhost:8080/",
     "height": 204
    },
    "colab_type": "code",
    "executionInfo": {
     "elapsed": 4067,
     "status": "ok",
     "timestamp": 1559820198002,
     "user": {
      "displayName": "Anthony So",
      "photoUrl": "",
      "userId": "03884734268114843291"
     },
     "user_tz": -600
    },
    "id": "I9cMjmG7h0RX",
    "outputId": "8dc26efd-a7a3-47ce-99b7-dca915e6fc56"
   },
   "outputs": [
    {
     "data": {
      "text/html": [
       "<div>\n",
       "<style scoped>\n",
       "    .dataframe tbody tr th:only-of-type {\n",
       "        vertical-align: middle;\n",
       "    }\n",
       "\n",
       "    .dataframe tbody tr th {\n",
       "        vertical-align: top;\n",
       "    }\n",
       "\n",
       "    .dataframe thead th {\n",
       "        text-align: right;\n",
       "    }\n",
       "</style>\n",
       "<table border=\"1\" class=\"dataframe\">\n",
       "  <thead>\n",
       "    <tr style=\"text-align: right;\">\n",
       "      <th></th>\n",
       "      <th>answer_type</th>\n",
       "      <th>answers</th>\n",
       "      <th>image_id</th>\n",
       "      <th>multiple_choice_answer</th>\n",
       "      <th>question_id</th>\n",
       "      <th>question_type</th>\n",
       "    </tr>\n",
       "  </thead>\n",
       "  <tbody>\n",
       "    <tr>\n",
       "      <th>0</th>\n",
       "      <td>other</td>\n",
       "      <td>[{'answer': 'oval', 'answer_confidence': 'yes'...</td>\n",
       "      <td>487025</td>\n",
       "      <td>curved</td>\n",
       "      <td>4870250</td>\n",
       "      <td>what</td>\n",
       "    </tr>\n",
       "    <tr>\n",
       "      <th>1</th>\n",
       "      <td>yes/no</td>\n",
       "      <td>[{'answer': 'yes', 'answer_confidence': 'yes',...</td>\n",
       "      <td>487025</td>\n",
       "      <td>yes</td>\n",
       "      <td>4870251</td>\n",
       "      <td>is there a</td>\n",
       "    </tr>\n",
       "    <tr>\n",
       "      <th>2</th>\n",
       "      <td>other</td>\n",
       "      <td>[{'answer': '1', 'answer_confidence': 'yes', '...</td>\n",
       "      <td>487025</td>\n",
       "      <td>1</td>\n",
       "      <td>4870252</td>\n",
       "      <td>is this</td>\n",
       "    </tr>\n",
       "    <tr>\n",
       "      <th>3</th>\n",
       "      <td>yes/no</td>\n",
       "      <td>[{'answer': 'no', 'answer_confidence': 'yes', ...</td>\n",
       "      <td>78077</td>\n",
       "      <td>no</td>\n",
       "      <td>780770</td>\n",
       "      <td>is this a</td>\n",
       "    </tr>\n",
       "    <tr>\n",
       "      <th>4</th>\n",
       "      <td>other</td>\n",
       "      <td>[{'answer': 'white', 'answer_confidence': 'yes...</td>\n",
       "      <td>78077</td>\n",
       "      <td>white</td>\n",
       "      <td>780771</td>\n",
       "      <td>what color is the</td>\n",
       "    </tr>\n",
       "  </tbody>\n",
       "</table>\n",
       "</div>"
      ],
      "text/plain": [
       "  answer_type                                            answers  image_id  \\\n",
       "0       other  [{'answer': 'oval', 'answer_confidence': 'yes'...    487025   \n",
       "1      yes/no  [{'answer': 'yes', 'answer_confidence': 'yes',...    487025   \n",
       "2       other  [{'answer': '1', 'answer_confidence': 'yes', '...    487025   \n",
       "3      yes/no  [{'answer': 'no', 'answer_confidence': 'yes', ...     78077   \n",
       "4       other  [{'answer': 'white', 'answer_confidence': 'yes...     78077   \n",
       "\n",
       "  multiple_choice_answer  question_id      question_type  \n",
       "0                 curved      4870250               what  \n",
       "1                    yes      4870251         is there a  \n",
       "2                      1      4870252            is this  \n",
       "3                     no       780770          is this a  \n",
       "4                  white       780771  what color is the  "
      ]
     },
     "execution_count": 7,
     "metadata": {},
     "output_type": "execute_result"
    }
   ],
   "source": [
    "train_annot_df.head()"
   ]
  },
  {
   "cell_type": "code",
   "execution_count": 8,
   "metadata": {
    "colab": {
     "base_uri": "https://localhost:8080/",
     "height": 204
    },
    "colab_type": "code",
    "executionInfo": {
     "elapsed": 2367,
     "status": "ok",
     "timestamp": 1559820198002,
     "user": {
      "displayName": "Anthony So",
      "photoUrl": "",
      "userId": "03884734268114843291"
     },
     "user_tz": -600
    },
    "id": "1E9ziI-ncngM",
    "outputId": "bb145155-e832-408a-d5fd-5f506f81c079"
   },
   "outputs": [
    {
     "data": {
      "text/html": [
       "<div>\n",
       "<style scoped>\n",
       "    .dataframe tbody tr th:only-of-type {\n",
       "        vertical-align: middle;\n",
       "    }\n",
       "\n",
       "    .dataframe tbody tr th {\n",
       "        vertical-align: top;\n",
       "    }\n",
       "\n",
       "    .dataframe thead th {\n",
       "        text-align: right;\n",
       "    }\n",
       "</style>\n",
       "<table border=\"1\" class=\"dataframe\">\n",
       "  <thead>\n",
       "    <tr style=\"text-align: right;\">\n",
       "      <th></th>\n",
       "      <th>answer_type</th>\n",
       "      <th>answers</th>\n",
       "      <th>image_id</th>\n",
       "      <th>multiple_choice_answer</th>\n",
       "      <th>question_id</th>\n",
       "      <th>question_type</th>\n",
       "    </tr>\n",
       "  </thead>\n",
       "  <tbody>\n",
       "    <tr>\n",
       "      <th>0</th>\n",
       "      <td>other</td>\n",
       "      <td>[{'answer': 'wood', 'answer_confidence': 'yes'...</td>\n",
       "      <td>350623</td>\n",
       "      <td>wood</td>\n",
       "      <td>3506232</td>\n",
       "      <td>what is the</td>\n",
       "    </tr>\n",
       "    <tr>\n",
       "      <th>1</th>\n",
       "      <td>yes/no</td>\n",
       "      <td>[{'answer': 'no', 'answer_confidence': 'yes', ...</td>\n",
       "      <td>350623</td>\n",
       "      <td>no</td>\n",
       "      <td>3506230</td>\n",
       "      <td>is the</td>\n",
       "    </tr>\n",
       "    <tr>\n",
       "      <th>2</th>\n",
       "      <td>other</td>\n",
       "      <td>[{'answer': 'kettles', 'answer_confidence': 'y...</td>\n",
       "      <td>350623</td>\n",
       "      <td>kettles</td>\n",
       "      <td>3506231</td>\n",
       "      <td>what</td>\n",
       "    </tr>\n",
       "    <tr>\n",
       "      <th>3</th>\n",
       "      <td>yes/no</td>\n",
       "      <td>[{'answer': 'yes', 'answer_confidence': 'maybe...</td>\n",
       "      <td>8647</td>\n",
       "      <td>no</td>\n",
       "      <td>86472</td>\n",
       "      <td>is this an</td>\n",
       "    </tr>\n",
       "    <tr>\n",
       "      <th>4</th>\n",
       "      <td>yes/no</td>\n",
       "      <td>[{'answer': 'yes', 'answer_confidence': 'yes',...</td>\n",
       "      <td>8647</td>\n",
       "      <td>yes</td>\n",
       "      <td>86470</td>\n",
       "      <td>are there</td>\n",
       "    </tr>\n",
       "  </tbody>\n",
       "</table>\n",
       "</div>"
      ],
      "text/plain": [
       "  answer_type                                            answers  image_id  \\\n",
       "0       other  [{'answer': 'wood', 'answer_confidence': 'yes'...    350623   \n",
       "1      yes/no  [{'answer': 'no', 'answer_confidence': 'yes', ...    350623   \n",
       "2       other  [{'answer': 'kettles', 'answer_confidence': 'y...    350623   \n",
       "3      yes/no  [{'answer': 'yes', 'answer_confidence': 'maybe...      8647   \n",
       "4      yes/no  [{'answer': 'yes', 'answer_confidence': 'yes',...      8647   \n",
       "\n",
       "  multiple_choice_answer  question_id question_type  \n",
       "0                   wood      3506232   what is the  \n",
       "1                     no      3506230        is the  \n",
       "2                kettles      3506231          what  \n",
       "3                     no        86472    is this an  \n",
       "4                    yes        86470     are there  "
      ]
     },
     "execution_count": 8,
     "metadata": {},
     "output_type": "execute_result"
    }
   ],
   "source": [
    "val_annot_df.head()"
   ]
  },
  {
   "cell_type": "markdown",
   "metadata": {
    "colab_type": "text",
    "id": "lLRELf3KdRQt"
   },
   "source": [
    "## Rename Image file"
   ]
  },
  {
   "cell_type": "code",
   "execution_count": 16,
   "metadata": {
    "colab": {},
    "colab_type": "code",
    "id": "plrRWZxlcnni"
   },
   "outputs": [],
   "source": [
    "def get_image_filename(img_id, dataSubType):\n",
    "  return f\"COCO_{dataSubType}_{str(img_id).zfill(12)}.jpg\""
   ]
  },
  {
   "cell_type": "code",
   "execution_count": 10,
   "metadata": {
    "colab": {},
    "colab_type": "code",
    "id": "maC7tXdFdJ26"
   },
   "outputs": [],
   "source": [
    "train_annot_df['image_name'] = train_annot_df['image_id'].apply(lambda img_id: get_image_filename(img_id, dataSubType=train_img_folder))\n",
    "val_annot_df['image_name'] =   val_annot_df['image_id'].apply(lambda img_id: get_image_filename(img_id, dataSubType=val_img_folder))"
   ]
  },
  {
   "cell_type": "code",
   "execution_count": 11,
   "metadata": {
    "colab": {
     "base_uri": "https://localhost:8080/",
     "height": 204
    },
    "colab_type": "code",
    "executionInfo": {
     "elapsed": 934,
     "status": "ok",
     "timestamp": 1559820212035,
     "user": {
      "displayName": "Anthony So",
      "photoUrl": "",
      "userId": "03884734268114843291"
     },
     "user_tz": -600
    },
    "id": "MPffW3t3bwEd",
    "outputId": "4d4a946e-3eee-4bc8-8093-7de6d7c90666"
   },
   "outputs": [
    {
     "data": {
      "text/html": [
       "<div>\n",
       "<style scoped>\n",
       "    .dataframe tbody tr th:only-of-type {\n",
       "        vertical-align: middle;\n",
       "    }\n",
       "\n",
       "    .dataframe tbody tr th {\n",
       "        vertical-align: top;\n",
       "    }\n",
       "\n",
       "    .dataframe thead th {\n",
       "        text-align: right;\n",
       "    }\n",
       "</style>\n",
       "<table border=\"1\" class=\"dataframe\">\n",
       "  <thead>\n",
       "    <tr style=\"text-align: right;\">\n",
       "      <th></th>\n",
       "      <th>answer_type</th>\n",
       "      <th>answers</th>\n",
       "      <th>image_id</th>\n",
       "      <th>multiple_choice_answer</th>\n",
       "      <th>question_id</th>\n",
       "      <th>question_type</th>\n",
       "      <th>image_name</th>\n",
       "    </tr>\n",
       "  </thead>\n",
       "  <tbody>\n",
       "    <tr>\n",
       "      <th>0</th>\n",
       "      <td>other</td>\n",
       "      <td>[{'answer': 'oval', 'answer_confidence': 'yes'...</td>\n",
       "      <td>487025</td>\n",
       "      <td>curved</td>\n",
       "      <td>4870250</td>\n",
       "      <td>what</td>\n",
       "      <td>COCO_train2014_000000487025.jpg</td>\n",
       "    </tr>\n",
       "    <tr>\n",
       "      <th>1</th>\n",
       "      <td>yes/no</td>\n",
       "      <td>[{'answer': 'yes', 'answer_confidence': 'yes',...</td>\n",
       "      <td>487025</td>\n",
       "      <td>yes</td>\n",
       "      <td>4870251</td>\n",
       "      <td>is there a</td>\n",
       "      <td>COCO_train2014_000000487025.jpg</td>\n",
       "    </tr>\n",
       "    <tr>\n",
       "      <th>2</th>\n",
       "      <td>other</td>\n",
       "      <td>[{'answer': '1', 'answer_confidence': 'yes', '...</td>\n",
       "      <td>487025</td>\n",
       "      <td>1</td>\n",
       "      <td>4870252</td>\n",
       "      <td>is this</td>\n",
       "      <td>COCO_train2014_000000487025.jpg</td>\n",
       "    </tr>\n",
       "    <tr>\n",
       "      <th>3</th>\n",
       "      <td>yes/no</td>\n",
       "      <td>[{'answer': 'no', 'answer_confidence': 'yes', ...</td>\n",
       "      <td>78077</td>\n",
       "      <td>no</td>\n",
       "      <td>780770</td>\n",
       "      <td>is this a</td>\n",
       "      <td>COCO_train2014_000000078077.jpg</td>\n",
       "    </tr>\n",
       "    <tr>\n",
       "      <th>4</th>\n",
       "      <td>other</td>\n",
       "      <td>[{'answer': 'white', 'answer_confidence': 'yes...</td>\n",
       "      <td>78077</td>\n",
       "      <td>white</td>\n",
       "      <td>780771</td>\n",
       "      <td>what color is the</td>\n",
       "      <td>COCO_train2014_000000078077.jpg</td>\n",
       "    </tr>\n",
       "  </tbody>\n",
       "</table>\n",
       "</div>"
      ],
      "text/plain": [
       "  answer_type                                            answers  image_id  \\\n",
       "0       other  [{'answer': 'oval', 'answer_confidence': 'yes'...    487025   \n",
       "1      yes/no  [{'answer': 'yes', 'answer_confidence': 'yes',...    487025   \n",
       "2       other  [{'answer': '1', 'answer_confidence': 'yes', '...    487025   \n",
       "3      yes/no  [{'answer': 'no', 'answer_confidence': 'yes', ...     78077   \n",
       "4       other  [{'answer': 'white', 'answer_confidence': 'yes...     78077   \n",
       "\n",
       "  multiple_choice_answer  question_id      question_type  \\\n",
       "0                 curved      4870250               what   \n",
       "1                    yes      4870251         is there a   \n",
       "2                      1      4870252            is this   \n",
       "3                     no       780770          is this a   \n",
       "4                  white       780771  what color is the   \n",
       "\n",
       "                        image_name  \n",
       "0  COCO_train2014_000000487025.jpg  \n",
       "1  COCO_train2014_000000487025.jpg  \n",
       "2  COCO_train2014_000000487025.jpg  \n",
       "3  COCO_train2014_000000078077.jpg  \n",
       "4  COCO_train2014_000000078077.jpg  "
      ]
     },
     "execution_count": 11,
     "metadata": {},
     "output_type": "execute_result"
    }
   ],
   "source": [
    "train_annot_df.head()"
   ]
  },
  {
   "cell_type": "markdown",
   "metadata": {
    "colab_type": "text",
    "id": "P7haFFV1d9-4"
   },
   "source": [
    "## Remove Missing Images"
   ]
  },
  {
   "cell_type": "code",
   "execution_count": 17,
   "metadata": {
    "colab": {
     "base_uri": "https://localhost:8080/",
     "height": 51
    },
    "colab_type": "code",
    "executionInfo": {
     "elapsed": 2039,
     "status": "ok",
     "timestamp": 1559820777614,
     "user": {
      "displayName": "Anthony So",
      "photoUrl": "",
      "userId": "03884734268114843291"
     },
     "user_tz": -600
    },
    "id": "I6vi49hJd-GF",
    "outputId": "8b955703-78a0-4a7c-98c1-c64b905d534a"
   },
   "outputs": [
    {
     "name": "stdout",
     "output_type": "stream",
     "text": [
      "82783\n"
     ]
    },
    {
     "data": {
      "text/plain": [
       "(248349, 7)"
      ]
     },
     "execution_count": 17,
     "metadata": {},
     "output_type": "execute_result"
    }
   ],
   "source": [
    "train_dir = \"data/coco/images/train2014/\"\n",
    "train_images = list_images_from_dir(train_dir)\n",
    "train_annot_df = remove_missing_images(train_annot_df, 'image_name', train_images)\n",
    "train_annot_df.shape"
   ]
  },
  {
   "cell_type": "code",
   "execution_count": 18,
   "metadata": {
    "colab": {
     "base_uri": "https://localhost:8080/",
     "height": 51
    },
    "colab_type": "code",
    "executionInfo": {
     "elapsed": 1317,
     "status": "ok",
     "timestamp": 1559820806181,
     "user": {
      "displayName": "Anthony So",
      "photoUrl": "",
      "userId": "03884734268114843291"
     },
     "user_tz": -600
    },
    "id": "KQpLZRiIfqN8",
    "outputId": "57cb1355-9811-436f-9e05-b2d91e83b681"
   },
   "outputs": [
    {
     "name": "stdout",
     "output_type": "stream",
     "text": [
      "40504\n"
     ]
    },
    {
     "data": {
      "text/plain": [
       "(121512, 7)"
      ]
     },
     "execution_count": 18,
     "metadata": {},
     "output_type": "execute_result"
    }
   ],
   "source": [
    "val_dir = \"data/coco/images/val2014/\"\n",
    "val_images = list_images_from_dir(val_dir)\n",
    "val_annot_df = remove_missing_images(val_annot_df, 'image_name', val_images)\n",
    "val_annot_df.shape"
   ]
  },
  {
   "cell_type": "markdown",
   "metadata": {
    "colab_type": "text",
    "id": "BigveqBDaRMy"
   },
   "source": [
    "## Map Answers"
   ]
  },
  {
   "cell_type": "code",
   "execution_count": 19,
   "metadata": {
    "colab": {},
    "colab_type": "code",
    "id": "lX9TCvWbaT9f"
   },
   "outputs": [],
   "source": [
    "def get_anwer_mappings(df, ans_col='multiple_choice_answer'):\n",
    "  answer_mapping = df[ans_col].value_counts().reset_index()[0:1000]\n",
    "  answer_mapping.columns = ['answer_mapping', 'answer_freq']\n",
    "  answer_mapping = answer_mapping[['answer_mapping']].to_dict()\n",
    "  answer_mapping = answer_mapping.get('answer_mapping')\n",
    "  inv_answer_mapping = {v: k for k, v in answer_mapping.items()}\n",
    "  inv_answer_mapping[np.nan] = -1\n",
    "  answer_mapping[-1] = np.nan\n",
    "  \n",
    "  return answer_mapping, inv_answer_mapping"
   ]
  },
  {
   "cell_type": "code",
   "execution_count": 20,
   "metadata": {
    "colab": {},
    "colab_type": "code",
    "id": "shIeBotBabD9"
   },
   "outputs": [],
   "source": [
    "answer_mapping, inv_answer_mapping = get_anwer_mappings(train_annot_df, ans_col='multiple_choice_answer')"
   ]
  },
  {
   "cell_type": "code",
   "execution_count": null,
   "metadata": {
    "colab": {},
    "colab_type": "code",
    "id": "oMknI8I3aeFx"
   },
   "outputs": [],
   "source": [
    "def map_answers(df, inv_answer_mapping, ans_col='multiple_choice_answer'):\n",
    "  df['answer_id'] = df[ans_col].replace(inv_answer_mapping)\n",
    "\n",
    "  # Replace all string answers that are not in the top 1000 list\n",
    "  mask = df['answer_id'].str.contains(r'^[0-9]+$')\n",
    "  mask = ~(mask.fillna(True))\n",
    "  df.loc[mask, 'answer_id'] = -1\n",
    "\n",
    "  df['answer_id'] = df['answer_id'].astype('int')\n",
    "\n",
    "  # Replace all answers with value over 1000\n",
    "  df.loc[df['answer_id'] >= (len(inv_answer_mapping)-1), 'answer_id'] = -1\n",
    "\n",
    "  assert len(inv_answer_mapping) >= df['answer_id'].nunique()\n",
    "  \n",
    "  return df['answer_id']\n",
    "\n",
    "def filter_answer(df, unknown=-1):\n",
    "  return df[df['answer_id'] > unknown]"
   ]
  },
  {
   "cell_type": "code",
   "execution_count": null,
   "metadata": {
    "colab": {
     "base_uri": "https://localhost:8080/",
     "height": 204
    },
    "colab_type": "code",
    "executionInfo": {
     "elapsed": 18718,
     "status": "ok",
     "timestamp": 1559820836517,
     "user": {
      "displayName": "Anthony So",
      "photoUrl": "",
      "userId": "03884734268114843291"
     },
     "user_tz": -600
    },
    "id": "rp85G7eBag6g",
    "outputId": "03090bf3-ddc4-457e-baf5-7950b9dd92c7"
   },
   "outputs": [],
   "source": [
    "train_annot_df['answer_id'] = map_answers(train_annot_df, inv_answer_mapping, ans_col='multiple_choice_answer')\n",
    "#print(train_annot_df.shape)\n",
    "train_annot_df = filter_answer(train_annot_df, -1)\n",
    "#print(train_annot_df.shape)\n",
    "train_annot_df.head()"
   ]
  },
  {
   "cell_type": "code",
   "execution_count": null,
   "metadata": {
    "colab": {
     "base_uri": "https://localhost:8080/",
     "height": 204
    },
    "colab_type": "code",
    "executionInfo": {
     "elapsed": 24186,
     "status": "ok",
     "timestamp": 1559820841999,
     "user": {
      "displayName": "Anthony So",
      "photoUrl": "",
      "userId": "03884734268114843291"
     },
     "user_tz": -600
    },
    "id": "YLylLOQMakBJ",
    "outputId": "d9a0cc53-38cc-46b7-f8db-e3343c669b97"
   },
   "outputs": [],
   "source": [
    "val_annot_df['answer_id'] = map_answers(val_annot_df, inv_answer_mapping, ans_col='multiple_choice_answer')\n",
    "#print(val_annot_df.shape)\n",
    "val_annot_df = filter_answer(val_annot_df, -1)\n",
    "#print(val_annot_df.shape)\n",
    "val_annot_df.head()"
   ]
  },
  {
   "cell_type": "markdown",
   "metadata": {
    "colab_type": "text",
    "id": "Y6iF6DCxaozf"
   },
   "source": [
    "## Define questions, answer, image table"
   ]
  },
  {
   "cell_type": "code",
   "execution_count": null,
   "metadata": {
    "colab": {},
    "colab_type": "code",
    "id": "af-wHaVeaoQr"
   },
   "outputs": [],
   "source": [
    "def get_image_path(img_id, path):\n",
    "  return f\"{path}{img_id}\"\n",
    "\n",
    "def get_data_table(annot_df, open_quest_df, path):\n",
    "  df = annot_df[['question_id','question_type', 'answer_id', 'multiple_choice_answer','answer_type', 'image_id', 'image_name']]\n",
    "  df = df.merge(open_quest_df, how='left', on=['question_id', 'image_id'])\n",
    "\n",
    "  df['file_name'] = df['image_name'].apply(lambda img_id: get_image_path(img_id, path=path))\n",
    "\n",
    "  df = df[['question_id', 'question', 'question_type', 'answer_id', 'multiple_choice_answer','answer_type', 'image_id', 'file_name']]\n",
    "  df = df.rename(index=str, columns={\"multiple_choice_answer\": \"name\"})\n",
    "  \n",
    "  #img_list = os.listdir(f\"{path}\")\n",
    "  #print(len(img_list))\n",
    "  #mask = df['image_path'].str.replace(f\"{path}{dataSubType}/\", \"\").isin(img_list)\n",
    "  \n",
    "  return df#[mask]"
   ]
  },
  {
   "cell_type": "code",
   "execution_count": null,
   "metadata": {
    "colab": {},
    "colab_type": "code",
    "id": "yOjN97a0asWI"
   },
   "outputs": [],
   "source": [
    "training_df = get_data_table(train_annot_df, train_open_quest_df, path=train_dir)\n",
    "valid_df    = get_data_table(val_annot_df,   val_open_quest_df,   path=val_dir)"
   ]
  },
  {
   "cell_type": "code",
   "execution_count": 30,
   "metadata": {
    "colab": {
     "base_uri": "https://localhost:8080/",
     "height": 221
    },
    "colab_type": "code",
    "executionInfo": {
     "elapsed": 25308,
     "status": "ok",
     "timestamp": 1559820843136,
     "user": {
      "displayName": "Anthony So",
      "photoUrl": "",
      "userId": "03884734268114843291"
     },
     "user_tz": -600
    },
    "id": "YXmHq3a9awp6",
    "outputId": "2552262c-5778-4b2a-f18d-78b08e5ff008",
    "scrolled": true
   },
   "outputs": [
    {
     "name": "stdout",
     "output_type": "stream",
     "text": [
      "(216081, 8)\n"
     ]
    },
    {
     "data": {
      "text/html": [
       "<div>\n",
       "<style scoped>\n",
       "    .dataframe tbody tr th:only-of-type {\n",
       "        vertical-align: middle;\n",
       "    }\n",
       "\n",
       "    .dataframe tbody tr th {\n",
       "        vertical-align: top;\n",
       "    }\n",
       "\n",
       "    .dataframe thead th {\n",
       "        text-align: right;\n",
       "    }\n",
       "</style>\n",
       "<table border=\"1\" class=\"dataframe\">\n",
       "  <thead>\n",
       "    <tr style=\"text-align: right;\">\n",
       "      <th></th>\n",
       "      <th>question_id</th>\n",
       "      <th>question</th>\n",
       "      <th>question_type</th>\n",
       "      <th>answer_id</th>\n",
       "      <th>name</th>\n",
       "      <th>answer_type</th>\n",
       "      <th>image_id</th>\n",
       "      <th>file_name</th>\n",
       "    </tr>\n",
       "  </thead>\n",
       "  <tbody>\n",
       "    <tr>\n",
       "      <th>0</th>\n",
       "      <td>4870251</td>\n",
       "      <td>Is there a shadow?</td>\n",
       "      <td>is there a</td>\n",
       "      <td>0</td>\n",
       "      <td>yes</td>\n",
       "      <td>yes/no</td>\n",
       "      <td>487025</td>\n",
       "      <td>data/coco/images/train2014/COCO_train2014_0000...</td>\n",
       "    </tr>\n",
       "    <tr>\n",
       "      <th>1</th>\n",
       "      <td>4870252</td>\n",
       "      <td>Is this one bench or multiple benches?</td>\n",
       "      <td>is this</td>\n",
       "      <td>3</td>\n",
       "      <td>1</td>\n",
       "      <td>other</td>\n",
       "      <td>487025</td>\n",
       "      <td>data/coco/images/train2014/COCO_train2014_0000...</td>\n",
       "    </tr>\n",
       "    <tr>\n",
       "      <th>2</th>\n",
       "      <td>780770</td>\n",
       "      <td>Is this a modern train?</td>\n",
       "      <td>is this a</td>\n",
       "      <td>1</td>\n",
       "      <td>no</td>\n",
       "      <td>yes/no</td>\n",
       "      <td>78077</td>\n",
       "      <td>data/coco/images/train2014/COCO_train2014_0000...</td>\n",
       "    </tr>\n",
       "    <tr>\n",
       "      <th>3</th>\n",
       "      <td>780771</td>\n",
       "      <td>What color is the stripe on the train?</td>\n",
       "      <td>what color is the</td>\n",
       "      <td>4</td>\n",
       "      <td>white</td>\n",
       "      <td>other</td>\n",
       "      <td>78077</td>\n",
       "      <td>data/coco/images/train2014/COCO_train2014_0000...</td>\n",
       "    </tr>\n",
       "    <tr>\n",
       "      <th>4</th>\n",
       "      <td>780772</td>\n",
       "      <td>What is on the other side of the train?</td>\n",
       "      <td>what is on the</td>\n",
       "      <td>89</td>\n",
       "      <td>trees</td>\n",
       "      <td>other</td>\n",
       "      <td>78077</td>\n",
       "      <td>data/coco/images/train2014/COCO_train2014_0000...</td>\n",
       "    </tr>\n",
       "  </tbody>\n",
       "</table>\n",
       "</div>"
      ],
      "text/plain": [
       "   question_id                                 question      question_type  \\\n",
       "0      4870251                       Is there a shadow?         is there a   \n",
       "1      4870252   Is this one bench or multiple benches?            is this   \n",
       "2       780770                  Is this a modern train?          is this a   \n",
       "3       780771   What color is the stripe on the train?  what color is the   \n",
       "4       780772  What is on the other side of the train?     what is on the   \n",
       "\n",
       "   answer_id   name answer_type  image_id  \\\n",
       "0          0    yes      yes/no    487025   \n",
       "1          3      1       other    487025   \n",
       "2          1     no      yes/no     78077   \n",
       "3          4  white       other     78077   \n",
       "4         89  trees       other     78077   \n",
       "\n",
       "                                           file_name  \n",
       "0  data/coco/images/train2014/COCO_train2014_0000...  \n",
       "1  data/coco/images/train2014/COCO_train2014_0000...  \n",
       "2  data/coco/images/train2014/COCO_train2014_0000...  \n",
       "3  data/coco/images/train2014/COCO_train2014_0000...  \n",
       "4  data/coco/images/train2014/COCO_train2014_0000...  "
      ]
     },
     "execution_count": 30,
     "metadata": {},
     "output_type": "execute_result"
    }
   ],
   "source": [
    "print(training_df.shape)\n",
    "training_df.head()"
   ]
  },
  {
   "cell_type": "markdown",
   "metadata": {
    "colab_type": "text",
    "id": "w2RNpwj71QUy"
   },
   "source": [
    "# Train VQA Model"
   ]
  },
  {
   "cell_type": "code",
   "execution_count": 39,
   "metadata": {
    "colab": {
     "base_uri": "https://localhost:8080/",
     "height": 289
    },
    "colab_type": "code",
    "executionInfo": {
     "elapsed": 138346,
     "status": "ok",
     "timestamp": 1559821431699,
     "user": {
      "displayName": "Anthony So",
      "photoUrl": "",
      "userId": "03884734268114843291"
     },
     "user_tz": -600
    },
    "id": "Mr3YeGrSty4c",
    "outputId": "434c3fec-8b22-43d8-cdd5-02de6773bc1b"
   },
   "outputs": [
    {
     "name": "stdout",
     "output_type": "stream",
     "text": [
      "Collecting en_vectors_web_lg==2.0.0 from https://github.com/explosion/spacy-models/releases/download/en_vectors_web_lg-2.0.0/en_vectors_web_lg-2.0.0.tar.gz#egg=en_vectors_web_lg==2.0.0\n",
      "\u001b[?25l  Downloading https://github.com/explosion/spacy-models/releases/download/en_vectors_web_lg-2.0.0/en_vectors_web_lg-2.0.0.tar.gz (661.8MB)\n",
      "\u001b[K    100% |████████████████████████████████| 661.8MB 2.4MB/s ta 0:00:0111  13% |████▎                           | 89.1MB 3.7MB/s eta 0:02:37    20% |██████▌                         | 134.5MB 1.4MB/s eta 0:06:21    21% |██████▉                         | 142.0MB 1.8MB/s eta 0:04:48    30% |█████████▊                      | 201.6MB 7.8MB/s eta 0:01:00    38% |████████████▏                   | 252.5MB 11.3MB/s eta 0:00:37    41% |█████████████▎                  | 274.6MB 1.4MB/s eta 0:04:30    43% |██████████████                  | 288.1MB 4.1MB/s eta 0:01:33    47% |███████████████                 | 312.4MB 9.7MB/s eta 0:00:36    48% |███████████████▋                | 322.1MB 18.3MB/s eta 0:00:19    54% |█████████████████▎              | 357.8MB 7.4MB/s eta 0:00:41    54% |█████████████████▌              | 362.1MB 13.1MB/s eta 0:00:23    59% |███████████████████             | 392.1MB 4.8MB/s eta 0:00:57    60% |███████████████████▌            | 402.3MB 11.1MB/s eta 0:00:24    65% |█████████████████████           | 436.0MB 5.4MB/s eta 0:00:43    66% |█████████████████████▎          | 440.4MB 9.1MB/s eta 0:00:25    77% |█████████████████████████       | 514.9MB 2.6MB/s eta 0:00:58    78% |█████████████████████████▎      | 521.8MB 3.0MB/s eta 0:00:47    83% |██████████████████████████▋     | 550.2MB 2.1MB/s eta 0:00:54    84% |███████████████████████████     | 557.3MB 2.5MB/s eta 0:00:42    85% |███████████████████████████▎    | 564.6MB 6.5MB/s eta 0:00:15    85% |███████████████████████████▍    | 565.3MB 7.9MB/s eta 0:00:13    86% |███████████████████████████▋    | 572.2MB 8.3MB/s eta 0:00:11    91% |█████████████████████████████▍  | 607.4MB 14.1MB/s eta 0:00:04    98% |███████████████████████████████▋| 654.8MB 11.1MB/s eta 0:00:01\n",
      "\u001b[?25hInstalling collected packages: en-vectors-web-lg\n",
      "  Running setup.py install for en-vectors-web-lg ... \u001b[?25ldone\n",
      "\u001b[?25hSuccessfully installed en-vectors-web-lg-2.0.0\n",
      "\n",
      "\u001b[93m    Linking successful\u001b[0m\n",
      "    /home/anthony/anaconda3/envs/tf-gpu/lib/python3.7/site-packages/en_vectors_web_lg\n",
      "    -->\n",
      "    /home/anthony/anaconda3/envs/tf-gpu/lib/python3.7/site-packages/spacy/data/en_vectors_web_lg\n",
      "\n",
      "    You can now load the model via spacy.load('en_vectors_web_lg')\n",
      "\n"
     ]
    }
   ],
   "source": [
    "!python -m spacy download en_vectors_web_lg"
   ]
  },
  {
   "cell_type": "code",
   "execution_count": 35,
   "metadata": {
    "colab": {
     "base_uri": "https://localhost:8080/",
     "height": 442
    },
    "colab_type": "code",
    "executionInfo": {
     "elapsed": 7464,
     "status": "ok",
     "timestamp": 1559820927654,
     "user": {
      "displayName": "Anthony So",
      "photoUrl": "",
      "userId": "03884734268114843291"
     },
     "user_tz": -600
    },
    "id": "mbTMtasVxZVD",
    "outputId": "3f8bb77f-c59c-4f1d-debc-7f8b42e6ee7b"
   },
   "outputs": [
    {
     "name": "stdout",
     "output_type": "stream",
     "text": [
      "Collecting pandarallel\n",
      "  Downloading https://files.pythonhosted.org/packages/d9/b0/eff9587b922a7d1abe52eba7f9410800171f39650c8ec1093c4dcdec3918/pandarallel-1.1.1.tar.gz\n",
      "Requirement already satisfied: pandas in /home/anthony/anaconda3/envs/tf-gpu/lib/python3.7/site-packages (from pandarallel) (0.24.2)\n",
      "Collecting pyarrow>=0.12.1 (from pandarallel)\n",
      "\u001b[?25l  Downloading https://files.pythonhosted.org/packages/3f/6c/91a3d949fe0763e60ac181b7b79e74e848e33e402e5e8274cad455519d76/pyarrow-0.13.0-cp37-cp37m-manylinux1_x86_64.whl (48.5MB)\n",
      "\u001b[K    100% |████████████████████████████████| 48.5MB 1.9MB/s eta 0:00:01    42% |█████████████▋                  | 20.7MB 12.0MB/s eta 0:00:03    64% |████████████████████▌           | 31.0MB 6.4MB/s eta 0:00:03\n",
      "\u001b[?25hRequirement already satisfied: tqdm>=4.31.1 in /home/anthony/anaconda3/envs/tf-gpu/lib/python3.7/site-packages (from pandarallel) (4.31.1)\n",
      "Requirement already satisfied: pytz>=2011k in /home/anthony/anaconda3/envs/tf-gpu/lib/python3.7/site-packages (from pandas->pandarallel) (2019.1)\n",
      "Requirement already satisfied: python-dateutil>=2.5.0 in /home/anthony/anaconda3/envs/tf-gpu/lib/python3.7/site-packages (from pandas->pandarallel) (2.8.0)\n",
      "Requirement already satisfied: numpy>=1.12.0 in /home/anthony/anaconda3/envs/tf-gpu/lib/python3.7/site-packages (from pandas->pandarallel) (1.15.4)\n",
      "Requirement already satisfied: six>=1.0.0 in /home/anthony/anaconda3/envs/tf-gpu/lib/python3.7/site-packages (from pyarrow>=0.12.1->pandarallel) (1.12.0)\n",
      "Building wheels for collected packages: pandarallel\n",
      "  Building wheel for pandarallel (setup.py) ... \u001b[?25ldone\n",
      "\u001b[?25h  Stored in directory: /home/anthony/.cache/pip/wheels/4f/5b/bf/ff7b72bacc2a4ba33ffe5c5c6ea6453b936ad0874e3c97655c\n",
      "Successfully built pandarallel\n",
      "Installing collected packages: pyarrow, pandarallel\n",
      "Successfully installed pandarallel-1.1.1 pyarrow-0.13.0\n"
     ]
    }
   ],
   "source": [
    "!pip install pandarallel"
   ]
  },
  {
   "cell_type": "code",
   "execution_count": 36,
   "metadata": {
    "colab": {},
    "colab_type": "code",
    "id": "2RvwTcAgqvM9"
   },
   "outputs": [],
   "source": [
    "def get_question_features(question):\n",
    "    ''' For a given question, a unicode string, returns the time series vector\n",
    "    with each word (token) transformed into a 300 dimension representation\n",
    "    calculated using Glove Vector '''\n",
    "    word_embeddings = spacy.load('en_vectors_web_lg')\n",
    "    tokens = word_embeddings(question)\n",
    "    question_tensor = np.zeros((1, 26, 300))\n",
    "    for j in range(len(tokens)):\n",
    "        question_tensor[0,j,:] = tokens[j].vector\n",
    "    return question_tensor"
   ]
  },
  {
   "cell_type": "code",
   "execution_count": null,
   "metadata": {
    "colab": {
     "base_uri": "https://localhost:8080/",
     "height": 51
    },
    "colab_type": "code",
    "executionInfo": {
     "elapsed": 1060,
     "status": "ok",
     "timestamp": 1559821281739,
     "user": {
      "displayName": "Anthony So",
      "photoUrl": "",
      "userId": "03884734268114843291"
     },
     "user_tz": -600
    },
    "id": "qywh13deJvkA",
    "outputId": "511936b0-895e-426a-e504-fd59f8df0352",
    "scrolled": true
   },
   "outputs": [],
   "source": [
    "from pandarallel import pandarallel\n",
    "\n",
    "# Initialization\n",
    "pandarallel.initialize(progress_bar=False, nb_workers=8)"
   ]
  },
  {
   "cell_type": "code",
   "execution_count": null,
   "metadata": {
    "colab": {},
    "colab_type": "code",
    "id": "QuLC0plQxxZN"
   },
   "outputs": [],
   "source": [
    "%%timeit\n",
    "emb_question = training_df.head()['question'].parallel_apply(get_question_features)"
   ]
  },
  {
   "cell_type": "code",
   "execution_count": null,
   "metadata": {},
   "outputs": [],
   "source": []
  },
  {
   "cell_type": "code",
   "execution_count": 89,
   "metadata": {},
   "outputs": [],
   "source": [
    "import dask.dataframe as dd"
   ]
  },
  {
   "cell_type": "code",
   "execution_count": 91,
   "metadata": {},
   "outputs": [],
   "source": [
    "training_dask = dd.from_pandas(training_df, npartitions=30)"
   ]
  },
  {
   "cell_type": "code",
   "execution_count": 94,
   "metadata": {},
   "outputs": [
    {
     "name": "stdout",
     "output_type": "stream",
     "text": [
      "51.6 s ± 147 ms per loop (mean ± std. dev. of 7 runs, 1 loop each)\n"
     ]
    }
   ],
   "source": [
    "%%timeit\n",
    "training_dask.head()['question'].apply(lambda question: get_question_features(question))"
   ]
  },
  {
   "cell_type": "code",
   "execution_count": null,
   "metadata": {},
   "outputs": [],
   "source": []
  },
  {
   "cell_type": "code",
   "execution_count": 99,
   "metadata": {},
   "outputs": [
    {
     "ename": "KeyboardInterrupt",
     "evalue": "",
     "output_type": "error",
     "traceback": [
      "\u001b[0;31m---------------------------------------------------------------------------\u001b[0m",
      "\u001b[0;31mKeyboardInterrupt\u001b[0m                         Traceback (most recent call last)",
      "\u001b[0;32m<ipython-input-99-d676d84fc3d4>\u001b[0m in \u001b[0;36m<module>\u001b[0;34m\u001b[0m\n\u001b[0;32m----> 1\u001b[0;31m \u001b[0mtraining_df\u001b[0m\u001b[0;34m[\u001b[0m\u001b[0;34m'emb_question'\u001b[0m\u001b[0;34m]\u001b[0m \u001b[0;34m=\u001b[0m \u001b[0mtraining_df\u001b[0m\u001b[0;34m[\u001b[0m\u001b[0;34m'question'\u001b[0m\u001b[0;34m]\u001b[0m\u001b[0;34m.\u001b[0m\u001b[0mapply\u001b[0m\u001b[0;34m(\u001b[0m\u001b[0;32mlambda\u001b[0m \u001b[0mquestion\u001b[0m\u001b[0;34m:\u001b[0m \u001b[0mget_question_features\u001b[0m\u001b[0;34m(\u001b[0m\u001b[0mquestion\u001b[0m\u001b[0;34m)\u001b[0m\u001b[0;34m)\u001b[0m\u001b[0;34m\u001b[0m\u001b[0;34m\u001b[0m\u001b[0m\n\u001b[0m",
      "\u001b[0;32m~/anaconda3/envs/tf-gpu/lib/python3.7/site-packages/pandas/core/series.py\u001b[0m in \u001b[0;36mapply\u001b[0;34m(self, func, convert_dtype, args, **kwds)\u001b[0m\n\u001b[1;32m   3589\u001b[0m             \u001b[0;32melse\u001b[0m\u001b[0;34m:\u001b[0m\u001b[0;34m\u001b[0m\u001b[0;34m\u001b[0m\u001b[0m\n\u001b[1;32m   3590\u001b[0m                 \u001b[0mvalues\u001b[0m \u001b[0;34m=\u001b[0m \u001b[0mself\u001b[0m\u001b[0;34m.\u001b[0m\u001b[0mastype\u001b[0m\u001b[0;34m(\u001b[0m\u001b[0mobject\u001b[0m\u001b[0;34m)\u001b[0m\u001b[0;34m.\u001b[0m\u001b[0mvalues\u001b[0m\u001b[0;34m\u001b[0m\u001b[0;34m\u001b[0m\u001b[0m\n\u001b[0;32m-> 3591\u001b[0;31m                 \u001b[0mmapped\u001b[0m \u001b[0;34m=\u001b[0m \u001b[0mlib\u001b[0m\u001b[0;34m.\u001b[0m\u001b[0mmap_infer\u001b[0m\u001b[0;34m(\u001b[0m\u001b[0mvalues\u001b[0m\u001b[0;34m,\u001b[0m \u001b[0mf\u001b[0m\u001b[0;34m,\u001b[0m \u001b[0mconvert\u001b[0m\u001b[0;34m=\u001b[0m\u001b[0mconvert_dtype\u001b[0m\u001b[0;34m)\u001b[0m\u001b[0;34m\u001b[0m\u001b[0;34m\u001b[0m\u001b[0m\n\u001b[0m\u001b[1;32m   3592\u001b[0m \u001b[0;34m\u001b[0m\u001b[0m\n\u001b[1;32m   3593\u001b[0m         \u001b[0;32mif\u001b[0m \u001b[0mlen\u001b[0m\u001b[0;34m(\u001b[0m\u001b[0mmapped\u001b[0m\u001b[0;34m)\u001b[0m \u001b[0;32mand\u001b[0m \u001b[0misinstance\u001b[0m\u001b[0;34m(\u001b[0m\u001b[0mmapped\u001b[0m\u001b[0;34m[\u001b[0m\u001b[0;36m0\u001b[0m\u001b[0;34m]\u001b[0m\u001b[0;34m,\u001b[0m \u001b[0mSeries\u001b[0m\u001b[0;34m)\u001b[0m\u001b[0;34m:\u001b[0m\u001b[0;34m\u001b[0m\u001b[0;34m\u001b[0m\u001b[0m\n",
      "\u001b[0;32mpandas/_libs/lib.pyx\u001b[0m in \u001b[0;36mpandas._libs.lib.map_infer\u001b[0;34m()\u001b[0m\n",
      "\u001b[0;32m<ipython-input-99-d676d84fc3d4>\u001b[0m in \u001b[0;36m<lambda>\u001b[0;34m(question)\u001b[0m\n\u001b[0;32m----> 1\u001b[0;31m \u001b[0mtraining_df\u001b[0m\u001b[0;34m[\u001b[0m\u001b[0;34m'emb_question'\u001b[0m\u001b[0;34m]\u001b[0m \u001b[0;34m=\u001b[0m \u001b[0mtraining_df\u001b[0m\u001b[0;34m[\u001b[0m\u001b[0;34m'question'\u001b[0m\u001b[0;34m]\u001b[0m\u001b[0;34m.\u001b[0m\u001b[0mapply\u001b[0m\u001b[0;34m(\u001b[0m\u001b[0;32mlambda\u001b[0m \u001b[0mquestion\u001b[0m\u001b[0;34m:\u001b[0m \u001b[0mget_question_features\u001b[0m\u001b[0;34m(\u001b[0m\u001b[0mquestion\u001b[0m\u001b[0;34m)\u001b[0m\u001b[0;34m)\u001b[0m\u001b[0;34m\u001b[0m\u001b[0;34m\u001b[0m\u001b[0m\n\u001b[0m",
      "\u001b[0;32m<ipython-input-27-c0ea347249c9>\u001b[0m in \u001b[0;36mget_question_features\u001b[0;34m(question)\u001b[0m\n\u001b[1;32m      3\u001b[0m     \u001b[0;32mwith\u001b[0m \u001b[0meach\u001b[0m \u001b[0mword\u001b[0m \u001b[0;34m(\u001b[0m\u001b[0mtoken\u001b[0m\u001b[0;34m)\u001b[0m \u001b[0mtransformed\u001b[0m \u001b[0minto\u001b[0m \u001b[0ma\u001b[0m \u001b[0;36m300\u001b[0m \u001b[0mdimension\u001b[0m \u001b[0mrepresentation\u001b[0m\u001b[0;34m\u001b[0m\u001b[0;34m\u001b[0m\u001b[0m\n\u001b[1;32m      4\u001b[0m     calculated using Glove Vector '''\n\u001b[0;32m----> 5\u001b[0;31m     \u001b[0mword_embeddings\u001b[0m \u001b[0;34m=\u001b[0m \u001b[0mspacy\u001b[0m\u001b[0;34m.\u001b[0m\u001b[0mload\u001b[0m\u001b[0;34m(\u001b[0m\u001b[0;34m'en_vectors_web_lg'\u001b[0m\u001b[0;34m)\u001b[0m\u001b[0;34m\u001b[0m\u001b[0;34m\u001b[0m\u001b[0m\n\u001b[0m\u001b[1;32m      6\u001b[0m     \u001b[0mtokens\u001b[0m \u001b[0;34m=\u001b[0m \u001b[0mword_embeddings\u001b[0m\u001b[0;34m(\u001b[0m\u001b[0mquestion\u001b[0m\u001b[0;34m)\u001b[0m\u001b[0;34m\u001b[0m\u001b[0;34m\u001b[0m\u001b[0m\n\u001b[1;32m      7\u001b[0m     \u001b[0mquestion_tensor\u001b[0m \u001b[0;34m=\u001b[0m \u001b[0mnp\u001b[0m\u001b[0;34m.\u001b[0m\u001b[0mzeros\u001b[0m\u001b[0;34m(\u001b[0m\u001b[0;34m(\u001b[0m\u001b[0;36m1\u001b[0m\u001b[0;34m,\u001b[0m \u001b[0;36m26\u001b[0m\u001b[0;34m,\u001b[0m \u001b[0;36m300\u001b[0m\u001b[0;34m)\u001b[0m\u001b[0;34m)\u001b[0m\u001b[0;34m\u001b[0m\u001b[0;34m\u001b[0m\u001b[0m\n",
      "\u001b[0;32m~/anaconda3/envs/tf-gpu/lib/python3.7/site-packages/spacy/__init__.py\u001b[0m in \u001b[0;36mload\u001b[0;34m(name, **overrides)\u001b[0m\n\u001b[1;32m     19\u001b[0m     \u001b[0;32mif\u001b[0m \u001b[0mdepr_path\u001b[0m \u001b[0;32mnot\u001b[0m \u001b[0;32min\u001b[0m \u001b[0;34m(\u001b[0m\u001b[0;32mTrue\u001b[0m\u001b[0;34m,\u001b[0m \u001b[0;32mFalse\u001b[0m\u001b[0;34m,\u001b[0m \u001b[0;32mNone\u001b[0m\u001b[0;34m)\u001b[0m\u001b[0;34m:\u001b[0m\u001b[0;34m\u001b[0m\u001b[0;34m\u001b[0m\u001b[0m\n\u001b[1;32m     20\u001b[0m         \u001b[0mdeprecation_warning\u001b[0m\u001b[0;34m(\u001b[0m\u001b[0mWarnings\u001b[0m\u001b[0;34m.\u001b[0m\u001b[0mW001\u001b[0m\u001b[0;34m.\u001b[0m\u001b[0mformat\u001b[0m\u001b[0;34m(\u001b[0m\u001b[0mpath\u001b[0m\u001b[0;34m=\u001b[0m\u001b[0mdepr_path\u001b[0m\u001b[0;34m)\u001b[0m\u001b[0;34m)\u001b[0m\u001b[0;34m\u001b[0m\u001b[0;34m\u001b[0m\u001b[0m\n\u001b[0;32m---> 21\u001b[0;31m     \u001b[0;32mreturn\u001b[0m \u001b[0mutil\u001b[0m\u001b[0;34m.\u001b[0m\u001b[0mload_model\u001b[0m\u001b[0;34m(\u001b[0m\u001b[0mname\u001b[0m\u001b[0;34m,\u001b[0m \u001b[0;34m**\u001b[0m\u001b[0moverrides\u001b[0m\u001b[0;34m)\u001b[0m\u001b[0;34m\u001b[0m\u001b[0;34m\u001b[0m\u001b[0m\n\u001b[0m\u001b[1;32m     22\u001b[0m \u001b[0;34m\u001b[0m\u001b[0m\n\u001b[1;32m     23\u001b[0m \u001b[0;34m\u001b[0m\u001b[0m\n",
      "\u001b[0;32m~/anaconda3/envs/tf-gpu/lib/python3.7/site-packages/spacy/util.py\u001b[0m in \u001b[0;36mload_model\u001b[0;34m(name, **overrides)\u001b[0m\n\u001b[1;32m    110\u001b[0m     \u001b[0;32mif\u001b[0m \u001b[0misinstance\u001b[0m\u001b[0;34m(\u001b[0m\u001b[0mname\u001b[0m\u001b[0;34m,\u001b[0m \u001b[0mbasestring_\u001b[0m\u001b[0;34m)\u001b[0m\u001b[0;34m:\u001b[0m  \u001b[0;31m# in data dir / shortcut\u001b[0m\u001b[0;34m\u001b[0m\u001b[0;34m\u001b[0m\u001b[0m\n\u001b[1;32m    111\u001b[0m         \u001b[0;32mif\u001b[0m \u001b[0mname\u001b[0m \u001b[0;32min\u001b[0m \u001b[0mset\u001b[0m\u001b[0;34m(\u001b[0m\u001b[0;34m[\u001b[0m\u001b[0md\u001b[0m\u001b[0;34m.\u001b[0m\u001b[0mname\u001b[0m \u001b[0;32mfor\u001b[0m \u001b[0md\u001b[0m \u001b[0;32min\u001b[0m \u001b[0mdata_path\u001b[0m\u001b[0;34m.\u001b[0m\u001b[0miterdir\u001b[0m\u001b[0;34m(\u001b[0m\u001b[0;34m)\u001b[0m\u001b[0;34m]\u001b[0m\u001b[0;34m)\u001b[0m\u001b[0;34m:\u001b[0m\u001b[0;34m\u001b[0m\u001b[0;34m\u001b[0m\u001b[0m\n\u001b[0;32m--> 112\u001b[0;31m             \u001b[0;32mreturn\u001b[0m \u001b[0mload_model_from_link\u001b[0m\u001b[0;34m(\u001b[0m\u001b[0mname\u001b[0m\u001b[0;34m,\u001b[0m \u001b[0;34m**\u001b[0m\u001b[0moverrides\u001b[0m\u001b[0;34m)\u001b[0m\u001b[0;34m\u001b[0m\u001b[0;34m\u001b[0m\u001b[0m\n\u001b[0m\u001b[1;32m    113\u001b[0m         \u001b[0;32mif\u001b[0m \u001b[0mis_package\u001b[0m\u001b[0;34m(\u001b[0m\u001b[0mname\u001b[0m\u001b[0;34m)\u001b[0m\u001b[0;34m:\u001b[0m  \u001b[0;31m# installed as package\u001b[0m\u001b[0;34m\u001b[0m\u001b[0;34m\u001b[0m\u001b[0m\n\u001b[1;32m    114\u001b[0m             \u001b[0;32mreturn\u001b[0m \u001b[0mload_model_from_package\u001b[0m\u001b[0;34m(\u001b[0m\u001b[0mname\u001b[0m\u001b[0;34m,\u001b[0m \u001b[0;34m**\u001b[0m\u001b[0moverrides\u001b[0m\u001b[0;34m)\u001b[0m\u001b[0;34m\u001b[0m\u001b[0;34m\u001b[0m\u001b[0m\n",
      "\u001b[0;32m~/anaconda3/envs/tf-gpu/lib/python3.7/site-packages/spacy/util.py\u001b[0m in \u001b[0;36mload_model_from_link\u001b[0;34m(name, **overrides)\u001b[0m\n\u001b[1;32m    127\u001b[0m     \u001b[0;32mexcept\u001b[0m \u001b[0mAttributeError\u001b[0m\u001b[0;34m:\u001b[0m\u001b[0;34m\u001b[0m\u001b[0;34m\u001b[0m\u001b[0m\n\u001b[1;32m    128\u001b[0m         \u001b[0;32mraise\u001b[0m \u001b[0mIOError\u001b[0m\u001b[0;34m(\u001b[0m\u001b[0mErrors\u001b[0m\u001b[0;34m.\u001b[0m\u001b[0mE051\u001b[0m\u001b[0;34m.\u001b[0m\u001b[0mformat\u001b[0m\u001b[0;34m(\u001b[0m\u001b[0mname\u001b[0m\u001b[0;34m=\u001b[0m\u001b[0mname\u001b[0m\u001b[0;34m)\u001b[0m\u001b[0;34m)\u001b[0m\u001b[0;34m\u001b[0m\u001b[0;34m\u001b[0m\u001b[0m\n\u001b[0;32m--> 129\u001b[0;31m     \u001b[0;32mreturn\u001b[0m \u001b[0mcls\u001b[0m\u001b[0;34m.\u001b[0m\u001b[0mload\u001b[0m\u001b[0;34m(\u001b[0m\u001b[0;34m**\u001b[0m\u001b[0moverrides\u001b[0m\u001b[0;34m)\u001b[0m\u001b[0;34m\u001b[0m\u001b[0;34m\u001b[0m\u001b[0m\n\u001b[0m\u001b[1;32m    130\u001b[0m \u001b[0;34m\u001b[0m\u001b[0m\n\u001b[1;32m    131\u001b[0m \u001b[0;34m\u001b[0m\u001b[0m\n",
      "\u001b[0;32m~/anaconda3/envs/tf-gpu/lib/python3.7/site-packages/spacy/data/en_vectors_web_lg/__init__.py\u001b[0m in \u001b[0;36mload\u001b[0;34m(**overrides)\u001b[0m\n\u001b[1;32m     10\u001b[0m \u001b[0;34m\u001b[0m\u001b[0m\n\u001b[1;32m     11\u001b[0m \u001b[0;32mdef\u001b[0m \u001b[0mload\u001b[0m\u001b[0;34m(\u001b[0m\u001b[0;34m**\u001b[0m\u001b[0moverrides\u001b[0m\u001b[0;34m)\u001b[0m\u001b[0;34m:\u001b[0m\u001b[0;34m\u001b[0m\u001b[0;34m\u001b[0m\u001b[0m\n\u001b[0;32m---> 12\u001b[0;31m     \u001b[0;32mreturn\u001b[0m \u001b[0mload_model_from_init_py\u001b[0m\u001b[0;34m(\u001b[0m\u001b[0m__file__\u001b[0m\u001b[0;34m,\u001b[0m \u001b[0;34m**\u001b[0m\u001b[0moverrides\u001b[0m\u001b[0;34m)\u001b[0m\u001b[0;34m\u001b[0m\u001b[0;34m\u001b[0m\u001b[0m\n\u001b[0m",
      "\u001b[0;32m~/anaconda3/envs/tf-gpu/lib/python3.7/site-packages/spacy/util.py\u001b[0m in \u001b[0;36mload_model_from_init_py\u001b[0;34m(init_file, **overrides)\u001b[0m\n\u001b[1;32m    171\u001b[0m     \u001b[0;32mif\u001b[0m \u001b[0;32mnot\u001b[0m \u001b[0mmodel_path\u001b[0m\u001b[0;34m.\u001b[0m\u001b[0mexists\u001b[0m\u001b[0;34m(\u001b[0m\u001b[0;34m)\u001b[0m\u001b[0;34m:\u001b[0m\u001b[0;34m\u001b[0m\u001b[0;34m\u001b[0m\u001b[0m\n\u001b[1;32m    172\u001b[0m         \u001b[0;32mraise\u001b[0m \u001b[0mIOError\u001b[0m\u001b[0;34m(\u001b[0m\u001b[0mErrors\u001b[0m\u001b[0;34m.\u001b[0m\u001b[0mE052\u001b[0m\u001b[0;34m.\u001b[0m\u001b[0mformat\u001b[0m\u001b[0;34m(\u001b[0m\u001b[0mpath\u001b[0m\u001b[0;34m=\u001b[0m\u001b[0mpath2str\u001b[0m\u001b[0;34m(\u001b[0m\u001b[0mdata_path\u001b[0m\u001b[0;34m)\u001b[0m\u001b[0;34m)\u001b[0m\u001b[0;34m)\u001b[0m\u001b[0;34m\u001b[0m\u001b[0;34m\u001b[0m\u001b[0m\n\u001b[0;32m--> 173\u001b[0;31m     \u001b[0;32mreturn\u001b[0m \u001b[0mload_model_from_path\u001b[0m\u001b[0;34m(\u001b[0m\u001b[0mdata_path\u001b[0m\u001b[0;34m,\u001b[0m \u001b[0mmeta\u001b[0m\u001b[0;34m,\u001b[0m \u001b[0;34m**\u001b[0m\u001b[0moverrides\u001b[0m\u001b[0;34m)\u001b[0m\u001b[0;34m\u001b[0m\u001b[0;34m\u001b[0m\u001b[0m\n\u001b[0m\u001b[1;32m    174\u001b[0m \u001b[0;34m\u001b[0m\u001b[0m\n\u001b[1;32m    175\u001b[0m \u001b[0;34m\u001b[0m\u001b[0m\n",
      "\u001b[0;32m~/anaconda3/envs/tf-gpu/lib/python3.7/site-packages/spacy/util.py\u001b[0m in \u001b[0;36mload_model_from_path\u001b[0;34m(model_path, meta, **overrides)\u001b[0m\n\u001b[1;32m    154\u001b[0m             \u001b[0mcomponent\u001b[0m \u001b[0;34m=\u001b[0m \u001b[0mnlp\u001b[0m\u001b[0;34m.\u001b[0m\u001b[0mcreate_pipe\u001b[0m\u001b[0;34m(\u001b[0m\u001b[0mname\u001b[0m\u001b[0;34m,\u001b[0m \u001b[0mconfig\u001b[0m\u001b[0;34m=\u001b[0m\u001b[0mconfig\u001b[0m\u001b[0;34m)\u001b[0m\u001b[0;34m\u001b[0m\u001b[0;34m\u001b[0m\u001b[0m\n\u001b[1;32m    155\u001b[0m             \u001b[0mnlp\u001b[0m\u001b[0;34m.\u001b[0m\u001b[0madd_pipe\u001b[0m\u001b[0;34m(\u001b[0m\u001b[0mcomponent\u001b[0m\u001b[0;34m,\u001b[0m \u001b[0mname\u001b[0m\u001b[0;34m=\u001b[0m\u001b[0mname\u001b[0m\u001b[0;34m)\u001b[0m\u001b[0;34m\u001b[0m\u001b[0;34m\u001b[0m\u001b[0m\n\u001b[0;32m--> 156\u001b[0;31m     \u001b[0;32mreturn\u001b[0m \u001b[0mnlp\u001b[0m\u001b[0;34m.\u001b[0m\u001b[0mfrom_disk\u001b[0m\u001b[0;34m(\u001b[0m\u001b[0mmodel_path\u001b[0m\u001b[0;34m)\u001b[0m\u001b[0;34m\u001b[0m\u001b[0;34m\u001b[0m\u001b[0m\n\u001b[0m\u001b[1;32m    157\u001b[0m \u001b[0;34m\u001b[0m\u001b[0m\n\u001b[1;32m    158\u001b[0m \u001b[0;34m\u001b[0m\u001b[0m\n",
      "\u001b[0;32m~/anaconda3/envs/tf-gpu/lib/python3.7/site-packages/spacy/language.py\u001b[0m in \u001b[0;36mfrom_disk\u001b[0;34m(self, path, disable)\u001b[0m\n\u001b[1;32m    645\u001b[0m         \u001b[0;32mif\u001b[0m \u001b[0;32mnot\u001b[0m \u001b[0;34m(\u001b[0m\u001b[0mpath\u001b[0m \u001b[0;34m/\u001b[0m \u001b[0;34m'vocab'\u001b[0m\u001b[0;34m)\u001b[0m\u001b[0;34m.\u001b[0m\u001b[0mexists\u001b[0m\u001b[0;34m(\u001b[0m\u001b[0;34m)\u001b[0m\u001b[0;34m:\u001b[0m\u001b[0;34m\u001b[0m\u001b[0;34m\u001b[0m\u001b[0m\n\u001b[1;32m    646\u001b[0m             \u001b[0mexclude\u001b[0m\u001b[0;34m[\u001b[0m\u001b[0;34m'vocab'\u001b[0m\u001b[0;34m]\u001b[0m \u001b[0;34m=\u001b[0m \u001b[0;32mTrue\u001b[0m\u001b[0;34m\u001b[0m\u001b[0;34m\u001b[0m\u001b[0m\n\u001b[0;32m--> 647\u001b[0;31m         \u001b[0mutil\u001b[0m\u001b[0;34m.\u001b[0m\u001b[0mfrom_disk\u001b[0m\u001b[0;34m(\u001b[0m\u001b[0mpath\u001b[0m\u001b[0;34m,\u001b[0m \u001b[0mdeserializers\u001b[0m\u001b[0;34m,\u001b[0m \u001b[0mexclude\u001b[0m\u001b[0;34m)\u001b[0m\u001b[0;34m\u001b[0m\u001b[0;34m\u001b[0m\u001b[0m\n\u001b[0m\u001b[1;32m    648\u001b[0m         \u001b[0mself\u001b[0m\u001b[0;34m.\u001b[0m\u001b[0m_path\u001b[0m \u001b[0;34m=\u001b[0m \u001b[0mpath\u001b[0m\u001b[0;34m\u001b[0m\u001b[0;34m\u001b[0m\u001b[0m\n\u001b[1;32m    649\u001b[0m         \u001b[0;32mreturn\u001b[0m \u001b[0mself\u001b[0m\u001b[0;34m\u001b[0m\u001b[0;34m\u001b[0m\u001b[0m\n",
      "\u001b[0;32m~/anaconda3/envs/tf-gpu/lib/python3.7/site-packages/spacy/util.py\u001b[0m in \u001b[0;36mfrom_disk\u001b[0;34m(path, readers, exclude)\u001b[0m\n\u001b[1;32m    509\u001b[0m     \u001b[0;32mfor\u001b[0m \u001b[0mkey\u001b[0m\u001b[0;34m,\u001b[0m \u001b[0mreader\u001b[0m \u001b[0;32min\u001b[0m \u001b[0mreaders\u001b[0m\u001b[0;34m.\u001b[0m\u001b[0mitems\u001b[0m\u001b[0;34m(\u001b[0m\u001b[0;34m)\u001b[0m\u001b[0;34m:\u001b[0m\u001b[0;34m\u001b[0m\u001b[0;34m\u001b[0m\u001b[0m\n\u001b[1;32m    510\u001b[0m         \u001b[0;32mif\u001b[0m \u001b[0mkey\u001b[0m \u001b[0;32mnot\u001b[0m \u001b[0;32min\u001b[0m \u001b[0mexclude\u001b[0m\u001b[0;34m:\u001b[0m\u001b[0;34m\u001b[0m\u001b[0;34m\u001b[0m\u001b[0m\n\u001b[0;32m--> 511\u001b[0;31m             \u001b[0mreader\u001b[0m\u001b[0;34m(\u001b[0m\u001b[0mpath\u001b[0m \u001b[0;34m/\u001b[0m \u001b[0mkey\u001b[0m\u001b[0;34m)\u001b[0m\u001b[0;34m\u001b[0m\u001b[0;34m\u001b[0m\u001b[0m\n\u001b[0m\u001b[1;32m    512\u001b[0m     \u001b[0;32mreturn\u001b[0m \u001b[0mpath\u001b[0m\u001b[0;34m\u001b[0m\u001b[0;34m\u001b[0m\u001b[0m\n\u001b[1;32m    513\u001b[0m \u001b[0;34m\u001b[0m\u001b[0m\n",
      "\u001b[0;32m~/anaconda3/envs/tf-gpu/lib/python3.7/site-packages/spacy/language.py\u001b[0m in \u001b[0;36m<lambda>\u001b[0;34m(p)\u001b[0m\n\u001b[1;32m    633\u001b[0m             \u001b[0;34m(\u001b[0m\u001b[0;34m'meta.json'\u001b[0m\u001b[0;34m,\u001b[0m \u001b[0;32mlambda\u001b[0m \u001b[0mp\u001b[0m\u001b[0;34m:\u001b[0m \u001b[0mself\u001b[0m\u001b[0;34m.\u001b[0m\u001b[0mmeta\u001b[0m\u001b[0;34m.\u001b[0m\u001b[0mupdate\u001b[0m\u001b[0;34m(\u001b[0m\u001b[0mutil\u001b[0m\u001b[0;34m.\u001b[0m\u001b[0mread_json\u001b[0m\u001b[0;34m(\u001b[0m\u001b[0mp\u001b[0m\u001b[0;34m)\u001b[0m\u001b[0;34m)\u001b[0m\u001b[0;34m)\u001b[0m\u001b[0;34m,\u001b[0m\u001b[0;34m\u001b[0m\u001b[0;34m\u001b[0m\u001b[0m\n\u001b[1;32m    634\u001b[0m             ('vocab', lambda p: (\n\u001b[0;32m--> 635\u001b[0;31m                 self.vocab.from_disk(p) and _fix_pretrained_vectors_name(self))),\n\u001b[0m\u001b[1;32m    636\u001b[0m             \u001b[0;34m(\u001b[0m\u001b[0;34m'tokenizer'\u001b[0m\u001b[0;34m,\u001b[0m \u001b[0;32mlambda\u001b[0m \u001b[0mp\u001b[0m\u001b[0;34m:\u001b[0m \u001b[0mself\u001b[0m\u001b[0;34m.\u001b[0m\u001b[0mtokenizer\u001b[0m\u001b[0;34m.\u001b[0m\u001b[0mfrom_disk\u001b[0m\u001b[0;34m(\u001b[0m\u001b[0mp\u001b[0m\u001b[0;34m,\u001b[0m \u001b[0mvocab\u001b[0m\u001b[0;34m=\u001b[0m\u001b[0;32mFalse\u001b[0m\u001b[0;34m)\u001b[0m\u001b[0;34m)\u001b[0m\u001b[0;34m,\u001b[0m\u001b[0;34m\u001b[0m\u001b[0;34m\u001b[0m\u001b[0m\n\u001b[1;32m    637\u001b[0m         ))\n",
      "\u001b[0;32mvocab.pyx\u001b[0m in \u001b[0;36mspacy.vocab.Vocab.from_disk\u001b[0;34m()\u001b[0m\n",
      "\u001b[0;32mvectors.pyx\u001b[0m in \u001b[0;36mspacy.vectors.Vectors.from_disk\u001b[0;34m()\u001b[0m\n",
      "\u001b[0;32m~/anaconda3/envs/tf-gpu/lib/python3.7/site-packages/spacy/util.py\u001b[0m in \u001b[0;36mfrom_disk\u001b[0;34m(path, readers, exclude)\u001b[0m\n\u001b[1;32m    505\u001b[0m \u001b[0;34m\u001b[0m\u001b[0m\n\u001b[1;32m    506\u001b[0m \u001b[0;34m\u001b[0m\u001b[0m\n\u001b[0;32m--> 507\u001b[0;31m \u001b[0;32mdef\u001b[0m \u001b[0mfrom_disk\u001b[0m\u001b[0;34m(\u001b[0m\u001b[0mpath\u001b[0m\u001b[0;34m,\u001b[0m \u001b[0mreaders\u001b[0m\u001b[0;34m,\u001b[0m \u001b[0mexclude\u001b[0m\u001b[0;34m)\u001b[0m\u001b[0;34m:\u001b[0m\u001b[0;34m\u001b[0m\u001b[0;34m\u001b[0m\u001b[0m\n\u001b[0m\u001b[1;32m    508\u001b[0m     \u001b[0mpath\u001b[0m \u001b[0;34m=\u001b[0m \u001b[0mensure_path\u001b[0m\u001b[0;34m(\u001b[0m\u001b[0mpath\u001b[0m\u001b[0;34m)\u001b[0m\u001b[0;34m\u001b[0m\u001b[0;34m\u001b[0m\u001b[0m\n\u001b[1;32m    509\u001b[0m     \u001b[0;32mfor\u001b[0m \u001b[0mkey\u001b[0m\u001b[0;34m,\u001b[0m \u001b[0mreader\u001b[0m \u001b[0;32min\u001b[0m \u001b[0mreaders\u001b[0m\u001b[0;34m.\u001b[0m\u001b[0mitems\u001b[0m\u001b[0;34m(\u001b[0m\u001b[0;34m)\u001b[0m\u001b[0;34m:\u001b[0m\u001b[0;34m\u001b[0m\u001b[0;34m\u001b[0m\u001b[0m\n",
      "\u001b[0;31mKeyboardInterrupt\u001b[0m: "
     ]
    }
   ],
   "source": [
    "training_df['emb_question'] = training_df['question'].apply(lambda question: get_question_features(question))"
   ]
  },
  {
   "cell_type": "code",
   "execution_count": null,
   "metadata": {
    "colab": {},
    "colab_type": "code",
    "id": "kM7zNWN0Dq0W"
   },
   "outputs": [],
   "source": [
    "with h5py.File('vqa_question_features.h5','w') as hf:\n",
    "  hf.create_dataset('train', data=training_df[['question_id','question','answer_id','name','image_id','emb_question']])\n",
    "  #hf.create_dataset('val', data=val_preds)"
   ]
  },
  {
   "cell_type": "code",
   "execution_count": null,
   "metadata": {
    "colab": {},
    "colab_type": "code",
    "id": "6fyVEfYmxB_I"
   },
   "outputs": [],
   "source": [
    "valid_df['emb_question'] = valid_df['question'].apply(lambda question: get_question_features(question))"
   ]
  },
  {
   "cell_type": "code",
   "execution_count": null,
   "metadata": {
    "colab": {},
    "colab_type": "code",
    "id": "1o4i2b8kD7WS"
   },
   "outputs": [],
   "source": [
    "with h5py.File('vqa_question_features.h5','w') as hf:\n",
    "  #hf.create_dataset('train', data=training_df)\n",
    "  hf.create_dataset('val', data=valid_df)"
   ]
  },
  {
   "cell_type": "code",
   "execution_count": null,
   "metadata": {},
   "outputs": [],
   "source": []
  },
  {
   "cell_type": "code",
   "execution_count": 57,
   "metadata": {},
   "outputs": [
    {
     "data": {
      "text/plain": [
       "list"
      ]
     },
     "execution_count": 57,
     "metadata": {},
     "output_type": "execute_result"
    }
   ],
   "source": []
  },
  {
   "cell_type": "code",
   "execution_count": 56,
   "metadata": {},
   "outputs": [
    {
     "data": {
      "text/plain": [
       "0    [[[-0.08496099710464478, 0.5019999742507935, 0...\n",
       "Name: question, dtype: object"
      ]
     },
     "execution_count": 56,
     "metadata": {},
     "output_type": "execute_result"
    }
   ],
   "source": [
    "training_df.head(1)[\"question\"].parallel_apply(get_question_features)"
   ]
  },
  {
   "cell_type": "code",
   "execution_count": 42,
   "metadata": {},
   "outputs": [
    {
     "data": {
      "text/plain": [
       "'What kind of animal is this?'"
      ]
     },
     "execution_count": 42,
     "metadata": {},
     "output_type": "execute_result"
    }
   ],
   "source": [
    "question = training_df.loc[training_df['question_id'] == 4355530, 'question'].values[0]\n",
    "question"
   ]
  },
  {
   "cell_type": "code",
   "execution_count": 44,
   "metadata": {},
   "outputs": [
    {
     "data": {
      "text/plain": [
       "array([[[-0.038548  ,  0.54251999, -0.21843   , ...,  0.11798   ,\n",
       "          0.24590001,  0.22872999],\n",
       "        [-0.15097   ,  0.29793999, -0.093572  , ..., -0.091308  ,\n",
       "          0.03936   ,  0.32585001],\n",
       "        [ 0.060216  ,  0.21799   , -0.04249   , ...,  0.11709   ,\n",
       "         -0.16692001, -0.094085  ],\n",
       "        ...,\n",
       "        [ 0.        ,  0.        ,  0.        , ...,  0.        ,\n",
       "          0.        ,  0.        ],\n",
       "        [ 0.        ,  0.        ,  0.        , ...,  0.        ,\n",
       "          0.        ,  0.        ],\n",
       "        [ 0.        ,  0.        ,  0.        , ...,  0.        ,\n",
       "          0.        ,  0.        ]]])"
      ]
     },
     "execution_count": 44,
     "metadata": {},
     "output_type": "execute_result"
    }
   ],
   "source": [
    "get_question_features(question)"
   ]
  },
  {
   "cell_type": "code",
   "execution_count": null,
   "metadata": {},
   "outputs": [],
   "source": []
  },
  {
   "cell_type": "code",
   "execution_count": 0,
   "metadata": {
    "colab": {},
    "colab_type": "code",
    "id": "jWd9X0td71uc"
   },
   "outputs": [],
   "source": [
    "from __future__ import print_function\n",
    "import numpy as np\n",
    "import h5py\n",
    "import json\n",
    "import pandas as pd\n",
    "\n",
    "  \n",
    "def get_data(args, split='train'):\n",
    "    \n",
    "    data = {}\n",
    "  \n",
    "    img_norm = args['img_normalize'] \n",
    "    \n",
    "    # Load json file\n",
    "    dataset = load_input_json(args)\n",
    "    \n",
    "    # load image feature\n",
    "    img_feature = load_img_feature(args, split)\n",
    "    \n",
    "    # load h5 file\n",
    "    data = load_qa_feature(args, split)\n",
    "    \n",
    "    if img_norm:\n",
    "        print('(get_data) Normalizing image feature')\n",
    "        tem = np.sqrt(np.sum(np.multiply(img_feature, img_feature)))\n",
    "        img_feature = np.divide(img_feature, np.tile(tem,(1,args['img_vec_dim'])))\n",
    "    \n",
    "    if split == \"train\":\n",
    "      val_answers = None\n",
    "    else:\n",
    "      val_answers = get_val_answers(args, data, dataset)\n",
    "\n",
    "    return dataset, img_feature[data['img_list']], data, val_answers\n",
    "    \n",
    "    \n",
    "def load_input_json(args):\n",
    "    dataset = {}\n",
    "    \n",
    "    with open(args['input_json']) as data_file:\n",
    "        print('(get_data) Loading input json file...')\n",
    "        data = json.load(data_file)\n",
    "    for key in data.keys():\n",
    "        dataset[key] = data[key]\n",
    "        \n",
    "    return dataset\n",
    "  \n",
    "def load_img_feature(args, split): \n",
    "    img_feature = None\n",
    "    \n",
    "    img_split = f'images_{split}'\n",
    "  \n",
    "    with h5py.File(args['input_img_h5'],'r') as hf:\n",
    "        print('(get_data) Loading image feature...')\n",
    "        # -----0~82459------\n",
    "        tem = hf.get(img_split)\n",
    "        img_feature =  np.array(tem)\n",
    "        \n",
    "    return img_feature\n",
    "  \n",
    "def load_qa_feature(args, split):\n",
    "    data = {}\n",
    "    \n",
    "    ques_split = f\"ques_{split}\"\n",
    "    ques_length_split = f\"ques_length_{split}\"\n",
    "    img_pos_split = f\"img_pos_{split}\"\n",
    "    question_id_split = f\"question_id_{split}\"\n",
    "    \n",
    "    if split == \"train\":\n",
    "      answers_split = f\"answers\"\n",
    "    else:\n",
    "      answers_split = f\"MC_ans_test\"\n",
    "    \n",
    "    \n",
    "    with h5py.File(args['input_ques_h5'],'r') as hf:\n",
    "        print('(get_data) Loading h5 file...')\n",
    "        \n",
    "        # total number of training data is 215375\n",
    "        # question is (26, )\n",
    "        tem = hf.get(ques_split)\n",
    "        data['question'] = np.array(tem)\n",
    "        print(f\"(get_data - {split}) Nb questions: {len(data[u'question'])}\")\n",
    "        \n",
    "        # max length is 23\n",
    "        tem = hf.get(ques_length_split)\n",
    "        data['length_q'] = np.array(tem)\n",
    "        \n",
    "        # total 82460 img\n",
    "        #-----1~82460-----\n",
    "        tem = hf.get(img_pos_split)\n",
    "        # convert into 0~82459\n",
    "        data['img_list'] = np.array(tem)-1\n",
    "        print(f\"(get_data - {split}) Nb images: {len(data[u'img_list'])}\")\n",
    "        \n",
    "        # quiestion id\n",
    "        tem = hf.get(question_id_split)\n",
    "        data['ques_id'] = np.array(tem)\n",
    "        \n",
    "        # answer is 1~1000\n",
    "        tem = hf.get(answers_split)\n",
    "        data['answers'] = np.array(tem)-1\n",
    "        print(f\"(get_data - {split}) Nb answers: {len(data[u'answers'])}\")\n",
    "        \n",
    "    return data\n",
    "\n",
    "def get_val_answers(args, data, dataset):\n",
    "  \n",
    "    def most_common(lst):\n",
    "      return max(set(lst), key=lst.count)\n",
    "\n",
    "    # Added by Adi, make sure the ans_file is provided\n",
    "    nb_data_test = len(data[u'question'])\n",
    "    val_all_answers_dict = json.load(open(args['ans_file']))\n",
    "    \n",
    "    val_answers = np.zeros(nb_data_test, dtype=np.int32)\n",
    "    ans_to_ix = {v: k for k, v in dataset[u'ix_to_ans'].items()}\n",
    "    count_of_not_found = 0\n",
    "\n",
    "    for i in range(nb_data_test):\n",
    "        qid = data[u'ques_id'][i]\n",
    "        try : \n",
    "            val_ans_ix =int(ans_to_ix[most_common(val_all_answers_dict[str(qid)])]) -1\n",
    "        except KeyError:\n",
    "            count_of_not_found += 1\n",
    "            val_ans_ix = 480\n",
    "        val_answers[i] = val_ans_ix\n",
    "    print(\"(get_data - test) Beware: \" + str(count_of_not_found) + \" number of val answers not found\")\n",
    "    \n",
    "    return val_answers"
   ]
  },
  {
   "cell_type": "code",
   "execution_count": 0,
   "metadata": {
    "colab": {},
    "colab_type": "code",
    "id": "0l9J7n7C71sf"
   },
   "outputs": [],
   "source": [
    "def load_datasets(args):\n",
    "    \n",
    "    dataset, train_img_feature, train_data, _          = get_data(args, split=\"train\") # get_train_data(args)\n",
    "    dataset, test_img_feature,  test_data, val_answers = get_data(args, split=\"test\") # get_test_data(args)\n",
    "\n",
    "    train_X = [train_data[u'question'], train_img_feature]\n",
    "    train_Y = np_utils.to_categorical(train_data[u'answers'], args['nb_classes'])\n",
    "    test_X  = [test_data[u'question'], test_img_feature]\n",
    "    test_Y  = np_utils.to_categorical(val_answers           , args['nb_classes'])\n",
    "\n",
    "    print(f\"\\nTrain data: {len(train_X[0])} & {len(train_X[1])} - {len(train_Y)}\\n\")\n",
    "    print(f\"\\nTest data: {len(test_X[0])} & {len(test_X[1])} - {len(test_Y)}\\n\")\n",
    "    \n",
    "    return dataset, train_X, train_Y, test_X, test_Y "
   ]
  },
  {
   "cell_type": "code",
   "execution_count": 0,
   "metadata": {
    "colab": {},
    "colab_type": "code",
    "id": "hqIvPn9B71qR"
   },
   "outputs": [],
   "source": []
  },
  {
   "cell_type": "code",
   "execution_count": 0,
   "metadata": {
    "colab": {},
    "colab_type": "code",
    "id": "L8YTaKAB71oa"
   },
   "outputs": [],
   "source": []
  },
  {
   "cell_type": "code",
   "execution_count": 0,
   "metadata": {
    "colab": {},
    "colab_type": "code",
    "id": "uadORFlf71mM"
   },
   "outputs": [],
   "source": []
  },
  {
   "cell_type": "code",
   "execution_count": 0,
   "metadata": {
    "colab": {},
    "colab_type": "code",
    "id": "S3os937HqvQD"
   },
   "outputs": [],
   "source": [
    "flow(x, y=None, batch_size=32, shuffle=True, sample_weight=None, seed=None, save_to_dir=None, save_prefix='', save_format='png', subset=None)\n"
   ]
  },
  {
   "cell_type": "code",
   "execution_count": 0,
   "metadata": {
    "colab": {},
    "colab_type": "code",
    "id": "8Fyg_BXPme0d"
   },
   "outputs": [],
   "source": [
    "train_datagen = ImageDataGenerator(rescale=1./255)\n",
    "\n",
    "train_generator=train_datagen.flow_from_dataframe(\n",
    "    dataframe=train_set, \n",
    "    directory=train_dir, \n",
    "    x_col=\"file_name\", \n",
    "    y_col=\"name\", \n",
    "    class_mode=\"categorical\", \n",
    "    target_size=(150, 150), \n",
    "    batch_size=10)"
   ]
  },
  {
   "cell_type": "code",
   "execution_count": 0,
   "metadata": {
    "colab": {},
    "colab_type": "code",
    "id": "VXChlvLLmRZ6"
   },
   "outputs": [],
   "source": [
    "def custom_generator(df, path,  X1, X2, y, batch_size):\n",
    "  img_datagen = ImageDataGenerator(rescale=1./255)\n",
    "\n",
    "  img_generator = img_datagen.flow_from_dataframe(\n",
    "      dataframe=df, \n",
    "      directory=path, \n",
    "      x_col=\"file_name\", \n",
    "      y_col=\"name\", \n",
    "      class_mode=\"categorical\", \n",
    "      target_size=(150, 150), \n",
    "      batch_size=batch_size)\n",
    "  \n",
    "\n",
    "  genX2 = gen.flow(X2, y, batch_size=batch_size, seed=1)\n",
    "  while True:\n",
    "    X1i = img_generator.next()\n",
    "    X2i = genX2.next()\n",
    "    yield [X1i[0], X2i[0]], X1i[1]"
   ]
  },
  {
   "cell_type": "code",
   "execution_count": 0,
   "metadata": {
    "colab": {},
    "colab_type": "code",
    "id": "0lYDsQyQmRgb"
   },
   "outputs": [],
   "source": [
    "custom_generator(x_train, x_train_landmark, y_train, batch_size)"
   ]
  },
  {
   "cell_type": "code",
   "execution_count": 0,
   "metadata": {
    "colab": {},
    "colab_type": "code",
    "id": "LSvIq-zzmRjK"
   },
   "outputs": [],
   "source": []
  },
  {
   "cell_type": "code",
   "execution_count": 0,
   "metadata": {
    "colab": {},
    "colab_type": "code",
    "id": "yGDrYnb0mRlY"
   },
   "outputs": [],
   "source": []
  },
  {
   "cell_type": "code",
   "execution_count": 0,
   "metadata": {
    "colab": {},
    "colab_type": "code",
    "id": "Du2Y5CW0kI6L"
   },
   "outputs": [],
   "source": [
    "from keras.models import Sequential, Model\n",
    "from keras.layers.core import Reshape, Activation, Dropout\n",
    "from keras.layers import Input, LSTM, Multiply, Dense, Embedding, Flatten\n",
    "from keras.layers import concatenate\n",
    "\n",
    "def get_cnn(args):\n",
    "    model_image_in = Input(shape=(args['img_vec_dim'],))\n",
    "    X1 = Dense(args['num_hidden_units_mlp'])(model_image_in)\n",
    "    X1 = Activation(args['activation_1'])(X1)\n",
    "    model_image_out = Dropout(args['dropout'])(X1)\n",
    "    \n",
    "    model_image = Model(model_image_in, model_image_out)\n",
    "    \n",
    "    return model_image, model_image_in, model_image_out\n",
    "  \n",
    "def get_lstm(args):\n",
    "    model_language_in = Input(shape=(26,))\n",
    "    X2 = Embedding(12603, 300, input_length=26)(model_language_in)\n",
    "    X2 = LSTM(args['num_hidden_units_lstm'], return_sequences=True, input_shape=(26, 300))(X2)\n",
    "    X2 = LSTM(args['num_hidden_units_lstm'], return_sequences=True)(X2)\n",
    "    X2 = LSTM(args['num_hidden_units_lstm'], return_sequences=False)(X2)\n",
    "    X2 = Dense(args['num_hidden_units_mlp'])(X2)\n",
    "    X2 = Activation(args['activation_1'])(X2)\n",
    "    model_language_out = Dropout(args['dropout'])(X2)\n",
    "                              \n",
    "    model_language = Model(model_language_in, model_language_out)\n",
    "    \n",
    "    return model_language, model_language_in, model_language_out\n",
    "\n",
    "def create_DeeperLSTM(args):\n",
    "  \n",
    "    # Image model   \n",
    "    model_image, model_image_in, model_image_out = get_cnn(args)\n",
    "    \n",
    "    # Language Model\n",
    "    model_language, model_language_in, model_language_out = get_lstm(args)    \n",
    "    \n",
    "    # Merge models\n",
    "    merged_in = concatenate([model_language_out, model_image_out])\n",
    "\n",
    "    for i in range(args['num_hidden_units_mlp']):\n",
    "        X = Dense(args['num_hidden_units_mlp'])(merged_in)\n",
    "        X = Activation(args['activation_1'])(X)\n",
    "        X = Dropout(args['dropout'])(X)\n",
    "\n",
    "    X = Dense(args['nb_classes'])(X)\n",
    "    merged_out = Activation(args['class_activation'])(X)\n",
    "\n",
    "    model = Model([model_language_in, model_image_in], merged_out)\n",
    "    \n",
    "    return model\n"
   ]
  },
  {
   "cell_type": "code",
   "execution_count": 0,
   "metadata": {
    "colab": {},
    "colab_type": "code",
    "id": "72rRF0ickI8w"
   },
   "outputs": [],
   "source": []
  },
  {
   "cell_type": "code",
   "execution_count": 0,
   "metadata": {
    "colab": {},
    "colab_type": "code",
    "id": "_ovNEK3EkJBT"
   },
   "outputs": [],
   "source": []
  },
  {
   "cell_type": "code",
   "execution_count": 0,
   "metadata": {
    "colab": {},
    "colab_type": "code",
    "id": "I-w5d5SykJEA"
   },
   "outputs": [],
   "source": []
  },
  {
   "cell_type": "code",
   "execution_count": 0,
   "metadata": {
    "colab": {},
    "colab_type": "code",
    "id": "PXdWvOwskJG3"
   },
   "outputs": [],
   "source": []
  },
  {
   "cell_type": "code",
   "execution_count": 0,
   "metadata": {
    "colab": {},
    "colab_type": "code",
    "id": "c0hR3A31kI_S"
   },
   "outputs": [],
   "source": []
  },
  {
   "cell_type": "code",
   "execution_count": 0,
   "metadata": {
    "colab": {},
    "colab_type": "code",
    "id": "Nuw020krLASH"
   },
   "outputs": [],
   "source": [
    "\n"
   ]
  },
  {
   "cell_type": "code",
   "execution_count": 0,
   "metadata": {
    "colab": {},
    "colab_type": "code",
    "id": "nnP3mpcwLAZP"
   },
   "outputs": [],
   "source": []
  },
  {
   "cell_type": "code",
   "execution_count": 0,
   "metadata": {
    "colab": {},
    "colab_type": "code",
    "id": "SXcThLJKLAcQ"
   },
   "outputs": [],
   "source": []
  },
  {
   "cell_type": "code",
   "execution_count": 0,
   "metadata": {
    "colab": {},
    "colab_type": "code",
    "id": "OK7p3lcKLAev"
   },
   "outputs": [],
   "source": []
  },
  {
   "cell_type": "code",
   "execution_count": 0,
   "metadata": {
    "colab": {},
    "colab_type": "code",
    "id": "IRvCcAjE1Tot"
   },
   "outputs": [],
   "source": [
    "from keras.layers import Input, Embedding, LSTM, Dense\n",
    "from keras.models import Model\n",
    "\n",
    "# Headline input: meant to receive sequences of 100 integers, between 1 and 10000.\n",
    "# Note that we can name any layer by passing it a \"name\" argument.\n",
    "main_input = Input(shape=(100,), dtype='int32', name='main_input')\n",
    "\n",
    "# This embedding layer will encode the input sequence\n",
    "# into a sequence of dense 512-dimensional vectors.\n",
    "x = Embedding(output_dim=512, input_dim=10000, input_length=100)(main_input)\n",
    "\n",
    "# A LSTM will transform the vector sequence into a single vector,\n",
    "# containing information about the entire sequence\n",
    "lstm_out = LSTM(32)(x)\n",
    "\n",
    "auxiliary_output = Dense(1, activation='sigmoid', name='aux_output')(lstm_out)\n",
    "\n",
    "auxiliary_input = Input(shape=(5,), name='aux_input')\n",
    "x = keras.layers.concatenate([lstm_out, auxiliary_input])\n",
    "\n",
    "# We stack a deep densely-connected network on top\n",
    "x = Dense(64, activation='relu')(x)\n",
    "x = Dense(64, activation='relu')(x)\n",
    "x = Dense(64, activation='relu')(x)\n",
    "\n",
    "# And finally we add the main logistic regression layer\n",
    "main_output = Dense(1, activation='sigmoid', name='main_output')(x)\n",
    "\n",
    "model = Model(inputs=[main_input, auxiliary_input], outputs=[main_output, auxiliary_output])"
   ]
  },
  {
   "cell_type": "code",
   "execution_count": 0,
   "metadata": {
    "colab": {},
    "colab_type": "code",
    "id": "xeZJrusy1Tro"
   },
   "outputs": [],
   "source": []
  },
  {
   "cell_type": "code",
   "execution_count": 0,
   "metadata": {
    "colab": {},
    "colab_type": "code",
    "id": "UaQdbqU31T3q"
   },
   "outputs": [],
   "source": []
  }
 ],
 "metadata": {
  "accelerator": "GPU",
  "colab": {
   "collapsed_sections": [
    "PKjWEbEzt64R",
    "v8su0cGE1NRg",
    "XVHnxFE4XrIZ"
   ],
   "name": "Model Training_20190606.ipynb",
   "provenance": [],
   "version": "0.3.2"
  },
  "kernelspec": {
   "display_name": "Python 3",
   "language": "python",
   "name": "python3"
  },
  "language_info": {
   "codemirror_mode": {
    "name": "ipython",
    "version": 3
   },
   "file_extension": ".py",
   "mimetype": "text/x-python",
   "name": "python",
   "nbconvert_exporter": "python",
   "pygments_lexer": "ipython3",
   "version": "3.7.3"
  }
 },
 "nbformat": 4,
 "nbformat_minor": 1
}
