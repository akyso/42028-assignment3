{
 "cells": [
  {
   "cell_type": "markdown",
   "metadata": {
    "colab_type": "text",
    "id": "ipPBLvh19-b8"
   },
   "source": [
    "# Import Packages"
   ]
  },
  {
   "cell_type": "code",
   "execution_count": 1,
   "metadata": {
    "colab": {
     "base_uri": "https://localhost:8080/",
     "height": 51
    },
    "colab_type": "code",
    "executionInfo": {
     "elapsed": 1559,
     "status": "ok",
     "timestamp": 1560000733141,
     "user": {
      "displayName": "Anthony So",
      "photoUrl": "",
      "userId": "03884734268114843291"
     },
     "user_tz": -600
    },
    "id": "txf9LmwN98Al",
    "outputId": "8946b3b7-d25e-4152-ab4c-ba5e908c9ae0"
   },
   "outputs": [
    {
     "name": "stdout",
     "output_type": "stream",
     "text": [
      "1.13.1\n",
      "2.2.4-tf\n"
     ]
    }
   ],
   "source": [
    "import tensorflow as tf\n",
    "import tensorflow.keras as keras\n",
    "\n",
    "print(tf.__version__)\n",
    "print(tf.keras.__version__)"
   ]
  },
  {
   "cell_type": "code",
   "execution_count": 2,
   "metadata": {
    "colab": {
     "base_uri": "https://localhost:8080/",
     "height": 34
    },
    "colab_type": "code",
    "executionInfo": {
     "elapsed": 1240,
     "status": "ok",
     "timestamp": 1560000734229,
     "user": {
      "displayName": "Anthony So",
      "photoUrl": "",
      "userId": "03884734268114843291"
     },
     "user_tz": -600
    },
    "id": "0FAzZHlP-CGb",
    "outputId": "3a1ea993-9498-4697-ad1a-150b95a0ddf5"
   },
   "outputs": [
    {
     "name": "stderr",
     "output_type": "stream",
     "text": [
      "Using TensorFlow backend.\n"
     ]
    }
   ],
   "source": [
    "from keras.applications.vgg19 import VGG19\n",
    "from keras.models import Model,Sequential\n",
    "from keras.layers import Input, LSTM, Multiply, Dense, Embedding, Flatten, GlobalAveragePooling2D\n",
    "from keras.callbacks import ModelCheckpoint, EarlyStopping, ReduceLROnPlateau, CSVLogger\n",
    "from keras import backend as K\n",
    "from keras.preprocessing.image import ImageDataGenerator\n",
    "from keras.optimizers import RMSprop, Adam\n"
   ]
  },
  {
   "cell_type": "code",
   "execution_count": 3,
   "metadata": {
    "colab": {},
    "colab_type": "code",
    "id": "PA0k4_Xx-CJI"
   },
   "outputs": [],
   "source": [
    "import json\n",
    "import pandas as pd\n",
    "import numpy as np\n",
    "import glob\n",
    "import os\n",
    "import spacy\n",
    "import h5py\n",
    "import pickle"
   ]
  },
  {
   "cell_type": "code",
   "execution_count": 7,
   "metadata": {
    "colab": {
     "base_uri": "https://localhost:8080/",
     "height": 272
    },
    "colab_type": "code",
    "executionInfo": {
     "elapsed": 26407,
     "status": "ok",
     "timestamp": 1560000764846,
     "user": {
      "displayName": "Anthony So",
      "photoUrl": "",
      "userId": "03884734268114843291"
     },
     "user_tz": -600
    },
    "id": "XqLXb69a-CNH",
    "outputId": "57257ac0-1dee-4255-c9e0-94498907bc5a"
   },
   "outputs": [
    {
     "name": "stdout",
     "output_type": "stream",
     "text": [
      "/home/anthony/Projects/42028-assignment3\n",
      "\u001b[0m\u001b[01;31mAnnotations_Train_mscoco.zip\u001b[0m  Pipfile.lock                \u001b[01;31mtrain2014.zip\u001b[0m\r\n",
      "\u001b[01;31mAnnotations_Val_mscoco.zip\u001b[0m    \u001b[01;34mpredict\u001b[0m/                    train_set_index.csv\r\n",
      "app.py                        \u001b[01;34m__pycache__\u001b[0m/                \u001b[01;34muploads\u001b[0m/\r\n",
      "\u001b[01;34mdata\u001b[0m/                         \u001b[01;31mQuestions_Train_mscoco.zip\u001b[0m  \u001b[01;31mval2014.zip\u001b[0m\r\n",
      "\u001b[01;34mmodels\u001b[0m/                       \u001b[01;31mQuestions_Val_mscoco.zip\u001b[0m    val_set_index.csv\r\n",
      "\u001b[01;34mmodel_training\u001b[0m/               README.md                   \u001b[01;34mVQA\u001b[0m/\r\n",
      "\u001b[01;34mnotebooks\u001b[0m/                    settings.py\r\n",
      "Pipfile                       \u001b[01;34mtemplates\u001b[0m/\r\n"
     ]
    }
   ],
   "source": [
    "%cd /home/anthony/Projects/42028-assignment3/\n",
    "#%cd /content/gdrive/My Drive/42028-DL-CNN/Assignment3/\n",
    "%ls"
   ]
  },
  {
   "cell_type": "markdown",
   "metadata": {
    "colab_type": "text",
    "id": "oBZI-l33-RZF"
   },
   "source": [
    "# Prepare Training and Validation Dataframes"
   ]
  },
  {
   "cell_type": "code",
   "execution_count": 4,
   "metadata": {
    "colab": {},
    "colab_type": "code",
    "id": "f2XPqWJx-SIQ"
   },
   "outputs": [],
   "source": [
    "def list_images_from_dir(path):\n",
    "  #img_list = glob.glob(path + '/*.jpg')\n",
    "  img_list = os.listdir(path)\n",
    "  img_list = [img.replace(path, '') for img in img_list]\n",
    "  print(len(img_list))\n",
    "  return img_list\n",
    "\n",
    "def remove_missing_images(df, col_name, img_list):\n",
    "  return df[df[col_name].isin(img_list)]"
   ]
  },
  {
   "cell_type": "markdown",
   "metadata": {
    "colab_type": "text",
    "id": "tW9oWQkW-hth"
   },
   "source": [
    "## Prepare train"
   ]
  },
  {
   "cell_type": "code",
   "execution_count": 0,
   "metadata": {
    "colab": {},
    "colab_type": "code",
    "id": "uMbNNdu7-eGT"
   },
   "outputs": [],
   "source": [
    "#with open('data/coco/annotations/instances_train2014.json') as json_file:  \n",
    "with open('data/coco/annotations/annotations/instances_train2014.json') as json_file:  \n",
    "    train_data = json.load(json_file)"
   ]
  },
  {
   "cell_type": "code",
   "execution_count": 0,
   "metadata": {
    "colab": {},
    "colab_type": "code",
    "id": "BwiAB3QdAOxi"
   },
   "outputs": [],
   "source": [
    "images_df = pd.DataFrame(train_data['images'])\n",
    "annotations_df = pd.DataFrame(train_data['annotations'])\n",
    "categories_df = pd.DataFrame(train_data['categories'])\n",
    "images_df = images_df[['file_name','height','id','width']]\n",
    "annotations_df = annotations_df[['category_id','image_id']]\n",
    "categories_df = categories_df[['id', 'name']]\n",
    "\n",
    "train_set = annotations_df.merge(images_df, how='left', left_on='image_id', right_on='id').drop('id', axis=1)\n",
    "train_set = train_set.merge(categories_df, how='left', left_on='category_id', right_on='id').drop('id', axis=1)"
   ]
  },
  {
   "cell_type": "code",
   "execution_count": 0,
   "metadata": {
    "colab": {},
    "colab_type": "code",
    "id": "0-yFrss629L2"
   },
   "outputs": [],
   "source": [
    "train_dir = \"data/coco/images/train2014/\"\n",
    "train_img_list_file = 'data/coco/images/train2014_img_list.pkl'"
   ]
  },
  {
   "cell_type": "code",
   "execution_count": 0,
   "metadata": {
    "colab": {},
    "colab_type": "code",
    "id": "5zsiaW4sGJN0"
   },
   "outputs": [],
   "source": [
    "with open (train_img_list_file, 'rb') as fp:\n",
    "    train_images = pickle.load(fp)\n",
    "len(train_images)"
   ]
  },
  {
   "cell_type": "code",
   "execution_count": 0,
   "metadata": {
    "colab": {},
    "colab_type": "code",
    "id": "CGVJeJms-eKv"
   },
   "outputs": [],
   "source": [
    "train_set = remove_missing_images(train_set, 'file_name', train_images)\n",
    "\n",
    "train_set.shape, train_set['name'].nunique()"
   ]
  },
  {
   "cell_type": "markdown",
   "metadata": {
    "colab_type": "text",
    "id": "MY1BBvlz-oci"
   },
   "source": [
    "# Train Image Model"
   ]
  },
  {
   "cell_type": "code",
   "execution_count": 0,
   "metadata": {
    "colab": {
     "base_uri": "https://localhost:8080/",
     "height": 51
    },
    "colab_type": "code",
    "executionInfo": {
     "elapsed": 6668,
     "status": "ok",
     "timestamp": 1559880274494,
     "user": {
      "displayName": "Anthony So",
      "photoUrl": "",
      "userId": "03884734268114843291"
     },
     "user_tz": -600
    },
    "id": "oQSGo6WZ-sHF",
    "outputId": "78514f25-584f-497f-8cda-21890f79c4fb"
   },
   "outputs": [
    {
     "name": "stdout",
     "output_type": "stream",
     "text": [
      "mkdir: cannot create directory ‘models’: File exists\n",
      "mkdir: cannot create directory ‘models/vgg19’: File exists\n"
     ]
    }
   ],
   "source": [
    "%mkdir models\n",
    "%mkdir models/vgg19"
   ]
  },
  {
   "cell_type": "code",
   "execution_count": 0,
   "metadata": {
    "colab": {},
    "colab_type": "code",
    "id": "s-YkPsYg-w1N"
   },
   "outputs": [],
   "source": [
    "# Updated to do image augmentation\n",
    "train_datagen = ImageDataGenerator(rescale=1./255)\n",
    "\n",
    "train_generator=train_datagen.flow_from_dataframe(\n",
    "    dataframe=train_set, \n",
    "    directory=train_dir, \n",
    "    x_col=\"file_name\", \n",
    "    y_col=\"name\", \n",
    "    class_mode=\"categorical\", \n",
    "    target_size=(150, 150), \n",
    "    batch_size=32)\n"
   ]
  },
  {
   "cell_type": "markdown",
   "metadata": {
    "colab_type": "text",
    "id": "uzq-2TNG_FVR"
   },
   "source": [
    "# Update model to extract Feature Maps Layer"
   ]
  },
  {
   "cell_type": "code",
   "execution_count": 0,
   "metadata": {
    "colab": {},
    "colab_type": "code",
    "id": "aM8qPPsR_GUd"
   },
   "outputs": [],
   "source": [
    "model_name = f'models/vgg19/vgg19_feature_extractor.h5'"
   ]
  },
  {
   "cell_type": "code",
   "execution_count": 0,
   "metadata": {
    "colab": {},
    "colab_type": "code",
    "id": "mr23dAk6_Gab"
   },
   "outputs": [],
   "source": [
    "model_feat_extract = keras.models.load_model(model_name)"
   ]
  },
  {
   "cell_type": "markdown",
   "metadata": {
    "colab_type": "text",
    "id": "fl9Qsm-Q_JxT"
   },
   "source": [
    "# Extract Feature Maps"
   ]
  },
  {
   "cell_type": "code",
   "execution_count": 0,
   "metadata": {
    "colab": {},
    "colab_type": "code",
    "id": "KW-r1TTj_X0o"
   },
   "outputs": [],
   "source": [
    "step_size_train=train_generator.n//10\n",
    "train_preds = model_feat_extract.predict_generator(train_generator, max_queue_size=10, workers=-1, use_multiprocessing=True, verbose=1, steps=step_size_train)\n",
    "\n",
    "with h5py.File('vgg19_img_features_train.h5','w') as hf:\n",
    "  hf.create_dataset('train', data=train_preds)"
   ]
  },
  {
   "cell_type": "code",
   "execution_count": 0,
   "metadata": {
    "colab": {},
    "colab_type": "code",
    "id": "_7uJvLne_aCz"
   },
   "outputs": [],
   "source": [
    "with h5py.File(img_feature_file,'r') as hf:\n",
    "  train_img_feats =  np.array(hf.get('train'))\n",
    "  val_img_feats =  np.array(hf.get('val'))"
   ]
  }
 ],
 "metadata": {
  "accelerator": "GPU",
  "colab": {
   "collapsed_sections": [],
   "name": "VGG19_Image_Model_Training.ipynb",
   "provenance": [],
   "version": "0.3.2"
  },
  "kernelspec": {
   "display_name": "TensorFlow-GPU",
   "language": "python",
   "name": "tf-gpu"
  },
  "language_info": {
   "codemirror_mode": {
    "name": "ipython",
    "version": 3
   },
   "file_extension": ".py",
   "mimetype": "text/x-python",
   "name": "python",
   "nbconvert_exporter": "python",
   "pygments_lexer": "ipython3",
   "version": "3.7.3"
  }
 },
 "nbformat": 4,
 "nbformat_minor": 1
}
